{
    "metadata": {
        "kernelspec": {
            "name": "SQL",
            "display_name": "SQL",
            "language": "sql"
        },
        "language_info": {
            "name": "sql",
            "version": ""
        }
    },
    "nbformat_minor": 2,
    "nbformat": 4,
    "cells": [
        {
            "cell_type": "markdown",
            "source": [
                "Chamroeun Chhay\n",
                "\n",
                "<span style=\"color: var(--vscode-foreground); font-family: -apple-system, BlinkMacSystemFont, sans-serif;\">Data Management SQL Assignment 2&nbsp;</span> \n",
                "\n",
                "Problem 1 Part A \n",
                "\n",
                "<span id=\"docs-internal-guid-e48cd2ae-7fff-023a-a510-75524473211e\" style=\"caret-color: rgb(0, 0, 0); color: rgb(0, 0, 0);\"><span style=\"font-size: 12pt; font-family: &quot;Times New Roman&quot;, serif; background-color: transparent; font-variant-alternates: normal; font-variant-numeric: normal; font-variant-east-asian: normal; vertical-align: baseline; white-space-collapse: preserve;\">The sales manager would first like to know the total sales revenue associated with each sales territory.&nbsp; Create a report showing the total sales revenue broken out by territory name.&nbsp; You can determine this by adding together the SubTotal figures from the relevant SalesOrderHeader records.&nbsp; Round the revenue figures to the nearest dollar and sort the list so that the highest revenue territory appears first.</span></span>"
            ],
            "metadata": {
                "azdata_cell_guid": "b950bb8e-c3b0-4705-9a76-75d70d8da20b"
            },
            "attachments": {}
        },
        {
            "cell_type": "code",
            "source": [
                "SELECT t.Name\n",
                "    , CAST(SUM(SubTotal) AS INTEGER) AS SalesRevenue\n",
                "FROM Sales.SalesOrderHeader s\n",
                "INNER JOIN Sales.SalesTerritory t\n",
                "ON s.TerritoryID = t.TerritoryID\n",
                "GROUP BY t.Name \n",
                "ORDER BY SalesRevenue DESC "
            ],
            "metadata": {
                "azdata_cell_guid": "98fb9ae6-6ed1-4593-b0cc-2050e1d7bab6",
                "language": "sql"
            },
            "outputs": [
                {
                    "output_type": "display_data",
                    "data": {
                        "text/html": "(10 rows affected)"
                    },
                    "metadata": {}
                },
                {
                    "output_type": "display_data",
                    "data": {
                        "text/html": "Total execution time: 00:00:00.054"
                    },
                    "metadata": {}
                },
                {
                    "output_type": "execute_result",
                    "metadata": {},
                    "execution_count": 49,
                    "data": {
                        "application/vnd.dataresource+json": {
                            "schema": {
                                "fields": [
                                    {
                                        "name": "Name"
                                    },
                                    {
                                        "name": "SalesRevenue"
                                    }
                                ]
                            },
                            "data": [
                                {
                                    "Name": "Southwest",
                                    "SalesRevenue": "24184610"
                                },
                                {
                                    "Name": "Canada",
                                    "SalesRevenue": "16355770"
                                },
                                {
                                    "Name": "Northwest",
                                    "SalesRevenue": "16084943"
                                },
                                {
                                    "Name": "Australia",
                                    "SalesRevenue": "10655336"
                                },
                                {
                                    "Name": "Central",
                                    "SalesRevenue": "7909009"
                                },
                                {
                                    "Name": "Southeast",
                                    "SalesRevenue": "7879655"
                                },
                                {
                                    "Name": "United Kingdom",
                                    "SalesRevenue": "7670721"
                                },
                                {
                                    "Name": "France",
                                    "SalesRevenue": "7251556"
                                },
                                {
                                    "Name": "Northeast",
                                    "SalesRevenue": "6939374"
                                },
                                {
                                    "Name": "Germany",
                                    "SalesRevenue": "4915408"
                                }
                            ]
                        },
                        "text/html": [
                            "<table>",
                            "<tr><th>Name</th><th>SalesRevenue</th></tr>",
                            "<tr><td>Southwest</td><td>24184610</td></tr>",
                            "<tr><td>Canada</td><td>16355770</td></tr>",
                            "<tr><td>Northwest</td><td>16084943</td></tr>",
                            "<tr><td>Australia</td><td>10655336</td></tr>",
                            "<tr><td>Central</td><td>7909009</td></tr>",
                            "<tr><td>Southeast</td><td>7879655</td></tr>",
                            "<tr><td>United Kingdom</td><td>7670721</td></tr>",
                            "<tr><td>France</td><td>7251556</td></tr>",
                            "<tr><td>Northeast</td><td>6939374</td></tr>",
                            "<tr><td>Germany</td><td>4915408</td></tr>",
                            "</table>"
                        ]
                    }
                }
            ],
            "execution_count": 49
        },
        {
            "cell_type": "markdown",
            "source": [
                "Problem 1 Part B \n",
                "\n",
                "<span id=\"docs-internal-guid-41bf6647-7fff-5d45-70ab-f0b3b283efa6\" style=\"caret-color: rgb(0, 0, 0); color: rgb(0, 0, 0);\"><p dir=\"ltr\" style=\"line-height: 1.38; margin-top: 0pt; margin-bottom: 0pt;\"><span style=\"font-size: 12pt; font-family: &quot;Times New Roman&quot;, serif; background-color: transparent; font-variant-alternates: normal; font-variant-numeric: normal; font-variant-east-asian: normal; vertical-align: baseline; white-space-collapse: preserve;\">The sales manager would now like to drill into the 2013 sales results.&nbsp; Revise your query from Part A to focus only on results from 2013 and break the results down by month.&nbsp; Your result set should include four columns: Name (of the territory), Month, Year, and SalesRevenue.&nbsp; This time, sort the list first by territory name, then by month.</span></p></span>"
            ],
            "metadata": {
                "azdata_cell_guid": "050551a3-00d6-4b1b-aa79-59a8874c18ec"
            },
            "attachments": {}
        },
        {
            "cell_type": "code",
            "source": [
                "SELECT t.Name\n",
                "    , DATEPART(MONTH, s.OrderDate) AS Month \n",
                "    , DATEPART(YEAR, s.OrderDate) AS Year \n",
                "    , ROUND(SUM(SubTotal), 0) AS SalesRevenue\n",
                "FROM Sales.SalesOrderHeader s\n",
                "INNER JOIN Sales.SalesTerritory t\n",
                "ON s.TerritoryID = t.TerritoryID\n",
                "WHERE DATEPART(YEAR, s.OrderDate) = '2013'\n",
                "GROUP BY t.Name, DATEPART(MONTH, s.OrderDate), DATEPART(YEAR, s.OrderDate)\n",
                "ORDER BY t.Name, Month"
            ],
            "metadata": {
                "azdata_cell_guid": "2c1f87cb-6bf6-44d7-b833-77a50d0e9771",
                "language": "sql",
                "tags": []
            },
            "outputs": [
                {
                    "output_type": "display_data",
                    "data": {
                        "text/html": "(120 rows affected)"
                    },
                    "metadata": {}
                },
                {
                    "output_type": "display_data",
                    "data": {
                        "text/html": "Total execution time: 00:00:00.055"
                    },
                    "metadata": {}
                },
                {
                    "output_type": "execute_result",
                    "metadata": {},
                    "execution_count": 36,
                    "data": {
                        "application/vnd.dataresource+json": {
                            "schema": {
                                "fields": [
                                    {
                                        "name": "Name"
                                    },
                                    {
                                        "name": "Month"
                                    },
                                    {
                                        "name": "Year"
                                    },
                                    {
                                        "name": "SalesRevenue"
                                    }
                                ]
                            },
                            "data": [
                                {
                                    "Name": "Australia",
                                    "Month": "1",
                                    "Year": "2013",
                                    "SalesRevenue": "222514.00"
                                },
                                {
                                    "Name": "Australia",
                                    "Month": "2",
                                    "Year": "2013",
                                    "SalesRevenue": "177688.00"
                                },
                                {
                                    "Name": "Australia",
                                    "Month": "3",
                                    "Year": "2013",
                                    "SalesRevenue": "215688.00"
                                },
                                {
                                    "Name": "Australia",
                                    "Month": "4",
                                    "Year": "2013",
                                    "SalesRevenue": "205166.00"
                                },
                                {
                                    "Name": "Australia",
                                    "Month": "5",
                                    "Year": "2013",
                                    "SalesRevenue": "252419.00"
                                },
                                {
                                    "Name": "Australia",
                                    "Month": "6",
                                    "Year": "2013",
                                    "SalesRevenue": "380029.00"
                                },
                                {
                                    "Name": "Australia",
                                    "Month": "7",
                                    "Year": "2013",
                                    "SalesRevenue": "456778.00"
                                },
                                {
                                    "Name": "Australia",
                                    "Month": "8",
                                    "Year": "2013",
                                    "SalesRevenue": "394786.00"
                                },
                                {
                                    "Name": "Australia",
                                    "Month": "9",
                                    "Year": "2013",
                                    "SalesRevenue": "457110.00"
                                },
                                {
                                    "Name": "Australia",
                                    "Month": "10",
                                    "Year": "2013",
                                    "SalesRevenue": "572304.00"
                                },
                                {
                                    "Name": "Australia",
                                    "Month": "11",
                                    "Year": "2013",
                                    "SalesRevenue": "427533.00"
                                },
                                {
                                    "Name": "Australia",
                                    "Month": "12",
                                    "Year": "2013",
                                    "SalesRevenue": "468650.00"
                                },
                                {
                                    "Name": "Canada",
                                    "Month": "1",
                                    "Year": "2013",
                                    "SalesRevenue": "417125.00"
                                },
                                {
                                    "Name": "Canada",
                                    "Month": "2",
                                    "Year": "2013",
                                    "SalesRevenue": "461556.00"
                                },
                                {
                                    "Name": "Canada",
                                    "Month": "3",
                                    "Year": "2013",
                                    "SalesRevenue": "485927.00"
                                },
                                {
                                    "Name": "Canada",
                                    "Month": "4",
                                    "Year": "2013",
                                    "SalesRevenue": "467353.00"
                                },
                                {
                                    "Name": "Canada",
                                    "Month": "5",
                                    "Year": "2013",
                                    "SalesRevenue": "510801.00"
                                },
                                {
                                    "Name": "Canada",
                                    "Month": "6",
                                    "Year": "2013",
                                    "SalesRevenue": "607975.00"
                                },
                                {
                                    "Name": "Canada",
                                    "Month": "7",
                                    "Year": "2013",
                                    "SalesRevenue": "733453.00"
                                },
                                {
                                    "Name": "Canada",
                                    "Month": "8",
                                    "Year": "2013",
                                    "SalesRevenue": "467319.00"
                                },
                                {
                                    "Name": "Canada",
                                    "Month": "9",
                                    "Year": "2013",
                                    "SalesRevenue": "480936.00"
                                },
                                {
                                    "Name": "Canada",
                                    "Month": "10",
                                    "Year": "2013",
                                    "SalesRevenue": "804615.00"
                                },
                                {
                                    "Name": "Canada",
                                    "Month": "11",
                                    "Year": "2013",
                                    "SalesRevenue": "356269.00"
                                },
                                {
                                    "Name": "Canada",
                                    "Month": "12",
                                    "Year": "2013",
                                    "SalesRevenue": "436189.00"
                                },
                                {
                                    "Name": "Central",
                                    "Month": "1",
                                    "Year": "2013",
                                    "SalesRevenue": "179655.00"
                                },
                                {
                                    "Name": "Central",
                                    "Month": "2",
                                    "Year": "2013",
                                    "SalesRevenue": "193947.00"
                                },
                                {
                                    "Name": "Central",
                                    "Month": "3",
                                    "Year": "2013",
                                    "SalesRevenue": "283992.00"
                                },
                                {
                                    "Name": "Central",
                                    "Month": "4",
                                    "Year": "2013",
                                    "SalesRevenue": "220322.00"
                                },
                                {
                                    "Name": "Central",
                                    "Month": "5",
                                    "Year": "2013",
                                    "SalesRevenue": "216804.00"
                                },
                                {
                                    "Name": "Central",
                                    "Month": "6",
                                    "Year": "2013",
                                    "SalesRevenue": "378578.00"
                                },
                                {
                                    "Name": "Central",
                                    "Month": "7",
                                    "Year": "2013",
                                    "SalesRevenue": "348164.00"
                                },
                                {
                                    "Name": "Central",
                                    "Month": "8",
                                    "Year": "2013",
                                    "SalesRevenue": "162558.00"
                                },
                                {
                                    "Name": "Central",
                                    "Month": "9",
                                    "Year": "2013",
                                    "SalesRevenue": "324853.00"
                                },
                                {
                                    "Name": "Central",
                                    "Month": "10",
                                    "Year": "2013",
                                    "SalesRevenue": "317443.00"
                                },
                                {
                                    "Name": "Central",
                                    "Month": "11",
                                    "Year": "2013",
                                    "SalesRevenue": "113958.00"
                                },
                                {
                                    "Name": "Central",
                                    "Month": "12",
                                    "Year": "2013",
                                    "SalesRevenue": "253954.00"
                                },
                                {
                                    "Name": "France",
                                    "Month": "1",
                                    "Year": "2013",
                                    "SalesRevenue": "108416.00"
                                },
                                {
                                    "Name": "France",
                                    "Month": "2",
                                    "Year": "2013",
                                    "SalesRevenue": "123079.00"
                                },
                                {
                                    "Name": "France",
                                    "Month": "3",
                                    "Year": "2013",
                                    "SalesRevenue": "246492.00"
                                },
                                {
                                    "Name": "France",
                                    "Month": "4",
                                    "Year": "2013",
                                    "SalesRevenue": "138184.00"
                                },
                                {
                                    "Name": "France",
                                    "Month": "5",
                                    "Year": "2013",
                                    "SalesRevenue": "151473.00"
                                },
                                {
                                    "Name": "France",
                                    "Month": "6",
                                    "Year": "2013",
                                    "SalesRevenue": "800815.00"
                                },
                                {
                                    "Name": "France",
                                    "Month": "7",
                                    "Year": "2013",
                                    "SalesRevenue": "281400.00"
                                },
                                {
                                    "Name": "France",
                                    "Month": "8",
                                    "Year": "2013",
                                    "SalesRevenue": "163919.00"
                                },
                                {
                                    "Name": "France",
                                    "Month": "9",
                                    "Year": "2013",
                                    "SalesRevenue": "713907.00"
                                },
                                {
                                    "Name": "France",
                                    "Month": "10",
                                    "Year": "2013",
                                    "SalesRevenue": "270755.00"
                                },
                                {
                                    "Name": "France",
                                    "Month": "11",
                                    "Year": "2013",
                                    "SalesRevenue": "224719.00"
                                },
                                {
                                    "Name": "France",
                                    "Month": "12",
                                    "Year": "2013",
                                    "SalesRevenue": "583347.00"
                                },
                                {
                                    "Name": "Germany",
                                    "Month": "1",
                                    "Year": "2013",
                                    "SalesRevenue": "69561.00"
                                },
                                {
                                    "Name": "Germany",
                                    "Month": "2",
                                    "Year": "2013",
                                    "SalesRevenue": "56643.00"
                                },
                                {
                                    "Name": "Germany",
                                    "Month": "3",
                                    "Year": "2013",
                                    "SalesRevenue": "66450.00"
                                },
                                {
                                    "Name": "Germany",
                                    "Month": "4",
                                    "Year": "2013",
                                    "SalesRevenue": "56416.00"
                                },
                                {
                                    "Name": "Germany",
                                    "Month": "5",
                                    "Year": "2013",
                                    "SalesRevenue": "252220.00"
                                },
                                {
                                    "Name": "Germany",
                                    "Month": "6",
                                    "Year": "2013",
                                    "SalesRevenue": "362450.00"
                                },
                                {
                                    "Name": "Germany",
                                    "Month": "7",
                                    "Year": "2013",
                                    "SalesRevenue": "225865.00"
                                },
                                {
                                    "Name": "Germany",
                                    "Month": "8",
                                    "Year": "2013",
                                    "SalesRevenue": "308561.00"
                                },
                                {
                                    "Name": "Germany",
                                    "Month": "9",
                                    "Year": "2013",
                                    "SalesRevenue": "294496.00"
                                },
                                {
                                    "Name": "Germany",
                                    "Month": "10",
                                    "Year": "2013",
                                    "SalesRevenue": "276967.00"
                                },
                                {
                                    "Name": "Germany",
                                    "Month": "11",
                                    "Year": "2013",
                                    "SalesRevenue": "287291.00"
                                },
                                {
                                    "Name": "Germany",
                                    "Month": "12",
                                    "Year": "2013",
                                    "SalesRevenue": "308301.00"
                                },
                                {
                                    "Name": "Northeast",
                                    "Month": "1",
                                    "Year": "2013",
                                    "SalesRevenue": "152396.00"
                                },
                                {
                                    "Name": "Northeast",
                                    "Month": "2",
                                    "Year": "2013",
                                    "SalesRevenue": "335169.00"
                                },
                                {
                                    "Name": "Northeast",
                                    "Month": "3",
                                    "Year": "2013",
                                    "SalesRevenue": "341011.00"
                                },
                                {
                                    "Name": "Northeast",
                                    "Month": "4",
                                    "Year": "2013",
                                    "SalesRevenue": "178885.00"
                                },
                                {
                                    "Name": "Northeast",
                                    "Month": "5",
                                    "Year": "2013",
                                    "SalesRevenue": "190500.00"
                                },
                                {
                                    "Name": "Northeast",
                                    "Month": "6",
                                    "Year": "2013",
                                    "SalesRevenue": "286993.00"
                                },
                                {
                                    "Name": "Northeast",
                                    "Month": "7",
                                    "Year": "2013",
                                    "SalesRevenue": "273329.00"
                                },
                                {
                                    "Name": "Northeast",
                                    "Month": "8",
                                    "Year": "2013",
                                    "SalesRevenue": "189074.00"
                                },
                                {
                                    "Name": "Northeast",
                                    "Month": "9",
                                    "Year": "2013",
                                    "SalesRevenue": "181179.00"
                                },
                                {
                                    "Name": "Northeast",
                                    "Month": "10",
                                    "Year": "2013",
                                    "SalesRevenue": "221905.00"
                                },
                                {
                                    "Name": "Northeast",
                                    "Month": "11",
                                    "Year": "2013",
                                    "SalesRevenue": "140163.00"
                                },
                                {
                                    "Name": "Northeast",
                                    "Month": "12",
                                    "Year": "2013",
                                    "SalesRevenue": "140656.00"
                                },
                                {
                                    "Name": "Northwest",
                                    "Month": "1",
                                    "Year": "2013",
                                    "SalesRevenue": "118274.00"
                                },
                                {
                                    "Name": "Northwest",
                                    "Month": "2",
                                    "Year": "2013",
                                    "SalesRevenue": "259074.00"
                                },
                                {
                                    "Name": "Northwest",
                                    "Month": "3",
                                    "Year": "2013",
                                    "SalesRevenue": "546006.00"
                                },
                                {
                                    "Name": "Northwest",
                                    "Month": "4",
                                    "Year": "2013",
                                    "SalesRevenue": "148982.00"
                                },
                                {
                                    "Name": "Northwest",
                                    "Month": "5",
                                    "Year": "2013",
                                    "SalesRevenue": "431414.00"
                                },
                                {
                                    "Name": "Northwest",
                                    "Month": "6",
                                    "Year": "2013",
                                    "SalesRevenue": "820494.00"
                                },
                                {
                                    "Name": "Northwest",
                                    "Month": "7",
                                    "Year": "2013",
                                    "SalesRevenue": "702756.00"
                                },
                                {
                                    "Name": "Northwest",
                                    "Month": "8",
                                    "Year": "2013",
                                    "SalesRevenue": "418150.00"
                                },
                                {
                                    "Name": "Northwest",
                                    "Month": "9",
                                    "Year": "2013",
                                    "SalesRevenue": "711921.00"
                                },
                                {
                                    "Name": "Northwest",
                                    "Month": "10",
                                    "Year": "2013",
                                    "SalesRevenue": "676266.00"
                                },
                                {
                                    "Name": "Northwest",
                                    "Month": "11",
                                    "Year": "2013",
                                    "SalesRevenue": "544111.00"
                                },
                                {
                                    "Name": "Northwest",
                                    "Month": "12",
                                    "Year": "2013",
                                    "SalesRevenue": "637728.00"
                                },
                                {
                                    "Name": "Southeast",
                                    "Month": "1",
                                    "Year": "2013",
                                    "SalesRevenue": "139830.00"
                                },
                                {
                                    "Name": "Southeast",
                                    "Month": "2",
                                    "Year": "2013",
                                    "SalesRevenue": "174644.00"
                                },
                                {
                                    "Name": "Southeast",
                                    "Month": "3",
                                    "Year": "2013",
                                    "SalesRevenue": "213206.00"
                                },
                                {
                                    "Name": "Southeast",
                                    "Month": "4",
                                    "Year": "2013",
                                    "SalesRevenue": "209090.00"
                                },
                                {
                                    "Name": "Southeast",
                                    "Month": "5",
                                    "Year": "2013",
                                    "SalesRevenue": "177763.00"
                                },
                                {
                                    "Name": "Southeast",
                                    "Month": "6",
                                    "Year": "2013",
                                    "SalesRevenue": "274597.00"
                                },
                                {
                                    "Name": "Southeast",
                                    "Month": "7",
                                    "Year": "2013",
                                    "SalesRevenue": "289525.00"
                                },
                                {
                                    "Name": "Southeast",
                                    "Month": "8",
                                    "Year": "2013",
                                    "SalesRevenue": "161507.00"
                                },
                                {
                                    "Name": "Southeast",
                                    "Month": "9",
                                    "Year": "2013",
                                    "SalesRevenue": "233699.00"
                                },
                                {
                                    "Name": "Southeast",
                                    "Month": "10",
                                    "Year": "2013",
                                    "SalesRevenue": "219936.00"
                                },
                                {
                                    "Name": "Southeast",
                                    "Month": "11",
                                    "Year": "2013",
                                    "SalesRevenue": "114993.00"
                                },
                                {
                                    "Name": "Southeast",
                                    "Month": "12",
                                    "Year": "2013",
                                    "SalesRevenue": "191157.00"
                                },
                                {
                                    "Name": "Southwest",
                                    "Month": "1",
                                    "Year": "2013",
                                    "SalesRevenue": "494888.00"
                                },
                                {
                                    "Name": "Southwest",
                                    "Month": "2",
                                    "Year": "2013",
                                    "SalesRevenue": "431230.00"
                                },
                                {
                                    "Name": "Southwest",
                                    "Month": "3",
                                    "Year": "2013",
                                    "SalesRevenue": "846761.00"
                                },
                                {
                                    "Name": "Southwest",
                                    "Month": "4",
                                    "Year": "2013",
                                    "SalesRevenue": "710288.00"
                                },
                                {
                                    "Name": "Southwest",
                                    "Month": "5",
                                    "Year": "2013",
                                    "SalesRevenue": "848815.00"
                                },
                                {
                                    "Name": "Southwest",
                                    "Month": "6",
                                    "Year": "2013",
                                    "SalesRevenue": "827496.00"
                                },
                                {
                                    "Name": "Southwest",
                                    "Month": "7",
                                    "Year": "2013",
                                    "SalesRevenue": "967045.00"
                                },
                                {
                                    "Name": "Southwest",
                                    "Month": "8",
                                    "Year": "2013",
                                    "SalesRevenue": "814277.00"
                                },
                                {
                                    "Name": "Southwest",
                                    "Month": "9",
                                    "Year": "2013",
                                    "SalesRevenue": "787346.00"
                                },
                                {
                                    "Name": "Southwest",
                                    "Month": "10",
                                    "Year": "2013",
                                    "SalesRevenue": "833388.00"
                                },
                                {
                                    "Name": "Southwest",
                                    "Month": "11",
                                    "Year": "2013",
                                    "SalesRevenue": "805845.00"
                                },
                                {
                                    "Name": "Southwest",
                                    "Month": "12",
                                    "Year": "2013",
                                    "SalesRevenue": "749160.00"
                                },
                                {
                                    "Name": "United Kingdom",
                                    "Month": "1",
                                    "Year": "2013",
                                    "SalesRevenue": "185214.00"
                                },
                                {
                                    "Name": "United Kingdom",
                                    "Month": "2",
                                    "Year": "2013",
                                    "SalesRevenue": "103892.00"
                                },
                                {
                                    "Name": "United Kingdom",
                                    "Month": "3",
                                    "Year": "2013",
                                    "SalesRevenue": "166536.00"
                                },
                                {
                                    "Name": "United Kingdom",
                                    "Month": "4",
                                    "Year": "2013",
                                    "SalesRevenue": "197580.00"
                                },
                                {
                                    "Name": "United Kingdom",
                                    "Month": "5",
                                    "Year": "2013",
                                    "SalesRevenue": "213417.00"
                                },
                                {
                                    "Name": "United Kingdom",
                                    "Month": "6",
                                    "Year": "2013",
                                    "SalesRevenue": "341642.00"
                                },
                                {
                                    "Name": "United Kingdom",
                                    "Month": "7",
                                    "Year": "2013",
                                    "SalesRevenue": "618040.00"
                                },
                                {
                                    "Name": "United Kingdom",
                                    "Month": "8",
                                    "Year": "2013",
                                    "SalesRevenue": "253814.00"
                                },
                                {
                                    "Name": "United Kingdom",
                                    "Month": "9",
                                    "Year": "2013",
                                    "SalesRevenue": "347462.00"
                                },
                                {
                                    "Name": "United Kingdom",
                                    "Month": "10",
                                    "Year": "2013",
                                    "SalesRevenue": "602234.00"
                                },
                                {
                                    "Name": "United Kingdom",
                                    "Month": "11",
                                    "Year": "2013",
                                    "SalesRevenue": "297249.00"
                                },
                                {
                                    "Name": "United Kingdom",
                                    "Month": "12",
                                    "Year": "2013",
                                    "SalesRevenue": "306343.00"
                                }
                            ]
                        },
                        "text/html": [
                            "<table>",
                            "<tr><th>Name</th><th>Month</th><th>Year</th><th>SalesRevenue</th></tr>",
                            "<tr><td>Australia</td><td>1</td><td>2013</td><td>222514.00</td></tr>",
                            "<tr><td>Australia</td><td>2</td><td>2013</td><td>177688.00</td></tr>",
                            "<tr><td>Australia</td><td>3</td><td>2013</td><td>215688.00</td></tr>",
                            "<tr><td>Australia</td><td>4</td><td>2013</td><td>205166.00</td></tr>",
                            "<tr><td>Australia</td><td>5</td><td>2013</td><td>252419.00</td></tr>",
                            "<tr><td>Australia</td><td>6</td><td>2013</td><td>380029.00</td></tr>",
                            "<tr><td>Australia</td><td>7</td><td>2013</td><td>456778.00</td></tr>",
                            "<tr><td>Australia</td><td>8</td><td>2013</td><td>394786.00</td></tr>",
                            "<tr><td>Australia</td><td>9</td><td>2013</td><td>457110.00</td></tr>",
                            "<tr><td>Australia</td><td>10</td><td>2013</td><td>572304.00</td></tr>",
                            "<tr><td>Australia</td><td>11</td><td>2013</td><td>427533.00</td></tr>",
                            "<tr><td>Australia</td><td>12</td><td>2013</td><td>468650.00</td></tr>",
                            "<tr><td>Canada</td><td>1</td><td>2013</td><td>417125.00</td></tr>",
                            "<tr><td>Canada</td><td>2</td><td>2013</td><td>461556.00</td></tr>",
                            "<tr><td>Canada</td><td>3</td><td>2013</td><td>485927.00</td></tr>",
                            "<tr><td>Canada</td><td>4</td><td>2013</td><td>467353.00</td></tr>",
                            "<tr><td>Canada</td><td>5</td><td>2013</td><td>510801.00</td></tr>",
                            "<tr><td>Canada</td><td>6</td><td>2013</td><td>607975.00</td></tr>",
                            "<tr><td>Canada</td><td>7</td><td>2013</td><td>733453.00</td></tr>",
                            "<tr><td>Canada</td><td>8</td><td>2013</td><td>467319.00</td></tr>",
                            "<tr><td>Canada</td><td>9</td><td>2013</td><td>480936.00</td></tr>",
                            "<tr><td>Canada</td><td>10</td><td>2013</td><td>804615.00</td></tr>",
                            "<tr><td>Canada</td><td>11</td><td>2013</td><td>356269.00</td></tr>",
                            "<tr><td>Canada</td><td>12</td><td>2013</td><td>436189.00</td></tr>",
                            "<tr><td>Central</td><td>1</td><td>2013</td><td>179655.00</td></tr>",
                            "<tr><td>Central</td><td>2</td><td>2013</td><td>193947.00</td></tr>",
                            "<tr><td>Central</td><td>3</td><td>2013</td><td>283992.00</td></tr>",
                            "<tr><td>Central</td><td>4</td><td>2013</td><td>220322.00</td></tr>",
                            "<tr><td>Central</td><td>5</td><td>2013</td><td>216804.00</td></tr>",
                            "<tr><td>Central</td><td>6</td><td>2013</td><td>378578.00</td></tr>",
                            "<tr><td>Central</td><td>7</td><td>2013</td><td>348164.00</td></tr>",
                            "<tr><td>Central</td><td>8</td><td>2013</td><td>162558.00</td></tr>",
                            "<tr><td>Central</td><td>9</td><td>2013</td><td>324853.00</td></tr>",
                            "<tr><td>Central</td><td>10</td><td>2013</td><td>317443.00</td></tr>",
                            "<tr><td>Central</td><td>11</td><td>2013</td><td>113958.00</td></tr>",
                            "<tr><td>Central</td><td>12</td><td>2013</td><td>253954.00</td></tr>",
                            "<tr><td>France</td><td>1</td><td>2013</td><td>108416.00</td></tr>",
                            "<tr><td>France</td><td>2</td><td>2013</td><td>123079.00</td></tr>",
                            "<tr><td>France</td><td>3</td><td>2013</td><td>246492.00</td></tr>",
                            "<tr><td>France</td><td>4</td><td>2013</td><td>138184.00</td></tr>",
                            "<tr><td>France</td><td>5</td><td>2013</td><td>151473.00</td></tr>",
                            "<tr><td>France</td><td>6</td><td>2013</td><td>800815.00</td></tr>",
                            "<tr><td>France</td><td>7</td><td>2013</td><td>281400.00</td></tr>",
                            "<tr><td>France</td><td>8</td><td>2013</td><td>163919.00</td></tr>",
                            "<tr><td>France</td><td>9</td><td>2013</td><td>713907.00</td></tr>",
                            "<tr><td>France</td><td>10</td><td>2013</td><td>270755.00</td></tr>",
                            "<tr><td>France</td><td>11</td><td>2013</td><td>224719.00</td></tr>",
                            "<tr><td>France</td><td>12</td><td>2013</td><td>583347.00</td></tr>",
                            "<tr><td>Germany</td><td>1</td><td>2013</td><td>69561.00</td></tr>",
                            "<tr><td>Germany</td><td>2</td><td>2013</td><td>56643.00</td></tr>",
                            "<tr><td>Germany</td><td>3</td><td>2013</td><td>66450.00</td></tr>",
                            "<tr><td>Germany</td><td>4</td><td>2013</td><td>56416.00</td></tr>",
                            "<tr><td>Germany</td><td>5</td><td>2013</td><td>252220.00</td></tr>",
                            "<tr><td>Germany</td><td>6</td><td>2013</td><td>362450.00</td></tr>",
                            "<tr><td>Germany</td><td>7</td><td>2013</td><td>225865.00</td></tr>",
                            "<tr><td>Germany</td><td>8</td><td>2013</td><td>308561.00</td></tr>",
                            "<tr><td>Germany</td><td>9</td><td>2013</td><td>294496.00</td></tr>",
                            "<tr><td>Germany</td><td>10</td><td>2013</td><td>276967.00</td></tr>",
                            "<tr><td>Germany</td><td>11</td><td>2013</td><td>287291.00</td></tr>",
                            "<tr><td>Germany</td><td>12</td><td>2013</td><td>308301.00</td></tr>",
                            "<tr><td>Northeast</td><td>1</td><td>2013</td><td>152396.00</td></tr>",
                            "<tr><td>Northeast</td><td>2</td><td>2013</td><td>335169.00</td></tr>",
                            "<tr><td>Northeast</td><td>3</td><td>2013</td><td>341011.00</td></tr>",
                            "<tr><td>Northeast</td><td>4</td><td>2013</td><td>178885.00</td></tr>",
                            "<tr><td>Northeast</td><td>5</td><td>2013</td><td>190500.00</td></tr>",
                            "<tr><td>Northeast</td><td>6</td><td>2013</td><td>286993.00</td></tr>",
                            "<tr><td>Northeast</td><td>7</td><td>2013</td><td>273329.00</td></tr>",
                            "<tr><td>Northeast</td><td>8</td><td>2013</td><td>189074.00</td></tr>",
                            "<tr><td>Northeast</td><td>9</td><td>2013</td><td>181179.00</td></tr>",
                            "<tr><td>Northeast</td><td>10</td><td>2013</td><td>221905.00</td></tr>",
                            "<tr><td>Northeast</td><td>11</td><td>2013</td><td>140163.00</td></tr>",
                            "<tr><td>Northeast</td><td>12</td><td>2013</td><td>140656.00</td></tr>",
                            "<tr><td>Northwest</td><td>1</td><td>2013</td><td>118274.00</td></tr>",
                            "<tr><td>Northwest</td><td>2</td><td>2013</td><td>259074.00</td></tr>",
                            "<tr><td>Northwest</td><td>3</td><td>2013</td><td>546006.00</td></tr>",
                            "<tr><td>Northwest</td><td>4</td><td>2013</td><td>148982.00</td></tr>",
                            "<tr><td>Northwest</td><td>5</td><td>2013</td><td>431414.00</td></tr>",
                            "<tr><td>Northwest</td><td>6</td><td>2013</td><td>820494.00</td></tr>",
                            "<tr><td>Northwest</td><td>7</td><td>2013</td><td>702756.00</td></tr>",
                            "<tr><td>Northwest</td><td>8</td><td>2013</td><td>418150.00</td></tr>",
                            "<tr><td>Northwest</td><td>9</td><td>2013</td><td>711921.00</td></tr>",
                            "<tr><td>Northwest</td><td>10</td><td>2013</td><td>676266.00</td></tr>",
                            "<tr><td>Northwest</td><td>11</td><td>2013</td><td>544111.00</td></tr>",
                            "<tr><td>Northwest</td><td>12</td><td>2013</td><td>637728.00</td></tr>",
                            "<tr><td>Southeast</td><td>1</td><td>2013</td><td>139830.00</td></tr>",
                            "<tr><td>Southeast</td><td>2</td><td>2013</td><td>174644.00</td></tr>",
                            "<tr><td>Southeast</td><td>3</td><td>2013</td><td>213206.00</td></tr>",
                            "<tr><td>Southeast</td><td>4</td><td>2013</td><td>209090.00</td></tr>",
                            "<tr><td>Southeast</td><td>5</td><td>2013</td><td>177763.00</td></tr>",
                            "<tr><td>Southeast</td><td>6</td><td>2013</td><td>274597.00</td></tr>",
                            "<tr><td>Southeast</td><td>7</td><td>2013</td><td>289525.00</td></tr>",
                            "<tr><td>Southeast</td><td>8</td><td>2013</td><td>161507.00</td></tr>",
                            "<tr><td>Southeast</td><td>9</td><td>2013</td><td>233699.00</td></tr>",
                            "<tr><td>Southeast</td><td>10</td><td>2013</td><td>219936.00</td></tr>",
                            "<tr><td>Southeast</td><td>11</td><td>2013</td><td>114993.00</td></tr>",
                            "<tr><td>Southeast</td><td>12</td><td>2013</td><td>191157.00</td></tr>",
                            "<tr><td>Southwest</td><td>1</td><td>2013</td><td>494888.00</td></tr>",
                            "<tr><td>Southwest</td><td>2</td><td>2013</td><td>431230.00</td></tr>",
                            "<tr><td>Southwest</td><td>3</td><td>2013</td><td>846761.00</td></tr>",
                            "<tr><td>Southwest</td><td>4</td><td>2013</td><td>710288.00</td></tr>",
                            "<tr><td>Southwest</td><td>5</td><td>2013</td><td>848815.00</td></tr>",
                            "<tr><td>Southwest</td><td>6</td><td>2013</td><td>827496.00</td></tr>",
                            "<tr><td>Southwest</td><td>7</td><td>2013</td><td>967045.00</td></tr>",
                            "<tr><td>Southwest</td><td>8</td><td>2013</td><td>814277.00</td></tr>",
                            "<tr><td>Southwest</td><td>9</td><td>2013</td><td>787346.00</td></tr>",
                            "<tr><td>Southwest</td><td>10</td><td>2013</td><td>833388.00</td></tr>",
                            "<tr><td>Southwest</td><td>11</td><td>2013</td><td>805845.00</td></tr>",
                            "<tr><td>Southwest</td><td>12</td><td>2013</td><td>749160.00</td></tr>",
                            "<tr><td>United Kingdom</td><td>1</td><td>2013</td><td>185214.00</td></tr>",
                            "<tr><td>United Kingdom</td><td>2</td><td>2013</td><td>103892.00</td></tr>",
                            "<tr><td>United Kingdom</td><td>3</td><td>2013</td><td>166536.00</td></tr>",
                            "<tr><td>United Kingdom</td><td>4</td><td>2013</td><td>197580.00</td></tr>",
                            "<tr><td>United Kingdom</td><td>5</td><td>2013</td><td>213417.00</td></tr>",
                            "<tr><td>United Kingdom</td><td>6</td><td>2013</td><td>341642.00</td></tr>",
                            "<tr><td>United Kingdom</td><td>7</td><td>2013</td><td>618040.00</td></tr>",
                            "<tr><td>United Kingdom</td><td>8</td><td>2013</td><td>253814.00</td></tr>",
                            "<tr><td>United Kingdom</td><td>9</td><td>2013</td><td>347462.00</td></tr>",
                            "<tr><td>United Kingdom</td><td>10</td><td>2013</td><td>602234.00</td></tr>",
                            "<tr><td>United Kingdom</td><td>11</td><td>2013</td><td>297249.00</td></tr>",
                            "<tr><td>United Kingdom</td><td>12</td><td>2013</td><td>306343.00</td></tr>",
                            "</table>"
                        ]
                    }
                }
            ],
            "execution_count": 36
        },
        {
            "cell_type": "markdown",
            "source": [
                "Problem 1 Part C \n",
                "\n",
                "<span id=\"docs-internal-guid-ce910a23-7fff-ba3f-025a-2493ebde3f0f\" style=\"caret-color: rgb(0, 0, 0); color: rgb(0, 0, 0);\"><span style=\"font-size: 12pt; font-family: &quot;Times New Roman&quot;, serif; background-color: transparent; font-variant-alternates: normal; font-variant-numeric: normal; font-variant-east-asian: normal; vertical-align: baseline; white-space-collapse: preserve;\">The sales manager would like to recognize territories that had at least one month in 2013 with monthly sales over $750,000.&nbsp; Create a report listing these territories.&nbsp;It should contain a single column named AwardWinners and be sorted alphabetically.&nbsp; Territories can only win this award once, regardless of the number of months where they exceeded the threshold, so don’t include duplicate values in your list.</span></span>"
            ],
            "metadata": {
                "azdata_cell_guid": "c32ae245-4d98-431f-a505-afe15b37e942"
            },
            "attachments": {}
        },
        {
            "cell_type": "code",
            "source": [
                "SELECT DISTINCT t.Name AS AwardWinners\n",
                "FROM Sales.SalesOrderHeader s\n",
                "INNER JOIN Sales.SalesTerritory t\n",
                "ON s.TerritoryID = t.TerritoryID\n",
                "WHERE DATEPART(YEAR, s.OrderDate) = '2013'\n",
                "GROUP BY t.Name, DATEPART(MONTH, s.OrderDate), DATEPART(YEAR, s.OrderDate)\n",
                "HAVING SUM(SubTotal) > 750000 \n",
                "ORDER BY AwardWinners"
            ],
            "metadata": {
                "azdata_cell_guid": "a19433c2-177d-424c-b278-3bbc5b8529f0",
                "language": "sql",
                "tags": []
            },
            "outputs": [
                {
                    "output_type": "display_data",
                    "data": {
                        "text/html": "(4 rows affected)"
                    },
                    "metadata": {}
                },
                {
                    "output_type": "display_data",
                    "data": {
                        "text/html": "Total execution time: 00:00:00.054"
                    },
                    "metadata": {}
                },
                {
                    "output_type": "execute_result",
                    "metadata": {},
                    "execution_count": 38,
                    "data": {
                        "application/vnd.dataresource+json": {
                            "schema": {
                                "fields": [
                                    {
                                        "name": "AwardWinners"
                                    }
                                ]
                            },
                            "data": [
                                {
                                    "AwardWinners": "Canada"
                                },
                                {
                                    "AwardWinners": "France"
                                },
                                {
                                    "AwardWinners": "Northwest"
                                },
                                {
                                    "AwardWinners": "Southwest"
                                }
                            ]
                        },
                        "text/html": [
                            "<table>",
                            "<tr><th>AwardWinners</th></tr>",
                            "<tr><td>Canada</td></tr>",
                            "<tr><td>France</td></tr>",
                            "<tr><td>Northwest</td></tr>",
                            "<tr><td>Southwest</td></tr>",
                            "</table>"
                        ]
                    }
                }
            ],
            "execution_count": 38
        },
        {
            "cell_type": "markdown",
            "source": [
                "Problem 1 Part D\n",
                "\n",
                "<span id=\"docs-internal-guid-54b4cac3-7fff-1c56-2134-29b28551921a\" style=\"caret-color: rgb(0, 0, 0); color: rgb(0, 0, 0);\"><span style=\"font-size: 12pt; font-family: &quot;Times New Roman&quot;, serif; background-color: transparent; font-variant-alternates: normal; font-variant-numeric: normal; font-variant-east-asian: normal; vertical-align: baseline; white-space-collapse: preserve;\">The sales manager would like to offer additional training to those territories that did not achieve the $750,000 at least once in 2013.&nbsp; Create a list of territories that did not achieve their target, sorted alphabetically. </span><span style=\"font-size: 12pt; font-family: &quot;Times New Roman&quot;, serif; background-color: transparent; font-weight: 700; font-variant-alternates: normal; font-variant-numeric: normal; font-variant-east-asian: normal; vertical-align: baseline; white-space-collapse: preserve;\">Do this by using set theory, adding a few lines to your query from Part C.</span></span>"
            ],
            "metadata": {
                "azdata_cell_guid": "2d4f125d-8ac5-4515-9780-361cfb1bd021"
            },
            "attachments": {}
        },
        {
            "cell_type": "code",
            "source": [
                "SELECT t.Name \n",
                "FROM Sales.SalesOrderHeader s\n",
                "INNER JOIN Sales.SalesTerritory t\n",
                "ON s.TerritoryID = t.TerritoryID\n",
                "WHERE DATEPART(YEAR, s.OrderDate) = '2013'\n",
                "EXCEPT\n",
                "SELECT t.Name \n",
                "FROM Sales.SalesOrderHeader s\n",
                "INNER JOIN Sales.SalesTerritory t\n",
                "ON s.TerritoryID = t.TerritoryID\n",
                "GROUP BY t.Name, DATENAME(MONTH, s.OrderDate), DATEPART(YEAR, s.OrderDate)\n",
                "HAVING SUM(SubTotal) > 750000 \n",
                "ORDER BY t.Name"
            ],
            "metadata": {
                "azdata_cell_guid": "da7f3ce8-196f-4008-a3a8-4d0f2fff7b07",
                "language": "sql",
                "tags": []
            },
            "outputs": [
                {
                    "output_type": "display_data",
                    "data": {
                        "text/html": "(6 rows affected)"
                    },
                    "metadata": {}
                },
                {
                    "output_type": "display_data",
                    "data": {
                        "text/html": "Total execution time: 00:00:00.317"
                    },
                    "metadata": {}
                },
                {
                    "output_type": "execute_result",
                    "metadata": {},
                    "execution_count": 45,
                    "data": {
                        "application/vnd.dataresource+json": {
                            "schema": {
                                "fields": [
                                    {
                                        "name": "Name"
                                    }
                                ]
                            },
                            "data": [
                                {
                                    "Name": "Australia"
                                },
                                {
                                    "Name": "Central"
                                },
                                {
                                    "Name": "Germany"
                                },
                                {
                                    "Name": "Northeast"
                                },
                                {
                                    "Name": "Southeast"
                                },
                                {
                                    "Name": "United Kingdom"
                                }
                            ]
                        },
                        "text/html": [
                            "<table>",
                            "<tr><th>Name</th></tr>",
                            "<tr><td>Australia</td></tr>",
                            "<tr><td>Central</td></tr>",
                            "<tr><td>Germany</td></tr>",
                            "<tr><td>Northeast</td></tr>",
                            "<tr><td>Southeast</td></tr>",
                            "<tr><td>United Kingdom</td></tr>",
                            "</table>"
                        ]
                    }
                }
            ],
            "execution_count": 45
        },
        {
            "cell_type": "markdown",
            "source": [
                "Problem 2 Part A\n",
                "\n",
                "<span id=\"docs-internal-guid-cb4a19a4-7fff-6d40-3669-764705c00d15\" style=\"caret-color: rgb(0, 0, 0); color: rgb(0, 0, 0);\"><span style=\"font-size: 12pt; font-family: &quot;Times New Roman&quot;, serif; background-color: transparent; font-variant-alternates: normal; font-variant-numeric: normal; font-variant-east-asian: normal; vertical-align: baseline; white-space-collapse: preserve;\">The production manager is considering dropping some products and would like to generate a report that lists finished goods products that have been sold, where the total sales volume is under 50 units.&nbsp; Create a report showing the product name and the total number of units ordered, showing the least units sold first.</span></span>"
            ],
            "metadata": {
                "azdata_cell_guid": "d489fb8a-cf5a-4eb5-ac45-74605f62ff91"
            },
            "attachments": {}
        },
        {
            "cell_type": "code",
            "source": [
                "SELECT Name\n",
                "    , SUM(OrderQty) AS TotalVolume \n",
                "FROM Production.Product p \n",
                "INNER JOIN Sales.SalesOrderDetail s \n",
                "ON p.ProductID = s.ProductID\n",
                "WHERE FinishedGoodsFlag = 1 \n",
                "GROUP BY Name \n",
                "HAVING SUM(OrderQty) < 50\n",
                "ORDER BY TotalVolume ASC "
            ],
            "metadata": {
                "azdata_cell_guid": "b76fdd52-539c-4fbd-8e87-d683e1d3bb56",
                "language": "sql"
            },
            "outputs": [
                {
                    "output_type": "display_data",
                    "data": {
                        "text/html": "(10 rows affected)"
                    },
                    "metadata": {}
                },
                {
                    "output_type": "display_data",
                    "data": {
                        "text/html": "Total execution time: 00:00:00.070"
                    },
                    "metadata": {}
                },
                {
                    "output_type": "execute_result",
                    "metadata": {},
                    "execution_count": 28,
                    "data": {
                        "application/vnd.dataresource+json": {
                            "schema": {
                                "fields": [
                                    {
                                        "name": "Name"
                                    },
                                    {
                                        "name": "TotalVolume"
                                    }
                                ]
                            },
                            "data": [
                                {
                                    "Name": "LL Touring Frame - Blue, 58",
                                    "TotalVolume": "4"
                                },
                                {
                                    "Name": "ML Mountain Frame-W - Silver, 38",
                                    "TotalVolume": "7"
                                },
                                {
                                    "Name": "LL Mountain Frame - Black, 40",
                                    "TotalVolume": "8"
                                },
                                {
                                    "Name": "LL Road Seat/Saddle",
                                    "TotalVolume": "10"
                                },
                                {
                                    "Name": "LL Touring Frame - Blue, 62",
                                    "TotalVolume": "15"
                                },
                                {
                                    "Name": "LL Mountain Frame - Black, 52",
                                    "TotalVolume": "15"
                                },
                                {
                                    "Name": "HL Mountain Frame - Black, 44",
                                    "TotalVolume": "17"
                                },
                                {
                                    "Name": "LL Touring Frame - Blue, 44",
                                    "TotalVolume": "25"
                                },
                                {
                                    "Name": "LL Touring Frame - Yellow, 58",
                                    "TotalVolume": "36"
                                },
                                {
                                    "Name": "LL Mountain Frame - Silver, 48",
                                    "TotalVolume": "44"
                                }
                            ]
                        },
                        "text/html": [
                            "<table>",
                            "<tr><th>Name</th><th>TotalVolume</th></tr>",
                            "<tr><td>LL Touring Frame - Blue, 58</td><td>4</td></tr>",
                            "<tr><td>ML Mountain Frame-W - Silver, 38</td><td>7</td></tr>",
                            "<tr><td>LL Mountain Frame - Black, 40</td><td>8</td></tr>",
                            "<tr><td>LL Road Seat/Saddle</td><td>10</td></tr>",
                            "<tr><td>LL Touring Frame - Blue, 62</td><td>15</td></tr>",
                            "<tr><td>LL Mountain Frame - Black, 52</td><td>15</td></tr>",
                            "<tr><td>HL Mountain Frame - Black, 44</td><td>17</td></tr>",
                            "<tr><td>LL Touring Frame - Blue, 44</td><td>25</td></tr>",
                            "<tr><td>LL Touring Frame - Yellow, 58</td><td>36</td></tr>",
                            "<tr><td>LL Mountain Frame - Silver, 48</td><td>44</td></tr>",
                            "</table>"
                        ]
                    }
                }
            ],
            "execution_count": 28
        },
        {
            "cell_type": "markdown",
            "source": [
                "Problem 2 Part B\n",
                "\n",
                "<span style=\"font-size: 12pt; font-family: &quot;Times New Roman&quot;, serif; color: rgb(0, 0, 0); background-color: transparent; font-weight: 400; font-style: normal; font-variant-ligatures: normal; font-variant-caps: normal; font-variant-alternates: normal; font-variant-numeric: normal; font-variant-east-asian: normal; font-variant-position: normal; font-variant-emoji: normal; text-decoration: none; vertical-align: baseline; white-space: pre-wrap;\">The production manager is working on profit projections for the coming year.&nbsp; She needs to make some assumptions about the sales tax rates in various countries and wants to use a conservatively selected single rate for each country.</span><span style=\"font-size: 12pt; font-family: &quot;Times New Roman&quot;, serif; color: rgb(0, 0, 0); background-color: transparent; font-weight: 400; font-style: normal; font-variant-ligatures: normal; font-variant-caps: normal; font-variant-alternates: normal; font-variant-numeric: normal; font-variant-east-asian: normal; font-variant-position: normal; font-variant-emoji: normal; text-decoration: none; vertical-align: baseline; white-space: pre-wrap;\"><br></span><span style=\"font-size: 12pt; font-family: &quot;Times New Roman&quot;, serif; color: rgb(0, 0, 0); background-color: transparent; font-weight: 400; font-style: normal; font-variant-ligatures: normal; font-variant-caps: normal; font-variant-alternates: normal; font-variant-numeric: normal; font-variant-east-asian: normal; font-variant-position: normal; font-variant-emoji: normal; text-decoration: none; vertical-align: baseline; white-space: pre-wrap;\">Create a report showing the maximum sales tax rate for each country AdventureWorks serves.&nbsp; Use the full country name in the report. Sort the list by tax rate with the highest tax rate first.</span>"
            ],
            "metadata": {
                "azdata_cell_guid": "5072f924-9fcc-43e2-a395-84e32fee69de"
            },
            "attachments": {}
        },
        {
            "cell_type": "code",
            "source": [
                "SELECT cr.Name\n",
                "    , MAX(tr.TaxRate) AS MaxTaxRate\n",
                "FROM Sales.SalesTaxRate tr \n",
                "INNER JOIN Person.StateProvince sp \n",
                "ON tr.StateProvinceID = sp.StateProvinceID\n",
                "INNER JOIN Person.CountryRegion cr \n",
                "ON sp.CountryRegionCode = cr.CountryRegionCode\n",
                "GROUP BY cr.Name\n",
                "ORDER BY MaxTaxRate DESC "
            ],
            "metadata": {
                "azdata_cell_guid": "320bf138-b8f3-4687-96cc-995f603f7129",
                "language": "sql"
            },
            "outputs": [
                {
                    "output_type": "display_data",
                    "data": {
                        "text/html": "(6 rows affected)"
                    },
                    "metadata": {}
                },
                {
                    "output_type": "display_data",
                    "data": {
                        "text/html": "Total execution time: 00:00:00.054"
                    },
                    "metadata": {}
                },
                {
                    "output_type": "execute_result",
                    "metadata": {},
                    "execution_count": 35,
                    "data": {
                        "application/vnd.dataresource+json": {
                            "schema": {
                                "fields": [
                                    {
                                        "name": "Name"
                                    },
                                    {
                                        "name": "MaxTaxRate"
                                    }
                                ]
                            },
                            "data": [
                                {
                                    "Name": "France",
                                    "MaxTaxRate": "19.60"
                                },
                                {
                                    "Name": "United Kingdom",
                                    "MaxTaxRate": "17.50"
                                },
                                {
                                    "Name": "Germany",
                                    "MaxTaxRate": "16.00"
                                },
                                {
                                    "Name": "Canada",
                                    "MaxTaxRate": "14.25"
                                },
                                {
                                    "Name": "Australia",
                                    "MaxTaxRate": "10.00"
                                },
                                {
                                    "Name": "United States",
                                    "MaxTaxRate": "8.80"
                                }
                            ]
                        },
                        "text/html": [
                            "<table>",
                            "<tr><th>Name</th><th>MaxTaxRate</th></tr>",
                            "<tr><td>France</td><td>19.60</td></tr>",
                            "<tr><td>United Kingdom</td><td>17.50</td></tr>",
                            "<tr><td>Germany</td><td>16.00</td></tr>",
                            "<tr><td>Canada</td><td>14.25</td></tr>",
                            "<tr><td>Australia</td><td>10.00</td></tr>",
                            "<tr><td>United States</td><td>8.80</td></tr>",
                            "</table>"
                        ]
                    }
                }
            ],
            "execution_count": 35
        },
        {
            "cell_type": "markdown",
            "source": [
                "Problem 2 Part C \n",
                "\n",
                "<span id=\"docs-internal-guid-30ed2dfc-7fff-7239-9b38-3d3ea3a25811\" style=\"caret-color: rgb(0, 0, 0); color: rgb(0, 0, 0);\"><p dir=\"ltr\" style=\"line-height: 1.38; margin-top: 0pt; margin-bottom: 0pt;\"><span style=\"font-size: 12pt; font-family: &quot;Times New Roman&quot;, serif; background-color: transparent; font-variant-alternates: normal; font-variant-numeric: normal; font-variant-east-asian: normal; vertical-align: baseline; white-space-collapse: preserve;\">The quality assurance department is issuing a recall for all helmets shipped during the first five days of February 2014 due to a safety issue.&nbsp; Stores will handle the notification of individual customers, but the sales department needs your help to follow up with stores that serve customers who received the helmets.&nbsp; Produce a listing of stores that shipped helmets during the recall period. Your result should have two columns:</span><span style=\"font-size: 12pt; font-family: &quot;Times New Roman&quot;, serif; background-color: transparent; font-variant-alternates: normal; font-variant-numeric: normal; font-variant-east-asian: normal; vertical-align: baseline; white-space-collapse: preserve;\"><br></span></p><ol style=\"margin-top: 0px; margin-bottom: 0px; padding-inline-start: 48px;\"><li dir=\"ltr\" aria-level=\"2\" style=\"list-style-type: lower-alpha; font-size: 12pt; font-family: &quot;Times New Roman&quot;, serif; background-color: transparent; font-variant-alternates: normal; font-variant-numeric: normal; font-variant-east-asian: normal; vertical-align: baseline; white-space: pre; margin-left: 36pt;\"><p dir=\"ltr\" role=\"presentation\" style=\"line-height: 1.38; margin-top: 0pt; margin-bottom: 0pt;\"><span style=\"font-size: 12pt; background-color: transparent; font-variant-alternates: normal; font-variant-numeric: normal; font-variant-east-asian: normal; vertical-align: baseline; text-wrap: wrap;\">StoreName</span></p></li><li dir=\"ltr\" aria-level=\"2\" style=\"list-style-type: lower-alpha; font-size: 12pt; font-family: &quot;Times New Roman&quot;, serif; background-color: transparent; font-variant-alternates: normal; font-variant-numeric: normal; font-variant-east-asian: normal; vertical-align: baseline; white-space: pre; margin-left: 36pt;\"><p dir=\"ltr\" role=\"presentation\" style=\"line-height: 1.38; margin-top: 0pt; margin-bottom: 0pt;\"><span style=\"font-size: 12pt; background-color: transparent; font-variant-alternates: normal; font-variant-numeric: normal; font-variant-east-asian: normal; vertical-align: baseline; text-wrap: wrap;\">TerritoryName</span></p></li></ol><span id=\"docs-internal-guid-d62fcd70-7fff-a959-10a1-0cdc4dbc3769\"><span style=\"font-size: 12pt; font-family: &quot;Times New Roman&quot;, serif; background-color: transparent; font-variant-alternates: normal; font-variant-numeric: normal; font-variant-east-asian: normal; vertical-align: baseline; white-space-collapse: preserve;\">Sort the list alphabetically, first by territory name and then by store name.&nbsp; Each store should only appear once in the list, regardless of the number of orders.</span></span><br></span>\n",
                "\n",
                "<span id=\"docs-internal-guid-8898307e-7fff-c26f-b8e6-714b76ebfcce\" style=\"caret-color: rgb(0, 0, 0); color: rgb(0, 0, 0);\"><span style=\"font-size: 12pt; font-family: &quot;Times New Roman&quot;, serif; background-color: transparent; font-variant-alternates: normal; font-variant-numeric: normal; font-variant-east-asian: normal; text-decoration-line: underline; text-decoration-skip-ink: none; vertical-align: baseline; white-space-collapse: preserve;\">Hint</span><span style=\"font-size: 12pt; font-family: &quot;Times New Roman&quot;, serif; background-color: transparent; font-variant-alternates: normal; font-variant-numeric: normal; font-variant-east-asian: normal; vertical-align: baseline; white-space-collapse: preserve;\">: My solution to this problem used five INNER JOINs.&nbsp; Most of the tables are ones that you’re already familiar with using.&nbsp; You will need to bring in the Sales.SalesOrderDetail table as well to link to product information.&nbsp; If you aren’t sure how to join two tables, consult the data dictionary!</span></span><span style=\"caret-color: rgb(0, 0, 0); color: rgb(0, 0, 0);\"><span><span style=\"font-size: 12pt; font-family: &quot;Times New Roman&quot;, serif; background-color: transparent; font-variant-alternates: normal; font-variant-numeric: normal; font-variant-east-asian: normal; vertical-align: baseline; white-space-collapse: preserve;\"><br></span></span></span>"
            ],
            "metadata": {
                "azdata_cell_guid": "01e5d90e-1454-4ad2-b3ca-c290e8d64b8b"
            },
            "attachments": {}
        },
        {
            "cell_type": "code",
            "source": [
                "SELECT DISTINCT st.Name AS TerritoryName\n",
                "    , ss.Name AS StoreName\n",
                "FROM Sales.SalesOrderHeader oh\n",
                "INNER JOIN sales.SalesOrderDetail od\n",
                "ON oh.SalesOrderID = od.SalesOrderID\n",
                "INNER JOIN Production.Product pp \n",
                "ON od.ProductID = pp.ProductID \n",
                "INNER JOIN Sales.Customer sc \n",
                "ON sc.CustomerID = oh.CustomerID\n",
                "INNER JOIN Sales.Store ss\n",
                "ON ss.BusinessEntityID = sc.StoreID\n",
                "INNER JOIN Sales.SalesTerritory st \n",
                "ON sc.TerritoryID = st.TerritoryID \n",
                "WHERE oh.ShipDate BETWEEN '2014-02-01' AND '2014-02-05'\n",
                "    AND pp.Name LIKE '%helmet%'\n",
                "ORDER BY st.Name, ss.Name"
            ],
            "metadata": {
                "language": "sql",
                "azdata_cell_guid": "2043b917-ba66-4b47-8260-1de48a79112e",
                "tags": []
            },
            "outputs": [
                {
                    "output_type": "display_data",
                    "data": {
                        "text/html": "(36 rows affected)"
                    },
                    "metadata": {}
                },
                {
                    "output_type": "display_data",
                    "data": {
                        "text/html": "Total execution time: 00:00:00.050"
                    },
                    "metadata": {}
                },
                {
                    "output_type": "execute_result",
                    "metadata": {},
                    "execution_count": 50,
                    "data": {
                        "application/vnd.dataresource+json": {
                            "schema": {
                                "fields": [
                                    {
                                        "name": "TerritoryName"
                                    },
                                    {
                                        "name": "StoreName"
                                    }
                                ]
                            },
                            "data": [
                                {
                                    "TerritoryName": "Australia",
                                    "StoreName": "Bike Part Wholesalers"
                                },
                                {
                                    "TerritoryName": "Australia",
                                    "StoreName": "Nationwide Supply"
                                },
                                {
                                    "TerritoryName": "Australia",
                                    "StoreName": "Popular Bike Lines"
                                },
                                {
                                    "TerritoryName": "Canada",
                                    "StoreName": "Corner Bicycle Supply"
                                },
                                {
                                    "TerritoryName": "Canada",
                                    "StoreName": "Odometers and Accessories Company"
                                },
                                {
                                    "TerritoryName": "Canada",
                                    "StoreName": "Petroleum Products Distributors"
                                },
                                {
                                    "TerritoryName": "Canada",
                                    "StoreName": "Rapid Bikes"
                                },
                                {
                                    "TerritoryName": "Canada",
                                    "StoreName": "Vigorous Exercise Company"
                                },
                                {
                                    "TerritoryName": "Central",
                                    "StoreName": "Local Sales and Rental"
                                },
                                {
                                    "TerritoryName": "Central",
                                    "StoreName": "Riders Company"
                                },
                                {
                                    "TerritoryName": "Central",
                                    "StoreName": "Work and Play Association"
                                },
                                {
                                    "TerritoryName": "Central",
                                    "StoreName": "World of Bikes"
                                },
                                {
                                    "TerritoryName": "France",
                                    "StoreName": "Getaway Inn"
                                },
                                {
                                    "TerritoryName": "France",
                                    "StoreName": "Neighborhood Bicycle Storehouse"
                                },
                                {
                                    "TerritoryName": "France",
                                    "StoreName": "Racing Sales and Service"
                                },
                                {
                                    "TerritoryName": "Germany",
                                    "StoreName": "Educational Services"
                                },
                                {
                                    "TerritoryName": "Germany",
                                    "StoreName": "Enterprise Center"
                                },
                                {
                                    "TerritoryName": "Germany",
                                    "StoreName": "Rodeway Bike Store"
                                },
                                {
                                    "TerritoryName": "Northeast",
                                    "StoreName": "Fourth Bike Store"
                                },
                                {
                                    "TerritoryName": "Northeast",
                                    "StoreName": "Glossy Bikes"
                                },
                                {
                                    "TerritoryName": "Northeast",
                                    "StoreName": "Larger Cycle Shop"
                                },
                                {
                                    "TerritoryName": "Northeast",
                                    "StoreName": "Recreation Systems"
                                },
                                {
                                    "TerritoryName": "Northeast",
                                    "StoreName": "The Bike Mechanics"
                                },
                                {
                                    "TerritoryName": "Northwest",
                                    "StoreName": "Fashionable Bikes and Accessories"
                                },
                                {
                                    "TerritoryName": "Southeast",
                                    "StoreName": "Blue-Ribbon Bike Company"
                                },
                                {
                                    "TerritoryName": "Southeast",
                                    "StoreName": "Excellent Riding Supplies"
                                },
                                {
                                    "TerritoryName": "Southeast",
                                    "StoreName": "Front Runner Bikes"
                                },
                                {
                                    "TerritoryName": "Southeast",
                                    "StoreName": "Sales and Supply Company"
                                },
                                {
                                    "TerritoryName": "Southwest",
                                    "StoreName": "Advanced Bike Components"
                                },
                                {
                                    "TerritoryName": "Southwest",
                                    "StoreName": "Chic Department Stores"
                                },
                                {
                                    "TerritoryName": "Southwest",
                                    "StoreName": "Coalition Bike Company"
                                },
                                {
                                    "TerritoryName": "Southwest",
                                    "StoreName": "Eastside Department Store"
                                },
                                {
                                    "TerritoryName": "Southwest",
                                    "StoreName": "First Cycle Store"
                                },
                                {
                                    "TerritoryName": "Southwest",
                                    "StoreName": "Futuristic Bikes"
                                },
                                {
                                    "TerritoryName": "United Kingdom",
                                    "StoreName": "Action Bicycle Specialists"
                                },
                                {
                                    "TerritoryName": "United Kingdom",
                                    "StoreName": "Riding Cycles"
                                }
                            ]
                        },
                        "text/html": [
                            "<table>",
                            "<tr><th>TerritoryName</th><th>StoreName</th></tr>",
                            "<tr><td>Australia</td><td>Bike Part Wholesalers</td></tr>",
                            "<tr><td>Australia</td><td>Nationwide Supply</td></tr>",
                            "<tr><td>Australia</td><td>Popular Bike Lines</td></tr>",
                            "<tr><td>Canada</td><td>Corner Bicycle Supply</td></tr>",
                            "<tr><td>Canada</td><td>Odometers and Accessories Company</td></tr>",
                            "<tr><td>Canada</td><td>Petroleum Products Distributors</td></tr>",
                            "<tr><td>Canada</td><td>Rapid Bikes</td></tr>",
                            "<tr><td>Canada</td><td>Vigorous Exercise Company</td></tr>",
                            "<tr><td>Central</td><td>Local Sales and Rental</td></tr>",
                            "<tr><td>Central</td><td>Riders Company</td></tr>",
                            "<tr><td>Central</td><td>Work and Play Association</td></tr>",
                            "<tr><td>Central</td><td>World of Bikes</td></tr>",
                            "<tr><td>France</td><td>Getaway Inn</td></tr>",
                            "<tr><td>France</td><td>Neighborhood Bicycle Storehouse</td></tr>",
                            "<tr><td>France</td><td>Racing Sales and Service</td></tr>",
                            "<tr><td>Germany</td><td>Educational Services</td></tr>",
                            "<tr><td>Germany</td><td>Enterprise Center</td></tr>",
                            "<tr><td>Germany</td><td>Rodeway Bike Store</td></tr>",
                            "<tr><td>Northeast</td><td>Fourth Bike Store</td></tr>",
                            "<tr><td>Northeast</td><td>Glossy Bikes</td></tr>",
                            "<tr><td>Northeast</td><td>Larger Cycle Shop</td></tr>",
                            "<tr><td>Northeast</td><td>Recreation Systems</td></tr>",
                            "<tr><td>Northeast</td><td>The Bike Mechanics</td></tr>",
                            "<tr><td>Northwest</td><td>Fashionable Bikes and Accessories</td></tr>",
                            "<tr><td>Southeast</td><td>Blue-Ribbon Bike Company</td></tr>",
                            "<tr><td>Southeast</td><td>Excellent Riding Supplies</td></tr>",
                            "<tr><td>Southeast</td><td>Front Runner Bikes</td></tr>",
                            "<tr><td>Southeast</td><td>Sales and Supply Company</td></tr>",
                            "<tr><td>Southwest</td><td>Advanced Bike Components</td></tr>",
                            "<tr><td>Southwest</td><td>Chic Department Stores</td></tr>",
                            "<tr><td>Southwest</td><td>Coalition Bike Company</td></tr>",
                            "<tr><td>Southwest</td><td>Eastside Department Store</td></tr>",
                            "<tr><td>Southwest</td><td>First Cycle Store</td></tr>",
                            "<tr><td>Southwest</td><td>Futuristic Bikes</td></tr>",
                            "<tr><td>United Kingdom</td><td>Action Bicycle Specialists</td></tr>",
                            "<tr><td>United Kingdom</td><td>Riding Cycles</td></tr>",
                            "</table>"
                        ]
                    }
                }
            ],
            "execution_count": 50
        }
    ]
}
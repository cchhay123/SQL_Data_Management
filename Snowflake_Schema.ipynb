{
    "metadata": {
        "kernelspec": {
            "name": "SQL",
            "display_name": "SQL",
            "language": "sql"
        },
        "language_info": {
            "name": "sql",
            "version": ""
        }
    },
    "nbformat_minor": 2,
    "nbformat": 4,
    "cells": [
        {
            "cell_type": "code",
            "source": [
                "USE ADW"
            ],
            "metadata": {
                "azdata_cell_guid": "421ae71e-1504-4f60-8d67-0d867080b4b5",
                "language": "sql"
            },
            "outputs": [
                {
                    "output_type": "display_data",
                    "data": {
                        "text/html": "Commands completed successfully."
                    },
                    "metadata": {}
                },
                {
                    "output_type": "display_data",
                    "data": {
                        "text/html": "Total execution time: 00:00:00.041"
                    },
                    "metadata": {}
                }
            ],
            "execution_count": 26
        },
        {
            "cell_type": "markdown",
            "source": [
                "Data Management \n",
                "\n",
                "SQL Assignment 4"
            ],
            "metadata": {
                "azdata_cell_guid": "fb66b788-a593-40e5-9e91-512524970411"
            },
            "attachments": {}
        },
        {
            "cell_type": "markdown",
            "source": [
                "<span style=\"font-size: 12pt; font-family: &quot;Times New Roman&quot;, serif; background-color: transparent; font-weight: 700; font-variant-alternates: normal; font-variant-numeric: normal; font-variant-east-asian: normal; text-decoration-line: underline; text-decoration-skip-ink: none; vertical-align: baseline; white-space-collapse: preserve;\">Problem 1</span>\n",
                "\n",
                "<span style=\"font-size: 12pt; font-family: &quot;Times New Roman&quot;, serif; background-color: transparent; font-variant-alternates: normal; font-variant-numeric: normal; font-variant-east-asian: normal; vertical-align: baseline; white-space-collapse: preserve;\">You have been asked to understand how successful the Touring-3000 promotion was. Produce a report that retrieves the reseller name, country name, product category name, total sales amount, and currency name for this promotion.&nbsp; Be sure to show the highest value sales first.</span>"
            ],
            "metadata": {
                "azdata_cell_guid": "f7ece54a-c9d0-45e9-8402-d510b1b6a700"
            },
            "attachments": {}
        },
        {
            "cell_type": "code",
            "source": [
                "SELECT rr.ResellerName\n",
                "    , t.SalesTerritoryCountry AS Country\n",
                "    , pc.EnglishProductCategoryName AS Category\n",
                "    , SUM(rs.SalesAmount) AS Total \n",
                "    , c.CurrencyName\n",
                "FROM FactResellerSales rs \n",
                "INNER JOIN DimPromotion dp \n",
                "ON rs.PromotionKey = dp.PromotionKey\n",
                "INNER JOIN DimReseller rr \n",
                "ON rs.ResellerKey = rr.ResellerKey\n",
                "INNER JOIN DimSalesTerritory t \n",
                "ON rs.SalesTerritoryKey = t.SalesTerritoryKey\n",
                "INNER JOIN DimCurrency c \n",
                "ON rs.CurrencyKey = c.CurrencyKey \n",
                "INNER JOIN DimProduct p \n",
                "ON rs.ProductKey = p.ProductKey \n",
                "INNER JOIN DimProductSubcategory sc \n",
                "ON p.ProductSubcategoryKey = sc.ProductSubcategoryKey\n",
                "INNER JOIN DimProductCategory pc \n",
                "ON sc.ProductCategoryKey = pc.ProductCategoryKey\n",
                "WHERE dp.EnglishPromotionName LIKE '%Touring-3000%'\n",
                "GROUP BY rr.ResellerName\n",
                "    , t.SalesTerritoryCountry \n",
                "    , pc.EnglishProductCategoryName \n",
                "    , c.CurrencyName\n",
                "ORDER BY Total DESC "
            ],
            "metadata": {
                "azdata_cell_guid": "1c7d4fd0-0bd8-47ff-887b-b4865b0857dd",
                "language": "sql"
            },
            "outputs": [
                {
                    "output_type": "display_data",
                    "data": {
                        "text/html": "(101 rows affected)"
                    },
                    "metadata": {}
                },
                {
                    "output_type": "display_data",
                    "data": {
                        "text/html": "Total execution time: 00:00:00.067"
                    },
                    "metadata": {}
                },
                {
                    "output_type": "execute_result",
                    "metadata": {},
                    "execution_count": 17,
                    "data": {
                        "application/vnd.dataresource+json": {
                            "schema": {
                                "fields": [
                                    {
                                        "name": "ResellerName"
                                    },
                                    {
                                        "name": "Country"
                                    },
                                    {
                                        "name": "Category"
                                    },
                                    {
                                        "name": "Total"
                                    },
                                    {
                                        "name": "CurrencyName"
                                    }
                                ]
                            },
                            "data": [
                                {
                                    "ResellerName": "Action Bicycle Specialists",
                                    "Country": "United Kingdom",
                                    "Category": "Bikes",
                                    "Total": "19024.5748",
                                    "CurrencyName": "United Kingdom Pound"
                                },
                                {
                                    "ResellerName": "Westside Plaza",
                                    "Country": "United States",
                                    "Category": "Bikes",
                                    "Total": "19024.5746",
                                    "CurrencyName": "US Dollar"
                                },
                                {
                                    "ResellerName": "Camping and Sports Store",
                                    "Country": "Canada",
                                    "Category": "Bikes",
                                    "Total": "17320.8815",
                                    "CurrencyName": "Canadian Dollar"
                                },
                                {
                                    "ResellerName": "Global Bike Retailers",
                                    "Country": "Germany",
                                    "Category": "Bikes",
                                    "Total": "16752.9838",
                                    "CurrencyName": "EURO"
                                },
                                {
                                    "ResellerName": "Perfect Toys",
                                    "Country": "France",
                                    "Category": "Bikes",
                                    "Total": "15333.2394",
                                    "CurrencyName": "US Dollar"
                                },
                                {
                                    "ResellerName": "Roadway Bicycle Supply",
                                    "Country": "France",
                                    "Category": "Bikes",
                                    "Total": "14481.3929",
                                    "CurrencyName": "US Dollar"
                                },
                                {
                                    "ResellerName": "Rally Master Company Inc",
                                    "Country": "United States",
                                    "Category": "Bikes",
                                    "Total": "13913.495",
                                    "CurrencyName": "US Dollar"
                                },
                                {
                                    "ResellerName": "Best Cycle Store",
                                    "Country": "Germany",
                                    "Category": "Bikes",
                                    "Total": "12493.7506",
                                    "CurrencyName": "EURO"
                                },
                                {
                                    "ResellerName": "Front Runner Bikes",
                                    "Country": "United States",
                                    "Category": "Bikes",
                                    "Total": "11641.9039",
                                    "CurrencyName": "US Dollar"
                                },
                                {
                                    "ResellerName": "Favorite Toy Distributor",
                                    "Country": "France",
                                    "Category": "Bikes",
                                    "Total": "10506.1085",
                                    "CurrencyName": "EURO"
                                },
                                {
                                    "ResellerName": "Glossy Bikes",
                                    "Country": "United States",
                                    "Category": "Bikes",
                                    "Total": "9086.3642",
                                    "CurrencyName": "US Dollar"
                                },
                                {
                                    "ResellerName": "Outstanding Cycles",
                                    "Country": "United States",
                                    "Category": "Bikes",
                                    "Total": "9086.3641",
                                    "CurrencyName": "US Dollar"
                                },
                                {
                                    "ResellerName": "Another Bicycle Company",
                                    "Country": "United States",
                                    "Category": "Bikes",
                                    "Total": "8518.4665",
                                    "CurrencyName": "US Dollar"
                                },
                                {
                                    "ResellerName": "Vintage Sport Boutique",
                                    "Country": "United States",
                                    "Category": "Bikes",
                                    "Total": "8518.4665",
                                    "CurrencyName": "US Dollar"
                                },
                                {
                                    "ResellerName": "Technical Parts Manufacturing",
                                    "Country": "United States",
                                    "Category": "Bikes",
                                    "Total": "8518.4665",
                                    "CurrencyName": "US Dollar"
                                },
                                {
                                    "ResellerName": "Instruments and Parts Company",
                                    "Country": "United Kingdom",
                                    "Category": "Bikes",
                                    "Total": "7950.5687",
                                    "CurrencyName": "United Kingdom Pound"
                                },
                                {
                                    "ResellerName": "Metro Metals Co.",
                                    "Country": "United Kingdom",
                                    "Category": "Bikes",
                                    "Total": "7666.6198",
                                    "CurrencyName": "United Kingdom Pound"
                                },
                                {
                                    "ResellerName": "Extreme Riding Supplies",
                                    "Country": "United States",
                                    "Category": "Bikes",
                                    "Total": "7666.6196",
                                    "CurrencyName": "US Dollar"
                                },
                                {
                                    "ResellerName": "Next Door Cycles",
                                    "Country": "Germany",
                                    "Category": "Bikes",
                                    "Total": "7382.671",
                                    "CurrencyName": "EURO"
                                },
                                {
                                    "ResellerName": "Nationwide Supply",
                                    "Country": "Australia",
                                    "Category": "Bikes",
                                    "Total": "7382.6709",
                                    "CurrencyName": "Australian Dollar"
                                },
                                {
                                    "ResellerName": "Petroleum Products Distributors",
                                    "Country": "Canada",
                                    "Category": "Bikes",
                                    "Total": "7098.722",
                                    "CurrencyName": "Canadian Dollar"
                                },
                                {
                                    "ResellerName": "Roadway Bike Emporium",
                                    "Country": "United States",
                                    "Category": "Bikes",
                                    "Total": "7098.7219",
                                    "CurrencyName": "US Dollar"
                                },
                                {
                                    "ResellerName": "Utilitarian Sporting Goods",
                                    "Country": "United States",
                                    "Category": "Bikes",
                                    "Total": "6814.7731",
                                    "CurrencyName": "US Dollar"
                                },
                                {
                                    "ResellerName": "Grand Industries",
                                    "Country": "Canada",
                                    "Category": "Bikes",
                                    "Total": "6530.8242",
                                    "CurrencyName": "Canadian Dollar"
                                },
                                {
                                    "ResellerName": "Farthest Bike Store",
                                    "Country": "Canada",
                                    "Category": "Bikes",
                                    "Total": "6246.8753",
                                    "CurrencyName": "Canadian Dollar"
                                },
                                {
                                    "ResellerName": "Excellent Bikes",
                                    "Country": "Germany",
                                    "Category": "Bikes",
                                    "Total": "6246.8753",
                                    "CurrencyName": "EURO"
                                },
                                {
                                    "ResellerName": "Running and Cycling Gear",
                                    "Country": "United States",
                                    "Category": "Bikes",
                                    "Total": "5678.9778",
                                    "CurrencyName": "US Dollar"
                                },
                                {
                                    "ResellerName": "Amalgamated Parts Shop",
                                    "Country": "Germany",
                                    "Category": "Bikes",
                                    "Total": "5395.0287",
                                    "CurrencyName": "EURO"
                                },
                                {
                                    "ResellerName": "Gears and Parts Company",
                                    "Country": "Australia",
                                    "Category": "Bikes",
                                    "Total": "5111.0799",
                                    "CurrencyName": "Australian Dollar"
                                },
                                {
                                    "ResellerName": "Rugged Bikes",
                                    "Country": "United States",
                                    "Category": "Bikes",
                                    "Total": "5111.0798",
                                    "CurrencyName": "US Dollar"
                                },
                                {
                                    "ResellerName": "Eighth Bike Store",
                                    "Country": "United States",
                                    "Category": "Bikes",
                                    "Total": "4827.1311",
                                    "CurrencyName": "US Dollar"
                                },
                                {
                                    "ResellerName": "Helmets and Cycles",
                                    "Country": "Australia",
                                    "Category": "Bikes",
                                    "Total": "4827.131",
                                    "CurrencyName": "Australian Dollar"
                                },
                                {
                                    "ResellerName": "Odometers and Accessories Company",
                                    "Country": "Canada",
                                    "Category": "Bikes",
                                    "Total": "4827.131",
                                    "CurrencyName": "Canadian Dollar"
                                },
                                {
                                    "ResellerName": "Educational Services",
                                    "Country": "Germany",
                                    "Category": "Bikes",
                                    "Total": "4543.1822",
                                    "CurrencyName": "EURO"
                                },
                                {
                                    "ResellerName": "Sleek Bikes",
                                    "Country": "United States",
                                    "Category": "Bikes",
                                    "Total": "4543.1821",
                                    "CurrencyName": "US Dollar"
                                },
                                {
                                    "ResellerName": "Immense Manufacturing Company",
                                    "Country": "United States",
                                    "Category": "Bikes",
                                    "Total": "4543.182",
                                    "CurrencyName": "US Dollar"
                                },
                                {
                                    "ResellerName": "Kickstands and Accessories Company",
                                    "Country": "United States",
                                    "Category": "Bikes",
                                    "Total": "4259.2333",
                                    "CurrencyName": "US Dollar"
                                },
                                {
                                    "ResellerName": "Fourth Bike Store",
                                    "Country": "United States",
                                    "Category": "Bikes",
                                    "Total": "4259.2333",
                                    "CurrencyName": "US Dollar"
                                },
                                {
                                    "ResellerName": "Mountain Bike Store",
                                    "Country": "United States",
                                    "Category": "Bikes",
                                    "Total": "4259.2333",
                                    "CurrencyName": "US Dollar"
                                },
                                {
                                    "ResellerName": "Cycle Parts and Accessories",
                                    "Country": "Australia",
                                    "Category": "Bikes",
                                    "Total": "3975.2845",
                                    "CurrencyName": "Australian Dollar"
                                },
                                {
                                    "ResellerName": "Blue-Ribbon Bike Company",
                                    "Country": "United States",
                                    "Category": "Bikes",
                                    "Total": "3975.2844",
                                    "CurrencyName": "US Dollar"
                                },
                                {
                                    "ResellerName": "Quick Parts and Service",
                                    "Country": "Canada",
                                    "Category": "Bikes",
                                    "Total": "3975.2844",
                                    "CurrencyName": "Canadian Dollar"
                                },
                                {
                                    "ResellerName": "The Bike Outlet",
                                    "Country": "France",
                                    "Category": "Bikes",
                                    "Total": "3975.2844",
                                    "CurrencyName": "US Dollar"
                                },
                                {
                                    "ResellerName": "Industrial Supplies",
                                    "Country": "United States",
                                    "Category": "Bikes",
                                    "Total": "3975.2843",
                                    "CurrencyName": "US Dollar"
                                },
                                {
                                    "ResellerName": "Authorized Bike Sales and Rental",
                                    "Country": "United States",
                                    "Category": "Bikes",
                                    "Total": "3975.2842",
                                    "CurrencyName": "US Dollar"
                                },
                                {
                                    "ResellerName": "Bike Part Wholesalers",
                                    "Country": "Australia",
                                    "Category": "Bikes",
                                    "Total": "3691.3355",
                                    "CurrencyName": "Australian Dollar"
                                },
                                {
                                    "ResellerName": "Fitness Supplies",
                                    "Country": "United States",
                                    "Category": "Bikes",
                                    "Total": "3691.3355",
                                    "CurrencyName": "US Dollar"
                                },
                                {
                                    "ResellerName": "Exchange Parts Inc.",
                                    "Country": "United States",
                                    "Category": "Bikes",
                                    "Total": "3691.3355",
                                    "CurrencyName": "US Dollar"
                                },
                                {
                                    "ResellerName": "Popular Bike Lines",
                                    "Country": "Australia",
                                    "Category": "Bikes",
                                    "Total": "3691.3355",
                                    "CurrencyName": "Australian Dollar"
                                },
                                {
                                    "ResellerName": "Helpful Sales and Repair Service",
                                    "Country": "Australia",
                                    "Category": "Bikes",
                                    "Total": "3691.3355",
                                    "CurrencyName": "Australian Dollar"
                                },
                                {
                                    "ResellerName": "Stock Parts and Supplies",
                                    "Country": "United States",
                                    "Category": "Bikes",
                                    "Total": "3407.3866",
                                    "CurrencyName": "US Dollar"
                                },
                                {
                                    "ResellerName": "Variety Cycling",
                                    "Country": "United Kingdom",
                                    "Category": "Bikes",
                                    "Total": "3123.4377",
                                    "CurrencyName": "United Kingdom Pound"
                                },
                                {
                                    "ResellerName": "Cycles Wholesaler & Mfg.",
                                    "Country": "United Kingdom",
                                    "Category": "Bikes",
                                    "Total": "3123.4377",
                                    "CurrencyName": "United Kingdom Pound"
                                },
                                {
                                    "ResellerName": "Fast Bike Works",
                                    "Country": "Australia",
                                    "Category": "Bikes",
                                    "Total": "3123.4376",
                                    "CurrencyName": "Australian Dollar"
                                },
                                {
                                    "ResellerName": "Fasteners & Bolts Outlet",
                                    "Country": "Canada",
                                    "Category": "Bikes",
                                    "Total": "2839.4889",
                                    "CurrencyName": "Canadian Dollar"
                                },
                                {
                                    "ResellerName": "Locks Company",
                                    "Country": "United States",
                                    "Category": "Bikes",
                                    "Total": "2839.4889",
                                    "CurrencyName": "US Dollar"
                                },
                                {
                                    "ResellerName": "Metal Clearing House",
                                    "Country": "Canada",
                                    "Category": "Bikes",
                                    "Total": "2839.4889",
                                    "CurrencyName": "Canadian Dollar"
                                },
                                {
                                    "ResellerName": "Pedaling Components",
                                    "Country": "Germany",
                                    "Category": "Bikes",
                                    "Total": "2555.5399",
                                    "CurrencyName": "EURO"
                                },
                                {
                                    "ResellerName": "Professional Sales and Service",
                                    "Country": "United States",
                                    "Category": "Bikes",
                                    "Total": "2271.5912",
                                    "CurrencyName": "US Dollar"
                                },
                                {
                                    "ResellerName": "Fun Toys and Bikes",
                                    "Country": "United States",
                                    "Category": "Bikes",
                                    "Total": "2271.5912",
                                    "CurrencyName": "US Dollar"
                                },
                                {
                                    "ResellerName": "Rich Department Store",
                                    "Country": "Australia",
                                    "Category": "Bikes",
                                    "Total": "2271.591",
                                    "CurrencyName": "Australian Dollar"
                                },
                                {
                                    "ResellerName": "Small Bike Accessories Shop",
                                    "Country": "United States",
                                    "Category": "Bikes",
                                    "Total": "1987.6423",
                                    "CurrencyName": "US Dollar"
                                },
                                {
                                    "ResellerName": "Sports Merchandise",
                                    "Country": "United States",
                                    "Category": "Bikes",
                                    "Total": "1987.6422",
                                    "CurrencyName": "US Dollar"
                                },
                                {
                                    "ResellerName": "Honest Repair Service",
                                    "Country": "United States",
                                    "Category": "Bikes",
                                    "Total": "1987.6422",
                                    "CurrencyName": "US Dollar"
                                },
                                {
                                    "ResellerName": "Liquidation Sales",
                                    "Country": "Australia",
                                    "Category": "Bikes",
                                    "Total": "1703.6934",
                                    "CurrencyName": "Australian Dollar"
                                },
                                {
                                    "ResellerName": "Racing Supply Distributors",
                                    "Country": "France",
                                    "Category": "Bikes",
                                    "Total": "1703.6934",
                                    "CurrencyName": "US Dollar"
                                },
                                {
                                    "ResellerName": "South Bike Company",
                                    "Country": "Canada",
                                    "Category": "Bikes",
                                    "Total": "1703.6933",
                                    "CurrencyName": "Canadian Dollar"
                                },
                                {
                                    "ResellerName": "Quitting Business Distributors",
                                    "Country": "United States",
                                    "Category": "Bikes",
                                    "Total": "1419.7445",
                                    "CurrencyName": "US Dollar"
                                },
                                {
                                    "ResellerName": "Thrilling Bike Tours",
                                    "Country": "United States",
                                    "Category": "Bikes",
                                    "Total": "1419.7445",
                                    "CurrencyName": "US Dollar"
                                },
                                {
                                    "ResellerName": "Machines & Cycles Store",
                                    "Country": "Canada",
                                    "Category": "Bikes",
                                    "Total": "1419.7445",
                                    "CurrencyName": "Canadian Dollar"
                                },
                                {
                                    "ResellerName": "Finer Sporting Goods",
                                    "Country": "France",
                                    "Category": "Bikes",
                                    "Total": "1419.7445",
                                    "CurrencyName": "US Dollar"
                                },
                                {
                                    "ResellerName": "First Supplies",
                                    "Country": "Australia",
                                    "Category": "Bikes",
                                    "Total": "1419.7445",
                                    "CurrencyName": "Australian Dollar"
                                },
                                {
                                    "ResellerName": "Engineered Bike Systems",
                                    "Country": "United States",
                                    "Category": "Bikes",
                                    "Total": "1135.7956",
                                    "CurrencyName": "US Dollar"
                                },
                                {
                                    "ResellerName": "Cycles Sales and Repair",
                                    "Country": "France",
                                    "Category": "Bikes",
                                    "Total": "1135.7956",
                                    "CurrencyName": "US Dollar"
                                },
                                {
                                    "ResellerName": "Bicycle Exporters",
                                    "Country": "Germany",
                                    "Category": "Bikes",
                                    "Total": "1135.7956",
                                    "CurrencyName": "EURO"
                                },
                                {
                                    "ResellerName": "Novelty Bikes",
                                    "Country": "United States",
                                    "Category": "Bikes",
                                    "Total": "1135.7956",
                                    "CurrencyName": "US Dollar"
                                },
                                {
                                    "ResellerName": "Systematic Sales",
                                    "Country": "United States",
                                    "Category": "Bikes",
                                    "Total": "1135.7956",
                                    "CurrencyName": "US Dollar"
                                },
                                {
                                    "ResellerName": "Plastic Products Manufacturers",
                                    "Country": "Australia",
                                    "Category": "Bikes",
                                    "Total": "1135.7956",
                                    "CurrencyName": "Australian Dollar"
                                },
                                {
                                    "ResellerName": "Finer Mart",
                                    "Country": "United States",
                                    "Category": "Bikes",
                                    "Total": "1135.7955",
                                    "CurrencyName": "US Dollar"
                                },
                                {
                                    "ResellerName": "Exemplary Cycles",
                                    "Country": "United States",
                                    "Category": "Bikes",
                                    "Total": "851.8467",
                                    "CurrencyName": "US Dollar"
                                },
                                {
                                    "ResellerName": "Paints and Solvents Company",
                                    "Country": "United States",
                                    "Category": "Bikes",
                                    "Total": "851.8467",
                                    "CurrencyName": "US Dollar"
                                },
                                {
                                    "ResellerName": "West Wind Distributors",
                                    "Country": "Germany",
                                    "Category": "Bikes",
                                    "Total": "851.8467",
                                    "CurrencyName": "EURO"
                                },
                                {
                                    "ResellerName": "Efficient Cycling",
                                    "Country": "Canada",
                                    "Category": "Bikes",
                                    "Total": "851.8466",
                                    "CurrencyName": "Canadian Dollar"
                                },
                                {
                                    "ResellerName": "Purchase Mart",
                                    "Country": "United States",
                                    "Category": "Bikes",
                                    "Total": "567.8978",
                                    "CurrencyName": "US Dollar"
                                },
                                {
                                    "ResellerName": "Quality Bike Sales",
                                    "Country": "Australia",
                                    "Category": "Bikes",
                                    "Total": "567.8978",
                                    "CurrencyName": "Australian Dollar"
                                },
                                {
                                    "ResellerName": "List Price Catalog Company",
                                    "Country": "Australia",
                                    "Category": "Bikes",
                                    "Total": "567.8978",
                                    "CurrencyName": "Australian Dollar"
                                },
                                {
                                    "ResellerName": "Rural Department Store",
                                    "Country": "United States",
                                    "Category": "Bikes",
                                    "Total": "567.8978",
                                    "CurrencyName": "US Dollar"
                                },
                                {
                                    "ResellerName": "Rustic Bike Store",
                                    "Country": "Germany",
                                    "Category": "Bikes",
                                    "Total": "283.9489",
                                    "CurrencyName": "EURO"
                                },
                                {
                                    "ResellerName": "Sensible Sports",
                                    "Country": "Australia",
                                    "Category": "Bikes",
                                    "Total": "283.9489",
                                    "CurrencyName": "Australian Dollar"
                                },
                                {
                                    "ResellerName": "Rampart Amusement Company",
                                    "Country": "United Kingdom",
                                    "Category": "Bikes",
                                    "Total": "283.9489",
                                    "CurrencyName": "United Kingdom Pound"
                                },
                                {
                                    "ResellerName": "Vale Riding Supplies",
                                    "Country": "United States",
                                    "Category": "Bikes",
                                    "Total": "283.9489",
                                    "CurrencyName": "US Dollar"
                                },
                                {
                                    "ResellerName": "Transport Bikes",
                                    "Country": "United States",
                                    "Category": "Bikes",
                                    "Total": "283.9489",
                                    "CurrencyName": "US Dollar"
                                },
                                {
                                    "ResellerName": "Incomparable Bicycle Store",
                                    "Country": "United States",
                                    "Category": "Bikes",
                                    "Total": "283.9489",
                                    "CurrencyName": "US Dollar"
                                },
                                {
                                    "ResellerName": "Off-Price Bike Center",
                                    "Country": "Germany",
                                    "Category": "Bikes",
                                    "Total": "283.9489",
                                    "CurrencyName": "EURO"
                                },
                                {
                                    "ResellerName": "Eastside Cycle Shop",
                                    "Country": "Australia",
                                    "Category": "Bikes",
                                    "Total": "283.9489",
                                    "CurrencyName": "Australian Dollar"
                                },
                                {
                                    "ResellerName": "Eastward Bike Accessories",
                                    "Country": "Australia",
                                    "Category": "Bikes",
                                    "Total": "283.9489",
                                    "CurrencyName": "Australian Dollar"
                                },
                                {
                                    "ResellerName": "Cycle Clearance",
                                    "Country": "United States",
                                    "Category": "Bikes",
                                    "Total": "283.9489",
                                    "CurrencyName": "US Dollar"
                                },
                                {
                                    "ResellerName": "Accessories Network",
                                    "Country": "France",
                                    "Category": "Bikes",
                                    "Total": "283.9489",
                                    "CurrencyName": "US Dollar"
                                },
                                {
                                    "ResellerName": "Family Entertainment Center",
                                    "Country": "United States",
                                    "Category": "Bikes",
                                    "Total": "283.9489",
                                    "CurrencyName": "US Dollar"
                                },
                                {
                                    "ResellerName": "Fitness Bike Accessories",
                                    "Country": "Australia",
                                    "Category": "Bikes",
                                    "Total": "283.9489",
                                    "CurrencyName": "Australian Dollar"
                                },
                                {
                                    "ResellerName": "Fitness Discount Store",
                                    "Country": "Australia",
                                    "Category": "Bikes",
                                    "Total": "283.9489",
                                    "CurrencyName": "Australian Dollar"
                                }
                            ]
                        },
                        "text/html": [
                            "<table>",
                            "<tr><th>ResellerName</th><th>Country</th><th>Category</th><th>Total</th><th>CurrencyName</th></tr>",
                            "<tr><td>Action Bicycle Specialists</td><td>United Kingdom</td><td>Bikes</td><td>19024.5748</td><td>United Kingdom Pound</td></tr>",
                            "<tr><td>Westside Plaza</td><td>United States</td><td>Bikes</td><td>19024.5746</td><td>US Dollar</td></tr>",
                            "<tr><td>Camping and Sports Store</td><td>Canada</td><td>Bikes</td><td>17320.8815</td><td>Canadian Dollar</td></tr>",
                            "<tr><td>Global Bike Retailers</td><td>Germany</td><td>Bikes</td><td>16752.9838</td><td>EURO</td></tr>",
                            "<tr><td>Perfect Toys</td><td>France</td><td>Bikes</td><td>15333.2394</td><td>US Dollar</td></tr>",
                            "<tr><td>Roadway Bicycle Supply</td><td>France</td><td>Bikes</td><td>14481.3929</td><td>US Dollar</td></tr>",
                            "<tr><td>Rally Master Company Inc</td><td>United States</td><td>Bikes</td><td>13913.495</td><td>US Dollar</td></tr>",
                            "<tr><td>Best Cycle Store</td><td>Germany</td><td>Bikes</td><td>12493.7506</td><td>EURO</td></tr>",
                            "<tr><td>Front Runner Bikes</td><td>United States</td><td>Bikes</td><td>11641.9039</td><td>US Dollar</td></tr>",
                            "<tr><td>Favorite Toy Distributor</td><td>France</td><td>Bikes</td><td>10506.1085</td><td>EURO</td></tr>",
                            "<tr><td>Glossy Bikes</td><td>United States</td><td>Bikes</td><td>9086.3642</td><td>US Dollar</td></tr>",
                            "<tr><td>Outstanding Cycles</td><td>United States</td><td>Bikes</td><td>9086.3641</td><td>US Dollar</td></tr>",
                            "<tr><td>Another Bicycle Company</td><td>United States</td><td>Bikes</td><td>8518.4665</td><td>US Dollar</td></tr>",
                            "<tr><td>Vintage Sport Boutique</td><td>United States</td><td>Bikes</td><td>8518.4665</td><td>US Dollar</td></tr>",
                            "<tr><td>Technical Parts Manufacturing</td><td>United States</td><td>Bikes</td><td>8518.4665</td><td>US Dollar</td></tr>",
                            "<tr><td>Instruments and Parts Company</td><td>United Kingdom</td><td>Bikes</td><td>7950.5687</td><td>United Kingdom Pound</td></tr>",
                            "<tr><td>Metro Metals Co.</td><td>United Kingdom</td><td>Bikes</td><td>7666.6198</td><td>United Kingdom Pound</td></tr>",
                            "<tr><td>Extreme Riding Supplies</td><td>United States</td><td>Bikes</td><td>7666.6196</td><td>US Dollar</td></tr>",
                            "<tr><td>Next Door Cycles</td><td>Germany</td><td>Bikes</td><td>7382.671</td><td>EURO</td></tr>",
                            "<tr><td>Nationwide Supply</td><td>Australia</td><td>Bikes</td><td>7382.6709</td><td>Australian Dollar</td></tr>",
                            "<tr><td>Petroleum Products Distributors</td><td>Canada</td><td>Bikes</td><td>7098.722</td><td>Canadian Dollar</td></tr>",
                            "<tr><td>Roadway Bike Emporium</td><td>United States</td><td>Bikes</td><td>7098.7219</td><td>US Dollar</td></tr>",
                            "<tr><td>Utilitarian Sporting Goods</td><td>United States</td><td>Bikes</td><td>6814.7731</td><td>US Dollar</td></tr>",
                            "<tr><td>Grand Industries</td><td>Canada</td><td>Bikes</td><td>6530.8242</td><td>Canadian Dollar</td></tr>",
                            "<tr><td>Farthest Bike Store</td><td>Canada</td><td>Bikes</td><td>6246.8753</td><td>Canadian Dollar</td></tr>",
                            "<tr><td>Excellent Bikes</td><td>Germany</td><td>Bikes</td><td>6246.8753</td><td>EURO</td></tr>",
                            "<tr><td>Running and Cycling Gear</td><td>United States</td><td>Bikes</td><td>5678.9778</td><td>US Dollar</td></tr>",
                            "<tr><td>Amalgamated Parts Shop</td><td>Germany</td><td>Bikes</td><td>5395.0287</td><td>EURO</td></tr>",
                            "<tr><td>Gears and Parts Company</td><td>Australia</td><td>Bikes</td><td>5111.0799</td><td>Australian Dollar</td></tr>",
                            "<tr><td>Rugged Bikes</td><td>United States</td><td>Bikes</td><td>5111.0798</td><td>US Dollar</td></tr>",
                            "<tr><td>Eighth Bike Store</td><td>United States</td><td>Bikes</td><td>4827.1311</td><td>US Dollar</td></tr>",
                            "<tr><td>Helmets and Cycles</td><td>Australia</td><td>Bikes</td><td>4827.131</td><td>Australian Dollar</td></tr>",
                            "<tr><td>Odometers and Accessories Company</td><td>Canada</td><td>Bikes</td><td>4827.131</td><td>Canadian Dollar</td></tr>",
                            "<tr><td>Educational Services</td><td>Germany</td><td>Bikes</td><td>4543.1822</td><td>EURO</td></tr>",
                            "<tr><td>Sleek Bikes</td><td>United States</td><td>Bikes</td><td>4543.1821</td><td>US Dollar</td></tr>",
                            "<tr><td>Immense Manufacturing Company</td><td>United States</td><td>Bikes</td><td>4543.182</td><td>US Dollar</td></tr>",
                            "<tr><td>Kickstands and Accessories Company</td><td>United States</td><td>Bikes</td><td>4259.2333</td><td>US Dollar</td></tr>",
                            "<tr><td>Fourth Bike Store</td><td>United States</td><td>Bikes</td><td>4259.2333</td><td>US Dollar</td></tr>",
                            "<tr><td>Mountain Bike Store</td><td>United States</td><td>Bikes</td><td>4259.2333</td><td>US Dollar</td></tr>",
                            "<tr><td>Cycle Parts and Accessories</td><td>Australia</td><td>Bikes</td><td>3975.2845</td><td>Australian Dollar</td></tr>",
                            "<tr><td>Blue-Ribbon Bike Company</td><td>United States</td><td>Bikes</td><td>3975.2844</td><td>US Dollar</td></tr>",
                            "<tr><td>Quick Parts and Service</td><td>Canada</td><td>Bikes</td><td>3975.2844</td><td>Canadian Dollar</td></tr>",
                            "<tr><td>The Bike Outlet</td><td>France</td><td>Bikes</td><td>3975.2844</td><td>US Dollar</td></tr>",
                            "<tr><td>Industrial Supplies</td><td>United States</td><td>Bikes</td><td>3975.2843</td><td>US Dollar</td></tr>",
                            "<tr><td>Authorized Bike Sales and Rental</td><td>United States</td><td>Bikes</td><td>3975.2842</td><td>US Dollar</td></tr>",
                            "<tr><td>Bike Part Wholesalers</td><td>Australia</td><td>Bikes</td><td>3691.3355</td><td>Australian Dollar</td></tr>",
                            "<tr><td>Fitness Supplies</td><td>United States</td><td>Bikes</td><td>3691.3355</td><td>US Dollar</td></tr>",
                            "<tr><td>Exchange Parts Inc.</td><td>United States</td><td>Bikes</td><td>3691.3355</td><td>US Dollar</td></tr>",
                            "<tr><td>Popular Bike Lines</td><td>Australia</td><td>Bikes</td><td>3691.3355</td><td>Australian Dollar</td></tr>",
                            "<tr><td>Helpful Sales and Repair Service</td><td>Australia</td><td>Bikes</td><td>3691.3355</td><td>Australian Dollar</td></tr>",
                            "<tr><td>Stock Parts and Supplies</td><td>United States</td><td>Bikes</td><td>3407.3866</td><td>US Dollar</td></tr>",
                            "<tr><td>Variety Cycling</td><td>United Kingdom</td><td>Bikes</td><td>3123.4377</td><td>United Kingdom Pound</td></tr>",
                            "<tr><td>Cycles Wholesaler &amp; Mfg.</td><td>United Kingdom</td><td>Bikes</td><td>3123.4377</td><td>United Kingdom Pound</td></tr>",
                            "<tr><td>Fast Bike Works</td><td>Australia</td><td>Bikes</td><td>3123.4376</td><td>Australian Dollar</td></tr>",
                            "<tr><td>Fasteners &amp; Bolts Outlet</td><td>Canada</td><td>Bikes</td><td>2839.4889</td><td>Canadian Dollar</td></tr>",
                            "<tr><td>Locks Company</td><td>United States</td><td>Bikes</td><td>2839.4889</td><td>US Dollar</td></tr>",
                            "<tr><td>Metal Clearing House</td><td>Canada</td><td>Bikes</td><td>2839.4889</td><td>Canadian Dollar</td></tr>",
                            "<tr><td>Pedaling Components</td><td>Germany</td><td>Bikes</td><td>2555.5399</td><td>EURO</td></tr>",
                            "<tr><td>Professional Sales and Service</td><td>United States</td><td>Bikes</td><td>2271.5912</td><td>US Dollar</td></tr>",
                            "<tr><td>Fun Toys and Bikes</td><td>United States</td><td>Bikes</td><td>2271.5912</td><td>US Dollar</td></tr>",
                            "<tr><td>Rich Department Store</td><td>Australia</td><td>Bikes</td><td>2271.591</td><td>Australian Dollar</td></tr>",
                            "<tr><td>Small Bike Accessories Shop</td><td>United States</td><td>Bikes</td><td>1987.6423</td><td>US Dollar</td></tr>",
                            "<tr><td>Sports Merchandise</td><td>United States</td><td>Bikes</td><td>1987.6422</td><td>US Dollar</td></tr>",
                            "<tr><td>Honest Repair Service</td><td>United States</td><td>Bikes</td><td>1987.6422</td><td>US Dollar</td></tr>",
                            "<tr><td>Liquidation Sales</td><td>Australia</td><td>Bikes</td><td>1703.6934</td><td>Australian Dollar</td></tr>",
                            "<tr><td>Racing Supply Distributors</td><td>France</td><td>Bikes</td><td>1703.6934</td><td>US Dollar</td></tr>",
                            "<tr><td>South Bike Company</td><td>Canada</td><td>Bikes</td><td>1703.6933</td><td>Canadian Dollar</td></tr>",
                            "<tr><td>Quitting Business Distributors</td><td>United States</td><td>Bikes</td><td>1419.7445</td><td>US Dollar</td></tr>",
                            "<tr><td>Thrilling Bike Tours</td><td>United States</td><td>Bikes</td><td>1419.7445</td><td>US Dollar</td></tr>",
                            "<tr><td>Machines &amp; Cycles Store</td><td>Canada</td><td>Bikes</td><td>1419.7445</td><td>Canadian Dollar</td></tr>",
                            "<tr><td>Finer Sporting Goods</td><td>France</td><td>Bikes</td><td>1419.7445</td><td>US Dollar</td></tr>",
                            "<tr><td>First Supplies</td><td>Australia</td><td>Bikes</td><td>1419.7445</td><td>Australian Dollar</td></tr>",
                            "<tr><td>Engineered Bike Systems</td><td>United States</td><td>Bikes</td><td>1135.7956</td><td>US Dollar</td></tr>",
                            "<tr><td>Cycles Sales and Repair</td><td>France</td><td>Bikes</td><td>1135.7956</td><td>US Dollar</td></tr>",
                            "<tr><td>Bicycle Exporters</td><td>Germany</td><td>Bikes</td><td>1135.7956</td><td>EURO</td></tr>",
                            "<tr><td>Novelty Bikes</td><td>United States</td><td>Bikes</td><td>1135.7956</td><td>US Dollar</td></tr>",
                            "<tr><td>Systematic Sales</td><td>United States</td><td>Bikes</td><td>1135.7956</td><td>US Dollar</td></tr>",
                            "<tr><td>Plastic Products Manufacturers</td><td>Australia</td><td>Bikes</td><td>1135.7956</td><td>Australian Dollar</td></tr>",
                            "<tr><td>Finer Mart</td><td>United States</td><td>Bikes</td><td>1135.7955</td><td>US Dollar</td></tr>",
                            "<tr><td>Exemplary Cycles</td><td>United States</td><td>Bikes</td><td>851.8467</td><td>US Dollar</td></tr>",
                            "<tr><td>Paints and Solvents Company</td><td>United States</td><td>Bikes</td><td>851.8467</td><td>US Dollar</td></tr>",
                            "<tr><td>West Wind Distributors</td><td>Germany</td><td>Bikes</td><td>851.8467</td><td>EURO</td></tr>",
                            "<tr><td>Efficient Cycling</td><td>Canada</td><td>Bikes</td><td>851.8466</td><td>Canadian Dollar</td></tr>",
                            "<tr><td>Purchase Mart</td><td>United States</td><td>Bikes</td><td>567.8978</td><td>US Dollar</td></tr>",
                            "<tr><td>Quality Bike Sales</td><td>Australia</td><td>Bikes</td><td>567.8978</td><td>Australian Dollar</td></tr>",
                            "<tr><td>List Price Catalog Company</td><td>Australia</td><td>Bikes</td><td>567.8978</td><td>Australian Dollar</td></tr>",
                            "<tr><td>Rural Department Store</td><td>United States</td><td>Bikes</td><td>567.8978</td><td>US Dollar</td></tr>",
                            "<tr><td>Rustic Bike Store</td><td>Germany</td><td>Bikes</td><td>283.9489</td><td>EURO</td></tr>",
                            "<tr><td>Sensible Sports</td><td>Australia</td><td>Bikes</td><td>283.9489</td><td>Australian Dollar</td></tr>",
                            "<tr><td>Rampart Amusement Company</td><td>United Kingdom</td><td>Bikes</td><td>283.9489</td><td>United Kingdom Pound</td></tr>",
                            "<tr><td>Vale Riding Supplies</td><td>United States</td><td>Bikes</td><td>283.9489</td><td>US Dollar</td></tr>",
                            "<tr><td>Transport Bikes</td><td>United States</td><td>Bikes</td><td>283.9489</td><td>US Dollar</td></tr>",
                            "<tr><td>Incomparable Bicycle Store</td><td>United States</td><td>Bikes</td><td>283.9489</td><td>US Dollar</td></tr>",
                            "<tr><td>Off-Price Bike Center</td><td>Germany</td><td>Bikes</td><td>283.9489</td><td>EURO</td></tr>",
                            "<tr><td>Eastside Cycle Shop</td><td>Australia</td><td>Bikes</td><td>283.9489</td><td>Australian Dollar</td></tr>",
                            "<tr><td>Eastward Bike Accessories</td><td>Australia</td><td>Bikes</td><td>283.9489</td><td>Australian Dollar</td></tr>",
                            "<tr><td>Cycle Clearance</td><td>United States</td><td>Bikes</td><td>283.9489</td><td>US Dollar</td></tr>",
                            "<tr><td>Accessories Network</td><td>France</td><td>Bikes</td><td>283.9489</td><td>US Dollar</td></tr>",
                            "<tr><td>Family Entertainment Center</td><td>United States</td><td>Bikes</td><td>283.9489</td><td>US Dollar</td></tr>",
                            "<tr><td>Fitness Bike Accessories</td><td>Australia</td><td>Bikes</td><td>283.9489</td><td>Australian Dollar</td></tr>",
                            "<tr><td>Fitness Discount Store</td><td>Australia</td><td>Bikes</td><td>283.9489</td><td>Australian Dollar</td></tr>",
                            "</table>"
                        ]
                    }
                }
            ],
            "execution_count": 17
        },
        {
            "cell_type": "markdown",
            "source": [
                "<span style=\"font-size: 12pt; font-family: &quot;Times New Roman&quot;, serif; background-color: transparent; font-weight: 700; font-variant-alternates: normal; font-variant-numeric: normal; font-variant-east-asian: normal; text-decoration-line: underline; text-decoration-skip-ink: none; vertical-align: baseline; white-space-collapse: preserve;\">Problem 2</span>\n",
                "\n",
                "<span style=\"font-size: 12pt; font-family: &quot;Times New Roman&quot;, serif; background-color: transparent; font-variant-alternates: normal; font-variant-numeric: normal; font-variant-east-asian: normal; vertical-align: baseline; white-space-collapse: preserve;\">You have been asked to examine the performance of sales using the Euro currency.&nbsp; Produce a report showing state or province name, city name, and total reseller sales, subtotaled by city,</span>\n",
                "\n",
                "<span style=\"font-size: 12pt; font-family: &quot;Times New Roman&quot;, serif; background-color: transparent; font-variant-alternates: normal; font-variant-numeric: normal; font-variant-east-asian: normal; vertical-align: baseline; white-space-collapse: preserve;\">for all EURO sales.&nbsp; You should have three columns, called State/Province, City, and Total Reseller Sales, in alphabetical order by State/Province.&nbsp; The total for each state or province should have the word \"Total\" instead of NULL in the city column.&nbsp; The overall total should have the word \"Grand\" in the State/Province column.</span>"
            ],
            "metadata": {
                "language": "sql",
                "azdata_cell_guid": "173aac16-270e-4217-909c-5dc6ec7c2d67"
            },
            "attachments": {}
        },
        {
            "cell_type": "code",
            "source": [
                "SELECT CASE WHEN g.StateProvinceName IS NULL\n",
                "            THEN 'Grand'\n",
                "            ELSE g.StateProvinceName\n",
                "            END AS 'State/Province'\n",
                "    , CASE WHEN g.City IS NULL \n",
                "            THEN 'Total'\n",
                "            ELSE g.City\n",
                "            END AS City\n",
                "    , SUM(rs.SalesAmount) AS Total \n",
                "FROM FactResellerSales rs \n",
                "INNER JOIN DimReseller rr \n",
                "ON rs.ResellerKey = rr.ResellerKey\n",
                "INNER JOIN DimCurrency c \n",
                "ON rs.CurrencyKey = c.CurrencyKey \n",
                "INNER JOIN DimGeography g \n",
                "ON rr.GeographyKey = g.GeographyKey\n",
                "WHERE c.CurrencyName = 'EURO'\n",
                "GROUP BY ROLLUP(g.StateProvinceName, g.City)\n",
                "ORDER BY g.StateProvinceName ASC"
            ],
            "metadata": {
                "language": "sql",
                "azdata_cell_guid": "8b53a611-52d4-47a3-8408-754cab5e529f"
            },
            "outputs": [
                {
                    "output_type": "display_data",
                    "data": {
                        "text/html": "(46 rows affected)"
                    },
                    "metadata": {}
                },
                {
                    "output_type": "display_data",
                    "data": {
                        "text/html": "Total execution time: 00:00:00.050"
                    },
                    "metadata": {}
                },
                {
                    "output_type": "execute_result",
                    "metadata": {},
                    "execution_count": 18,
                    "data": {
                        "application/vnd.dataresource+json": {
                            "schema": {
                                "fields": [
                                    {
                                        "name": "State/Province"
                                    },
                                    {
                                        "name": "City"
                                    },
                                    {
                                        "name": "Total"
                                    }
                                ]
                            },
                            "data": [
                                {
                                    "State/Province": "Grand",
                                    "City": "Total",
                                    "Total": "2474535.7092"
                                },
                                {
                                    "State/Province": "Bayern",
                                    "City": "Augsburg",
                                    "Total": "3192.3709"
                                },
                                {
                                    "State/Province": "Bayern",
                                    "City": "Frankfurt",
                                    "Total": "12795.432"
                                },
                                {
                                    "State/Province": "Bayern",
                                    "City": "Grevenbroich",
                                    "Total": "186217.0681"
                                },
                                {
                                    "State/Province": "Bayern",
                                    "City": "Total",
                                    "Total": "202204.871"
                                },
                                {
                                    "State/Province": "Brandenburg",
                                    "City": "Berlin",
                                    "Total": "144.00"
                                },
                                {
                                    "State/Province": "Brandenburg",
                                    "City": "Eilenburg",
                                    "Total": "116553.24"
                                },
                                {
                                    "State/Province": "Brandenburg",
                                    "City": "Total",
                                    "Total": "116697.24"
                                },
                                {
                                    "State/Province": "Hamburg",
                                    "City": "Augsburg",
                                    "Total": "5404.2048"
                                },
                                {
                                    "State/Province": "Hamburg",
                                    "City": "Berlin",
                                    "Total": "4689.126"
                                },
                                {
                                    "State/Province": "Hamburg",
                                    "City": "Essen",
                                    "Total": "30648.094"
                                },
                                {
                                    "State/Province": "Hamburg",
                                    "City": "Frankfurt am Main",
                                    "Total": "197327.5854"
                                },
                                {
                                    "State/Province": "Hamburg",
                                    "City": "Hamburg",
                                    "Total": "7963.932"
                                },
                                {
                                    "State/Province": "Hamburg",
                                    "City": "Muehlheim",
                                    "Total": "22090.0415"
                                },
                                {
                                    "State/Province": "Hamburg",
                                    "City": "Paderborn",
                                    "Total": "3372.3384"
                                },
                                {
                                    "State/Province": "Hamburg",
                                    "City": "Total",
                                    "Total": "271495.3221"
                                },
                                {
                                    "State/Province": "Hauts de Seine",
                                    "City": "Colombes",
                                    "Total": "147554.8323"
                                },
                                {
                                    "State/Province": "Hauts de Seine",
                                    "City": "Suresnes",
                                    "Total": "26980.5748"
                                },
                                {
                                    "State/Province": "Hauts de Seine",
                                    "City": "Total",
                                    "Total": "174535.4071"
                                },
                                {
                                    "State/Province": "Hessen",
                                    "City": "Bad Soden",
                                    "Total": "337756.7319"
                                },
                                {
                                    "State/Province": "Hessen",
                                    "City": "Berlin",
                                    "Total": "3372.4549"
                                },
                                {
                                    "State/Province": "Hessen",
                                    "City": "Duesseldorf",
                                    "Total": "12240.162"
                                },
                                {
                                    "State/Province": "Hessen",
                                    "City": "München",
                                    "Total": "8582.946"
                                },
                                {
                                    "State/Province": "Hessen",
                                    "City": "Total",
                                    "Total": "361952.2948"
                                },
                                {
                                    "State/Province": "Nordrhein-Westfalen",
                                    "City": "Berlin",
                                    "Total": "26427.372"
                                },
                                {
                                    "State/Province": "Nordrhein-Westfalen",
                                    "City": "Braunschweig",
                                    "Total": "8140.752"
                                },
                                {
                                    "State/Province": "Nordrhein-Westfalen",
                                    "City": "Hannover",
                                    "Total": "29218.3575"
                                },
                                {
                                    "State/Province": "Nordrhein-Westfalen",
                                    "City": "Leipzig",
                                    "Total": "6369.00"
                                },
                                {
                                    "State/Province": "Nordrhein-Westfalen",
                                    "City": "München",
                                    "Total": "153764.3535"
                                },
                                {
                                    "State/Province": "Nordrhein-Westfalen",
                                    "City": "Total",
                                    "Total": "223919.835"
                                },
                                {
                                    "State/Province": "Saarland",
                                    "City": "Berlin",
                                    "Total": "220496.689"
                                },
                                {
                                    "State/Province": "Saarland",
                                    "City": "Frankfurt am Main",
                                    "Total": "5426.7938"
                                },
                                {
                                    "State/Province": "Saarland",
                                    "City": "Kiel",
                                    "Total": "56130.0691"
                                },
                                {
                                    "State/Province": "Saarland",
                                    "City": "Münster",
                                    "Total": "132143.7064"
                                },
                                {
                                    "State/Province": "Saarland",
                                    "City": "Offenbach",
                                    "Total": "272052.2258"
                                },
                                {
                                    "State/Province": "Saarland",
                                    "City": "Poing",
                                    "Total": "1344.588"
                                },
                                {
                                    "State/Province": "Saarland",
                                    "City": "Saarbrücken",
                                    "Total": "117328.4563"
                                },
                                {
                                    "State/Province": "Saarland",
                                    "City": "Stuttgart",
                                    "Total": "228.582"
                                },
                                {
                                    "State/Province": "Saarland",
                                    "City": "Sulzbach Taunus",
                                    "Total": "2567.364"
                                },
                                {
                                    "State/Province": "Saarland",
                                    "City": "Total",
                                    "Total": "807718.4744"
                                },
                                {
                                    "State/Province": "Seine (Paris)",
                                    "City": "Paris",
                                    "Total": "287495.0167"
                                },
                                {
                                    "State/Province": "Seine (Paris)",
                                    "City": "Total",
                                    "Total": "287495.0167"
                                },
                                {
                                    "State/Province": "Seine et Marne",
                                    "City": "Lieusaint",
                                    "Total": "31.584"
                                },
                                {
                                    "State/Province": "Seine et Marne",
                                    "City": "Total",
                                    "Total": "31.584"
                                },
                                {
                                    "State/Province": "Val de Marne",
                                    "City": "Orly",
                                    "Total": "28485.6641"
                                },
                                {
                                    "State/Province": "Val de Marne",
                                    "City": "Total",
                                    "Total": "28485.6641"
                                }
                            ]
                        },
                        "text/html": [
                            "<table>",
                            "<tr><th>State/Province</th><th>City</th><th>Total</th></tr>",
                            "<tr><td>Grand</td><td>Total</td><td>2474535.7092</td></tr>",
                            "<tr><td>Bayern</td><td>Augsburg</td><td>3192.3709</td></tr>",
                            "<tr><td>Bayern</td><td>Frankfurt</td><td>12795.432</td></tr>",
                            "<tr><td>Bayern</td><td>Grevenbroich</td><td>186217.0681</td></tr>",
                            "<tr><td>Bayern</td><td>Total</td><td>202204.871</td></tr>",
                            "<tr><td>Brandenburg</td><td>Berlin</td><td>144.00</td></tr>",
                            "<tr><td>Brandenburg</td><td>Eilenburg</td><td>116553.24</td></tr>",
                            "<tr><td>Brandenburg</td><td>Total</td><td>116697.24</td></tr>",
                            "<tr><td>Hamburg</td><td>Augsburg</td><td>5404.2048</td></tr>",
                            "<tr><td>Hamburg</td><td>Berlin</td><td>4689.126</td></tr>",
                            "<tr><td>Hamburg</td><td>Essen</td><td>30648.094</td></tr>",
                            "<tr><td>Hamburg</td><td>Frankfurt am Main</td><td>197327.5854</td></tr>",
                            "<tr><td>Hamburg</td><td>Hamburg</td><td>7963.932</td></tr>",
                            "<tr><td>Hamburg</td><td>Muehlheim</td><td>22090.0415</td></tr>",
                            "<tr><td>Hamburg</td><td>Paderborn</td><td>3372.3384</td></tr>",
                            "<tr><td>Hamburg</td><td>Total</td><td>271495.3221</td></tr>",
                            "<tr><td>Hauts de Seine</td><td>Colombes</td><td>147554.8323</td></tr>",
                            "<tr><td>Hauts de Seine</td><td>Suresnes</td><td>26980.5748</td></tr>",
                            "<tr><td>Hauts de Seine</td><td>Total</td><td>174535.4071</td></tr>",
                            "<tr><td>Hessen</td><td>Bad Soden</td><td>337756.7319</td></tr>",
                            "<tr><td>Hessen</td><td>Berlin</td><td>3372.4549</td></tr>",
                            "<tr><td>Hessen</td><td>Duesseldorf</td><td>12240.162</td></tr>",
                            "<tr><td>Hessen</td><td>München</td><td>8582.946</td></tr>",
                            "<tr><td>Hessen</td><td>Total</td><td>361952.2948</td></tr>",
                            "<tr><td>Nordrhein-Westfalen</td><td>Berlin</td><td>26427.372</td></tr>",
                            "<tr><td>Nordrhein-Westfalen</td><td>Braunschweig</td><td>8140.752</td></tr>",
                            "<tr><td>Nordrhein-Westfalen</td><td>Hannover</td><td>29218.3575</td></tr>",
                            "<tr><td>Nordrhein-Westfalen</td><td>Leipzig</td><td>6369.00</td></tr>",
                            "<tr><td>Nordrhein-Westfalen</td><td>München</td><td>153764.3535</td></tr>",
                            "<tr><td>Nordrhein-Westfalen</td><td>Total</td><td>223919.835</td></tr>",
                            "<tr><td>Saarland</td><td>Berlin</td><td>220496.689</td></tr>",
                            "<tr><td>Saarland</td><td>Frankfurt am Main</td><td>5426.7938</td></tr>",
                            "<tr><td>Saarland</td><td>Kiel</td><td>56130.0691</td></tr>",
                            "<tr><td>Saarland</td><td>Münster</td><td>132143.7064</td></tr>",
                            "<tr><td>Saarland</td><td>Offenbach</td><td>272052.2258</td></tr>",
                            "<tr><td>Saarland</td><td>Poing</td><td>1344.588</td></tr>",
                            "<tr><td>Saarland</td><td>Saarbrücken</td><td>117328.4563</td></tr>",
                            "<tr><td>Saarland</td><td>Stuttgart</td><td>228.582</td></tr>",
                            "<tr><td>Saarland</td><td>Sulzbach Taunus</td><td>2567.364</td></tr>",
                            "<tr><td>Saarland</td><td>Total</td><td>807718.4744</td></tr>",
                            "<tr><td>Seine (Paris)</td><td>Paris</td><td>287495.0167</td></tr>",
                            "<tr><td>Seine (Paris)</td><td>Total</td><td>287495.0167</td></tr>",
                            "<tr><td>Seine et Marne</td><td>Lieusaint</td><td>31.584</td></tr>",
                            "<tr><td>Seine et Marne</td><td>Total</td><td>31.584</td></tr>",
                            "<tr><td>Val de Marne</td><td>Orly</td><td>28485.6641</td></tr>",
                            "<tr><td>Val de Marne</td><td>Total</td><td>28485.6641</td></tr>",
                            "</table>"
                        ]
                    }
                }
            ],
            "execution_count": 18
        },
        {
            "cell_type": "markdown",
            "source": [
                "<span style=\"font-size: 12pt; font-family: &quot;Times New Roman&quot;, serif; background-color: transparent; font-weight: 700; font-variant-alternates: normal; font-variant-numeric: normal; font-variant-east-asian: normal; text-decoration-line: underline; text-decoration-skip-ink: none; vertical-align: baseline; white-space-collapse: preserve;\">Problem 3</span>\n",
                "\n",
                "<span style=\"font-size: 12pt; font-family: &quot;Times New Roman&quot;, serif; background-color: transparent; font-variant-alternates: normal; font-variant-numeric: normal; font-variant-east-asian: normal; vertical-align: baseline; white-space-collapse: preserve;\">Produce a report that illustrates the total amount of reseller sales by currency.&nbsp; Ensure that you</span>\n",
                "\n",
                "<span style=\"font-size: 12pt; font-family: &quot;Times New Roman&quot;, serif; background-color: transparent; font-variant-alternates: normal; font-variant-numeric: normal; font-variant-east-asian: normal; vertical-align: baseline; white-space-collapse: preserve;\">show the greatest value first, and please round to two decimal places.</span>"
            ],
            "metadata": {
                "language": "sql",
                "azdata_cell_guid": "dc699040-0949-4e7d-80d1-a010d79f7373"
            },
            "attachments": {}
        },
        {
            "cell_type": "code",
            "source": [
                "USE ADW\n",
                "SELECT ROUND(SUM(rs.SalesAmount), 2) AS Total \n",
                "    , c.CurrencyName\n",
                "FROM FactResellerSales rs \n",
                "INNER JOIN DimCurrency c \n",
                "ON rs.CurrencyKey = c.CurrencyKey \n",
                "GROUP BY c.CurrencyName\n",
                "ORDER BY Total DESC"
            ],
            "metadata": {
                "language": "sql",
                "azdata_cell_guid": "c9c07d70-bfef-4515-a1b3-3106beb93472"
            },
            "outputs": [
                {
                    "output_type": "display_data",
                    "data": {
                        "text/html": "(5 rows affected)"
                    },
                    "metadata": {}
                },
                {
                    "output_type": "display_data",
                    "data": {
                        "text/html": "Total execution time: 00:00:00.296"
                    },
                    "metadata": {}
                },
                {
                    "output_type": "execute_result",
                    "metadata": {},
                    "execution_count": 27,
                    "data": {
                        "application/vnd.dataresource+json": {
                            "schema": {
                                "fields": [
                                    {
                                        "name": "Total"
                                    },
                                    {
                                        "name": "CurrencyName"
                                    }
                                ]
                            },
                            "data": [
                                {
                                    "Total": "57724791.47",
                                    "CurrencyName": "US Dollar"
                                },
                                {
                                    "Total": "14377925.60",
                                    "CurrencyName": "Canadian Dollar"
                                },
                                {
                                    "Total": "4279008.83",
                                    "CurrencyName": "United Kingdom Pound"
                                },
                                {
                                    "Total": "2474535.71",
                                    "CurrencyName": "EURO"
                                },
                                {
                                    "Total": "1594335.38",
                                    "CurrencyName": "Australian Dollar"
                                }
                            ]
                        },
                        "text/html": [
                            "<table>",
                            "<tr><th>Total</th><th>CurrencyName</th></tr>",
                            "<tr><td>57724791.47</td><td>US Dollar</td></tr>",
                            "<tr><td>14377925.60</td><td>Canadian Dollar</td></tr>",
                            "<tr><td>4279008.83</td><td>United Kingdom Pound</td></tr>",
                            "<tr><td>2474535.71</td><td>EURO</td></tr>",
                            "<tr><td>1594335.38</td><td>Australian Dollar</td></tr>",
                            "</table>"
                        ]
                    }
                }
            ],
            "execution_count": 27
        },
        {
            "cell_type": "markdown",
            "source": [
                "<span id=\"docs-internal-guid-37e2ff77-7fff-91ec-fed0-645c81f42491\" style=\"caret-color: rgb(0, 0, 0); color: rgb(0, 0, 0);\"><p dir=\"ltr\" style=\"line-height: 1.38; margin-top: 0pt; margin-bottom: 0pt;\"><span style=\"font-size: 12pt; font-family: &quot;Times New Roman&quot;, serif; background-color: transparent; font-weight: 700; font-variant-alternates: normal; font-variant-numeric: normal; font-variant-east-asian: normal; text-decoration-line: underline; text-decoration-skip-ink: none; vertical-align: baseline; white-space-collapse: preserve;\">Problem 4</span></p><p dir=\"ltr\" style=\"line-height: 1.38; margin-top: 0pt; margin-bottom: 0pt;\"><span style=\"font-size: 12pt; font-family: &quot;Times New Roman&quot;, serif; background-color: transparent; font-variant-alternates: normal; font-variant-numeric: normal; font-variant-east-asian: normal; vertical-align: baseline; white-space-collapse: preserve;\">Leadership wants to compare the effectiveness of the Touring-1000 and Touring-3000 promotions across fiscal quarters for reseller sales. Produce a report with the following columns:</span></p><p dir=\"ltr\" style=\"line-height: 1.38; margin-top: 0pt; margin-bottom: 0pt;\"><span style=\"font-size: 12pt; font-family: &quot;Times New Roman&quot;, serif; background-color: transparent; font-variant-alternates: normal; font-variant-numeric: normal; font-variant-east-asian: normal; vertical-align: baseline; white-space-collapse: preserve;\">FiscalYear, English Promotion Name, Currency Name, FiscalQ2, FiscalQ3</span></p></span>"
            ],
            "metadata": {
                "language": "sql",
                "azdata_cell_guid": "d72d8fba-d9dc-40c3-a9ec-380e620ee074"
            },
            "attachments": {}
        },
        {
            "cell_type": "code",
            "source": [
                "USE ADW \n",
                "SELECT wider_data.FiscalYear\n",
                "    , wider_data.EnglishPromotionName\n",
                "    , wider_data.CurrencyName\n",
                "    , wider_data.[2] AS FiscalQ2\n",
                "    , wider_data.[3] AS FiscalQ3\n",
                "FROM \n",
                "(SELECT dd.FiscalYear\n",
                "    , dp.EnglishPromotionName\n",
                "    , c.CurrencyName\n",
                "    , dd.FiscalQuarter\n",
                "    , ROUND(SUM(rs.SalesAmount), 2) AS Total \n",
                "FROM FactResellerSales rs \n",
                "INNER JOIN DimPromotion dp \n",
                "ON rs.PromotionKey = dp.PromotionKey\n",
                "INNER JOIN DimReseller rr \n",
                "ON rs.ResellerKey = rr.ResellerKey\n",
                "INNER JOIN DimCurrency c \n",
                "ON rs.CurrencyKey = c.CurrencyKey \n",
                "INNER JOIN DimDate dd \n",
                "ON dd.DateKey = rs.OrderDateKey\n",
                "WHERE (dp.EnglishPromotionName LIKE 'Touring-1000%' \n",
                "    OR dp.EnglishPromotionName LIKE 'Touring-3000%')\n",
                "GROUP BY dd.FiscalYear\n",
                "    , dp.EnglishPromotionName\n",
                "    , c.CurrencyName\n",
                "    , dd.FiscalQuarter) AS f_data \n",
                "    PIVOT (\n",
                "        SUM(Total)\n",
                "        FOR FiscalQuarter\n",
                "        IN([1], [2], [3], [4])\n",
                "    ) AS wider_data"
            ],
            "metadata": {
                "language": "sql",
                "azdata_cell_guid": "256ed5f3-e8c6-49a2-9d18-2d1b722cf947"
            },
            "outputs": [
                {
                    "output_type": "display_data",
                    "data": {
                        "text/html": "(10 rows affected)"
                    },
                    "metadata": {}
                },
                {
                    "output_type": "display_data",
                    "data": {
                        "text/html": "Total execution time: 00:00:00.093"
                    },
                    "metadata": {}
                },
                {
                    "output_type": "execute_result",
                    "metadata": {},
                    "execution_count": 23,
                    "data": {
                        "application/vnd.dataresource+json": {
                            "schema": {
                                "fields": [
                                    {
                                        "name": "FiscalYear"
                                    },
                                    {
                                        "name": "EnglishPromotionName"
                                    },
                                    {
                                        "name": "CurrencyName"
                                    },
                                    {
                                        "name": "FiscalQ2"
                                    },
                                    {
                                        "name": "FiscalQ3"
                                    }
                                ]
                            },
                            "data": [
                                {
                                    "FiscalYear": "2012",
                                    "EnglishPromotionName": "Touring-1000 Promotion",
                                    "CurrencyName": "Australian Dollar",
                                    "FiscalQ2": "12206.44",
                                    "FiscalQ3": "66372.51"
                                },
                                {
                                    "FiscalYear": "2012",
                                    "EnglishPromotionName": "Touring-1000 Promotion",
                                    "CurrencyName": "Canadian Dollar",
                                    "FiscalQ2": "3051.61",
                                    "FiscalQ3": "71712.83"
                                },
                                {
                                    "FiscalYear": "2012",
                                    "EnglishPromotionName": "Touring-1000 Promotion",
                                    "CurrencyName": "EURO",
                                    "FiscalQ2": "28227.39",
                                    "FiscalQ3": "37382.22"
                                },
                                {
                                    "FiscalYear": "2012",
                                    "EnglishPromotionName": "Touring-1000 Promotion",
                                    "CurrencyName": "United Kingdom Pound",
                                    "FiscalQ2": "6103.22",
                                    "FiscalQ3": "42722.53"
                                },
                                {
                                    "FiscalYear": "2012",
                                    "EnglishPromotionName": "Touring-1000 Promotion",
                                    "CurrencyName": "US Dollar",
                                    "FiscalQ2": "83919.26",
                                    "FiscalQ3": "229633.62"
                                },
                                {
                                    "FiscalYear": "2012",
                                    "EnglishPromotionName": "Touring-3000 Promotion",
                                    "CurrencyName": "Australian Dollar",
                                    "FiscalQ2": "8234.52",
                                    "FiscalQ3": "36345.46"
                                },
                                {
                                    "FiscalYear": "2012",
                                    "EnglishPromotionName": "Touring-3000 Promotion",
                                    "CurrencyName": "Canadian Dollar",
                                    "FiscalQ2": "1419.74",
                                    "FiscalQ3": "54234.24"
                                },
                                {
                                    "FiscalYear": "2012",
                                    "EnglishPromotionName": "Touring-3000 Promotion",
                                    "CurrencyName": "EURO",
                                    "FiscalQ2": "19024.57",
                                    "FiscalQ3": "49407.11"
                                },
                                {
                                    "FiscalYear": "2012",
                                    "EnglishPromotionName": "Touring-3000 Promotion",
                                    "CurrencyName": "United Kingdom Pound",
                                    "FiscalQ2": "3123.44",
                                    "FiscalQ3": "38049.15"
                                },
                                {
                                    "FiscalYear": "2012",
                                    "EnglishPromotionName": "Touring-3000 Promotion",
                                    "CurrencyName": "US Dollar",
                                    "FiscalQ2": "64172.45",
                                    "FiscalQ3": "169233.53"
                                }
                            ]
                        },
                        "text/html": [
                            "<table>",
                            "<tr><th>FiscalYear</th><th>EnglishPromotionName</th><th>CurrencyName</th><th>FiscalQ2</th><th>FiscalQ3</th></tr>",
                            "<tr><td>2012</td><td>Touring-1000 Promotion</td><td>Australian Dollar</td><td>12206.44</td><td>66372.51</td></tr>",
                            "<tr><td>2012</td><td>Touring-1000 Promotion</td><td>Canadian Dollar</td><td>3051.61</td><td>71712.83</td></tr>",
                            "<tr><td>2012</td><td>Touring-1000 Promotion</td><td>EURO</td><td>28227.39</td><td>37382.22</td></tr>",
                            "<tr><td>2012</td><td>Touring-1000 Promotion</td><td>United Kingdom Pound</td><td>6103.22</td><td>42722.53</td></tr>",
                            "<tr><td>2012</td><td>Touring-1000 Promotion</td><td>US Dollar</td><td>83919.26</td><td>229633.62</td></tr>",
                            "<tr><td>2012</td><td>Touring-3000 Promotion</td><td>Australian Dollar</td><td>8234.52</td><td>36345.46</td></tr>",
                            "<tr><td>2012</td><td>Touring-3000 Promotion</td><td>Canadian Dollar</td><td>1419.74</td><td>54234.24</td></tr>",
                            "<tr><td>2012</td><td>Touring-3000 Promotion</td><td>EURO</td><td>19024.57</td><td>49407.11</td></tr>",
                            "<tr><td>2012</td><td>Touring-3000 Promotion</td><td>United Kingdom Pound</td><td>3123.44</td><td>38049.15</td></tr>",
                            "<tr><td>2012</td><td>Touring-3000 Promotion</td><td>US Dollar</td><td>64172.45</td><td>169233.53</td></tr>",
                            "</table>"
                        ]
                    }
                }
            ],
            "execution_count": 23
        },
        {
            "cell_type": "markdown",
            "source": [
                "<span id=\"docs-internal-guid-71c8eeea-7fff-a861-8ff6-9189683256ff\" style=\"caret-color: rgb(0, 0, 0); color: rgb(0, 0, 0);\"><p dir=\"ltr\" style=\"line-height: 1.38; margin-top: 0pt; margin-bottom: 0pt;\"><span style=\"font-size: 12pt; font-family: &quot;Times New Roman&quot;, serif; background-color: transparent; font-weight: 700; font-variant-alternates: normal; font-variant-numeric: normal; font-variant-east-asian: normal; text-decoration-line: underline; text-decoration-skip-ink: none; vertical-align: baseline; white-space-collapse: preserve;\">Problem 5</span></p><p dir=\"ltr\" style=\"line-height: 1.38; margin-top: 0pt; margin-bottom: 0pt;\"><span style=\"font-size: 12pt; font-family: &quot;Times New Roman&quot;, serif; background-color: transparent; font-variant-alternates: normal; font-variant-numeric: normal; font-variant-east-asian: normal; vertical-align: baseline; white-space-collapse: preserve;\">Leadership wants to improve profitability by targeting geographies with low spend as a function of income.&nbsp; Develop a report that shows sales territory region, associated state province name, currency, average income, average sales, and average sales as a percentage of average income.&nbsp; Order the result set so that the lowest share of income is first.</span></p></span>"
            ],
            "metadata": {
                "language": "sql",
                "azdata_cell_guid": "0d142150-1dde-43e7-bb5a-2f833a70a558"
            },
            "attachments": {}
        },
        {
            "cell_type": "code",
            "source": [
                "SELECT t.SalesTerritoryRegion\n",
                "    , g.StateProvinceName\n",
                "    , c.CurrencyName\n",
                "    , ROUND(AVG(cc.YearlyIncome), 2) AS AverageIncome\n",
                "    , ROUND(AVG(rs.SalesAmount), 2) AS AverageSales\n",
                "    , (AVG(rs.SalesAmount) / AVG(cc.YearlyIncome)) * 100 AS Percentage \n",
                "FROM FactResellerSales rs \n",
                "INNER JOIN DimReseller rr \n",
                "ON rs.ResellerKey = rr.ResellerKey\n",
                "INNER JOIN DimSalesTerritory t \n",
                "ON rs.SalesTerritoryKey = t.SalesTerritoryKey\n",
                "INNER JOIN DimCurrency c \n",
                "ON rs.CurrencyKey = c.CurrencyKey \n",
                "INNER JOIN DimGeography g \n",
                "ON t.SalesTerritoryKey = g.SalesTerritoryKey\n",
                "INNER JOIN DimCustomer cc \n",
                "ON cc.GeographyKey = g.GeographyKey\n",
                "GROUP BY t.SalesTerritoryRegion\n",
                "    , g.StateProvinceName\n",
                "    , c.CurrencyName\n",
                "ORDER BY Percentage ASC "
            ],
            "metadata": {
                "language": "sql",
                "azdata_cell_guid": "9908fd11-02b5-471c-95e0-a6c247dfdd1a"
            },
            "outputs": [
                {
                    "output_type": "display_data",
                    "data": {
                        "text/html": "(69 rows affected)"
                    },
                    "metadata": {}
                },
                {
                    "output_type": "display_data",
                    "data": {
                        "text/html": "Total execution time: 00:01:46.770"
                    },
                    "metadata": {}
                },
                {
                    "output_type": "execute_result",
                    "metadata": {},
                    "execution_count": 22,
                    "data": {
                        "application/vnd.dataresource+json": {
                            "schema": {
                                "fields": [
                                    {
                                        "name": "SalesTerritoryRegion"
                                    },
                                    {
                                        "name": "StateProvinceName"
                                    },
                                    {
                                        "name": "CurrencyName"
                                    },
                                    {
                                        "name": "AverageIncome"
                                    },
                                    {
                                        "name": "AverageSales"
                                    },
                                    {
                                        "name": "Percentage"
                                    }
                                ]
                            },
                            "data": [
                                {
                                    "SalesTerritoryRegion": "Southeast",
                                    "StateProvinceName": "South Carolina",
                                    "CurrencyName": "US Dollar",
                                    "AverageIncome": "110000.00",
                                    "AverageSales": "1325.15",
                                    "Percentage": "1.20"
                                },
                                {
                                    "SalesTerritoryRegion": "Australia",
                                    "StateProvinceName": "Queensland",
                                    "CurrencyName": "Australian Dollar",
                                    "AverageIncome": "64716.27",
                                    "AverageSales": "930.73",
                                    "Percentage": "1.43"
                                },
                                {
                                    "SalesTerritoryRegion": "Australia",
                                    "StateProvinceName": "New South Wales",
                                    "CurrencyName": "Australian Dollar",
                                    "AverageIncome": "64759.46",
                                    "AverageSales": "930.73",
                                    "Percentage": "1.43"
                                },
                                {
                                    "SalesTerritoryRegion": "Australia",
                                    "StateProvinceName": "Tasmania",
                                    "CurrencyName": "Australian Dollar",
                                    "AverageIncome": "64433.96",
                                    "AverageSales": "930.73",
                                    "Percentage": "1.44"
                                },
                                {
                                    "SalesTerritoryRegion": "Australia",
                                    "StateProvinceName": "Victoria",
                                    "CurrencyName": "Australian Dollar",
                                    "AverageIncome": "63545.86",
                                    "AverageSales": "930.73",
                                    "Percentage": "1.46"
                                },
                                {
                                    "SalesTerritoryRegion": "Australia",
                                    "StateProvinceName": "South Australia",
                                    "CurrencyName": "Australian Dollar",
                                    "AverageIncome": "63263.60",
                                    "AverageSales": "930.73",
                                    "Percentage": "1.47"
                                },
                                {
                                    "SalesTerritoryRegion": "Central",
                                    "StateProvinceName": "Minnesota",
                                    "CurrencyName": "US Dollar",
                                    "AverageIncome": "80000.00",
                                    "AverageSales": "1360.29",
                                    "Percentage": "1.70"
                                },
                                {
                                    "SalesTerritoryRegion": "Central",
                                    "StateProvinceName": "Missouri",
                                    "CurrencyName": "US Dollar",
                                    "AverageIncome": "80000.00",
                                    "AverageSales": "1360.29",
                                    "Percentage": "1.70"
                                },
                                {
                                    "SalesTerritoryRegion": "Northwest",
                                    "StateProvinceName": "Montana",
                                    "CurrencyName": "US Dollar",
                                    "AverageIncome": "90000.00",
                                    "AverageSales": "1579.66",
                                    "Percentage": "1.75"
                                },
                                {
                                    "SalesTerritoryRegion": "Southeast",
                                    "StateProvinceName": "Kentucky",
                                    "CurrencyName": "US Dollar",
                                    "AverageIncome": "70000.00",
                                    "AverageSales": "1325.15",
                                    "Percentage": "1.89"
                                },
                                {
                                    "SalesTerritoryRegion": "Southeast",
                                    "StateProvinceName": "Georgia",
                                    "CurrencyName": "US Dollar",
                                    "AverageIncome": "66666.67",
                                    "AverageSales": "1325.15",
                                    "Percentage": "1.98"
                                },
                                {
                                    "SalesTerritoryRegion": "Northeast",
                                    "StateProvinceName": "Massachusetts",
                                    "CurrencyName": "US Dollar",
                                    "AverageIncome": "60000.00",
                                    "AverageSales": "1193.47",
                                    "Percentage": "1.98"
                                },
                                {
                                    "SalesTerritoryRegion": "Southwest",
                                    "StateProvinceName": "California",
                                    "CurrencyName": "US Dollar",
                                    "AverageIncome": "66584.16",
                                    "AverageSales": "1380.26",
                                    "Percentage": "2.07"
                                },
                                {
                                    "SalesTerritoryRegion": "Canada",
                                    "StateProvinceName": "British Columbia",
                                    "CurrencyName": "Canadian Dollar",
                                    "AverageIncome": "57216.16",
                                    "AverageSales": "1256.37",
                                    "Percentage": "2.19"
                                },
                                {
                                    "SalesTerritoryRegion": "France",
                                    "StateProvinceName": "Charente-Maritime",
                                    "CurrencyName": "EURO",
                                    "AverageIncome": "47142.86",
                                    "AverageSales": "1075.76",
                                    "Percentage": "2.28"
                                },
                                {
                                    "SalesTerritoryRegion": "Southeast",
                                    "StateProvinceName": "Florida",
                                    "CurrencyName": "US Dollar",
                                    "AverageIncome": "56666.67",
                                    "AverageSales": "1325.15",
                                    "Percentage": "2.33"
                                },
                                {
                                    "SalesTerritoryRegion": "United Kingdom",
                                    "StateProvinceName": "England",
                                    "CurrencyName": "United Kingdom Pound",
                                    "AverageIncome": "52169.37",
                                    "AverageSales": "1215.63",
                                    "Percentage": "2.33"
                                },
                                {
                                    "SalesTerritoryRegion": "Germany",
                                    "StateProvinceName": "Saarland",
                                    "CurrencyName": "EURO",
                                    "AverageIncome": "45497.74",
                                    "AverageSales": "1078.84",
                                    "Percentage": "2.37"
                                },
                                {
                                    "SalesTerritoryRegion": "France",
                                    "StateProvinceName": "Val d'Oise",
                                    "CurrencyName": "EURO",
                                    "AverageIncome": "45333.33",
                                    "AverageSales": "1075.76",
                                    "Percentage": "2.37"
                                },
                                {
                                    "SalesTerritoryRegion": "Canada",
                                    "StateProvinceName": "Alberta",
                                    "CurrencyName": "Canadian Dollar",
                                    "AverageIncome": "51818.18",
                                    "AverageSales": "1256.37",
                                    "Percentage": "2.42"
                                },
                                {
                                    "SalesTerritoryRegion": "Germany",
                                    "StateProvinceName": "Hamburg",
                                    "CurrencyName": "EURO",
                                    "AverageIncome": "43367.00",
                                    "AverageSales": "1078.84",
                                    "Percentage": "2.48"
                                },
                                {
                                    "SalesTerritoryRegion": "Northeast",
                                    "StateProvinceName": "Ohio",
                                    "CurrencyName": "US Dollar",
                                    "AverageIncome": "47500.00",
                                    "AverageSales": "1193.47",
                                    "Percentage": "2.51"
                                },
                                {
                                    "SalesTerritoryRegion": "France",
                                    "StateProvinceName": "Loir et Cher",
                                    "CurrencyName": "EURO",
                                    "AverageIncome": "42352.94",
                                    "AverageSales": "1075.76",
                                    "Percentage": "2.53"
                                },
                                {
                                    "SalesTerritoryRegion": "Northeast",
                                    "StateProvinceName": "New York",
                                    "CurrencyName": "US Dollar",
                                    "AverageIncome": "46666.67",
                                    "AverageSales": "1193.47",
                                    "Percentage": "2.55"
                                },
                                {
                                    "SalesTerritoryRegion": "Germany",
                                    "StateProvinceName": "Hessen",
                                    "CurrencyName": "EURO",
                                    "AverageIncome": "42148.54",
                                    "AverageSales": "1078.84",
                                    "Percentage": "2.55"
                                },
                                {
                                    "SalesTerritoryRegion": "Germany",
                                    "StateProvinceName": "Nordrhein-Westfalen",
                                    "CurrencyName": "EURO",
                                    "AverageIncome": "42167.49",
                                    "AverageSales": "1078.84",
                                    "Percentage": "2.55"
                                },
                                {
                                    "SalesTerritoryRegion": "Northwest",
                                    "StateProvinceName": "Washington",
                                    "CurrencyName": "US Dollar",
                                    "AverageIncome": "60132.57",
                                    "AverageSales": "1579.66",
                                    "Percentage": "2.62"
                                },
                                {
                                    "SalesTerritoryRegion": "Northwest",
                                    "StateProvinceName": "Wyoming",
                                    "CurrencyName": "US Dollar",
                                    "AverageIncome": "60000.00",
                                    "AverageSales": "1579.66",
                                    "Percentage": "2.63"
                                },
                                {
                                    "SalesTerritoryRegion": "Northwest",
                                    "StateProvinceName": "Utah",
                                    "CurrencyName": "US Dollar",
                                    "AverageIncome": "60000.00",
                                    "AverageSales": "1579.66",
                                    "Percentage": "2.63"
                                },
                                {
                                    "SalesTerritoryRegion": "Germany",
                                    "StateProvinceName": "Bayern",
                                    "CurrencyName": "EURO",
                                    "AverageIncome": "40789.47",
                                    "AverageSales": "1078.84",
                                    "Percentage": "2.64"
                                },
                                {
                                    "SalesTerritoryRegion": "Northwest",
                                    "StateProvinceName": "Oregon",
                                    "CurrencyName": "US Dollar",
                                    "AverageIncome": "59002.80",
                                    "AverageSales": "1579.66",
                                    "Percentage": "2.67"
                                },
                                {
                                    "SalesTerritoryRegion": "France",
                                    "StateProvinceName": "Moselle",
                                    "CurrencyName": "EURO",
                                    "AverageIncome": "39107.14",
                                    "AverageSales": "1075.76",
                                    "Percentage": "2.75"
                                },
                                {
                                    "SalesTerritoryRegion": "France",
                                    "StateProvinceName": "Somme",
                                    "CurrencyName": "EURO",
                                    "AverageIncome": "38636.36",
                                    "AverageSales": "1075.76",
                                    "Percentage": "2.78"
                                },
                                {
                                    "SalesTerritoryRegion": "France",
                                    "StateProvinceName": "Seine et Marne",
                                    "CurrencyName": "EURO",
                                    "AverageIncome": "38000.00",
                                    "AverageSales": "1075.76",
                                    "Percentage": "2.83"
                                },
                                {
                                    "SalesTerritoryRegion": "Germany",
                                    "StateProvinceName": "Brandenburg",
                                    "CurrencyName": "EURO",
                                    "AverageIncome": "38000.00",
                                    "AverageSales": "1078.84",
                                    "Percentage": "2.83"
                                },
                                {
                                    "SalesTerritoryRegion": "France",
                                    "StateProvinceName": "Charente-Maritime",
                                    "CurrencyName": "US Dollar",
                                    "AverageIncome": "47142.86",
                                    "AverageSales": "1339.29",
                                    "Percentage": "2.84"
                                },
                                {
                                    "SalesTerritoryRegion": "Southwest",
                                    "StateProvinceName": "Texas",
                                    "CurrencyName": "US Dollar",
                                    "AverageIncome": "47500.00",
                                    "AverageSales": "1380.26",
                                    "Percentage": "2.90"
                                },
                                {
                                    "SalesTerritoryRegion": "France",
                                    "StateProvinceName": "Hauts de Seine",
                                    "CurrencyName": "EURO",
                                    "AverageIncome": "36871.79",
                                    "AverageSales": "1075.76",
                                    "Percentage": "2.91"
                                },
                                {
                                    "SalesTerritoryRegion": "France",
                                    "StateProvinceName": "Val d'Oise",
                                    "CurrencyName": "US Dollar",
                                    "AverageIncome": "45333.33",
                                    "AverageSales": "1339.29",
                                    "Percentage": "2.95"
                                },
                                {
                                    "SalesTerritoryRegion": "France",
                                    "StateProvinceName": "Nord",
                                    "CurrencyName": "EURO",
                                    "AverageIncome": "36161.97",
                                    "AverageSales": "1075.76",
                                    "Percentage": "2.97"
                                },
                                {
                                    "SalesTerritoryRegion": "France",
                                    "StateProvinceName": "Seine (Paris)",
                                    "CurrencyName": "EURO",
                                    "AverageIncome": "36088.08",
                                    "AverageSales": "1075.76",
                                    "Percentage": "2.98"
                                },
                                {
                                    "SalesTerritoryRegion": "Central",
                                    "StateProvinceName": "Illinois",
                                    "CurrencyName": "US Dollar",
                                    "AverageIncome": "45000.00",
                                    "AverageSales": "1360.29",
                                    "Percentage": "3.02"
                                },
                                {
                                    "SalesTerritoryRegion": "France",
                                    "StateProvinceName": "Seine Saint Denis",
                                    "CurrencyName": "EURO",
                                    "AverageIncome": "34912.28",
                                    "AverageSales": "1075.76",
                                    "Percentage": "3.08"
                                },
                                {
                                    "SalesTerritoryRegion": "France",
                                    "StateProvinceName": "Val de Marne",
                                    "CurrencyName": "EURO",
                                    "AverageIncome": "34666.67",
                                    "AverageSales": "1075.76",
                                    "Percentage": "3.10"
                                },
                                {
                                    "SalesTerritoryRegion": "France",
                                    "StateProvinceName": "Yveline",
                                    "CurrencyName": "EURO",
                                    "AverageIncome": "34345.24",
                                    "AverageSales": "1075.76",
                                    "Percentage": "3.13"
                                },
                                {
                                    "SalesTerritoryRegion": "Canada",
                                    "StateProvinceName": "Ontario",
                                    "CurrencyName": "Canadian Dollar",
                                    "AverageIncome": "40000.00",
                                    "AverageSales": "1256.37",
                                    "Percentage": "3.14"
                                },
                                {
                                    "SalesTerritoryRegion": "France",
                                    "StateProvinceName": "Loir et Cher",
                                    "CurrencyName": "US Dollar",
                                    "AverageIncome": "42352.94",
                                    "AverageSales": "1339.29",
                                    "Percentage": "3.16"
                                },
                                {
                                    "SalesTerritoryRegion": "France",
                                    "StateProvinceName": "Pas de Calais",
                                    "CurrencyName": "EURO",
                                    "AverageIncome": "33750.00",
                                    "AverageSales": "1075.76",
                                    "Percentage": "3.18"
                                },
                                {
                                    "SalesTerritoryRegion": "France",
                                    "StateProvinceName": "Essonne",
                                    "CurrencyName": "EURO",
                                    "AverageIncome": "33600.00",
                                    "AverageSales": "1075.76",
                                    "Percentage": "3.20"
                                },
                                {
                                    "SalesTerritoryRegion": "Southeast",
                                    "StateProvinceName": "Alabama",
                                    "CurrencyName": "US Dollar",
                                    "AverageIncome": "40000.00",
                                    "AverageSales": "1325.15",
                                    "Percentage": "3.31"
                                },
                                {
                                    "SalesTerritoryRegion": "Southeast",
                                    "StateProvinceName": "Mississippi",
                                    "CurrencyName": "US Dollar",
                                    "AverageIncome": "40000.00",
                                    "AverageSales": "1325.15",
                                    "Percentage": "3.31"
                                },
                                {
                                    "SalesTerritoryRegion": "Southeast",
                                    "StateProvinceName": "North Carolina",
                                    "CurrencyName": "US Dollar",
                                    "AverageIncome": "40000.00",
                                    "AverageSales": "1325.15",
                                    "Percentage": "3.31"
                                },
                                {
                                    "SalesTerritoryRegion": "Southeast",
                                    "StateProvinceName": "Virginia",
                                    "CurrencyName": "US Dollar",
                                    "AverageIncome": "40000.00",
                                    "AverageSales": "1325.15",
                                    "Percentage": "3.31"
                                },
                                {
                                    "SalesTerritoryRegion": "France",
                                    "StateProvinceName": "Moselle",
                                    "CurrencyName": "US Dollar",
                                    "AverageIncome": "39107.14",
                                    "AverageSales": "1339.29",
                                    "Percentage": "3.42"
                                },
                                {
                                    "SalesTerritoryRegion": "Southwest",
                                    "StateProvinceName": "Arizona",
                                    "CurrencyName": "US Dollar",
                                    "AverageIncome": "40000.00",
                                    "AverageSales": "1380.26",
                                    "Percentage": "3.45"
                                },
                                {
                                    "SalesTerritoryRegion": "France",
                                    "StateProvinceName": "Somme",
                                    "CurrencyName": "US Dollar",
                                    "AverageIncome": "38636.36",
                                    "AverageSales": "1339.29",
                                    "Percentage": "3.46"
                                },
                                {
                                    "SalesTerritoryRegion": "France",
                                    "StateProvinceName": "Seine et Marne",
                                    "CurrencyName": "US Dollar",
                                    "AverageIncome": "38000.00",
                                    "AverageSales": "1339.29",
                                    "Percentage": "3.52"
                                },
                                {
                                    "SalesTerritoryRegion": "France",
                                    "StateProvinceName": "Hauts de Seine",
                                    "CurrencyName": "US Dollar",
                                    "AverageIncome": "36871.79",
                                    "AverageSales": "1339.29",
                                    "Percentage": "3.63"
                                },
                                {
                                    "SalesTerritoryRegion": "France",
                                    "StateProvinceName": "Garonne (Haute)",
                                    "CurrencyName": "EURO",
                                    "AverageIncome": "29000.00",
                                    "AverageSales": "1075.76",
                                    "Percentage": "3.70"
                                },
                                {
                                    "SalesTerritoryRegion": "France",
                                    "StateProvinceName": "Loiret",
                                    "CurrencyName": "EURO",
                                    "AverageIncome": "29000.00",
                                    "AverageSales": "1075.76",
                                    "Percentage": "3.70"
                                },
                                {
                                    "SalesTerritoryRegion": "France",
                                    "StateProvinceName": "Nord",
                                    "CurrencyName": "US Dollar",
                                    "AverageIncome": "36161.97",
                                    "AverageSales": "1339.29",
                                    "Percentage": "3.70"
                                },
                                {
                                    "SalesTerritoryRegion": "France",
                                    "StateProvinceName": "Seine (Paris)",
                                    "CurrencyName": "US Dollar",
                                    "AverageIncome": "36088.08",
                                    "AverageSales": "1339.29",
                                    "Percentage": "3.71"
                                },
                                {
                                    "SalesTerritoryRegion": "France",
                                    "StateProvinceName": "Seine Saint Denis",
                                    "CurrencyName": "US Dollar",
                                    "AverageIncome": "34912.28",
                                    "AverageSales": "1339.29",
                                    "Percentage": "3.83"
                                },
                                {
                                    "SalesTerritoryRegion": "France",
                                    "StateProvinceName": "Val de Marne",
                                    "CurrencyName": "US Dollar",
                                    "AverageIncome": "34666.67",
                                    "AverageSales": "1339.29",
                                    "Percentage": "3.86"
                                },
                                {
                                    "SalesTerritoryRegion": "France",
                                    "StateProvinceName": "Yveline",
                                    "CurrencyName": "US Dollar",
                                    "AverageIncome": "34345.24",
                                    "AverageSales": "1339.29",
                                    "Percentage": "3.89"
                                },
                                {
                                    "SalesTerritoryRegion": "France",
                                    "StateProvinceName": "Pas de Calais",
                                    "CurrencyName": "US Dollar",
                                    "AverageIncome": "33750.00",
                                    "AverageSales": "1339.29",
                                    "Percentage": "3.96"
                                },
                                {
                                    "SalesTerritoryRegion": "France",
                                    "StateProvinceName": "Essonne",
                                    "CurrencyName": "US Dollar",
                                    "AverageIncome": "33600.00",
                                    "AverageSales": "1339.29",
                                    "Percentage": "3.98"
                                },
                                {
                                    "SalesTerritoryRegion": "France",
                                    "StateProvinceName": "Garonne (Haute)",
                                    "CurrencyName": "US Dollar",
                                    "AverageIncome": "29000.00",
                                    "AverageSales": "1339.29",
                                    "Percentage": "4.61"
                                },
                                {
                                    "SalesTerritoryRegion": "France",
                                    "StateProvinceName": "Loiret",
                                    "CurrencyName": "US Dollar",
                                    "AverageIncome": "29000.00",
                                    "AverageSales": "1339.29",
                                    "Percentage": "4.61"
                                }
                            ]
                        },
                        "text/html": [
                            "<table>",
                            "<tr><th>SalesTerritoryRegion</th><th>StateProvinceName</th><th>CurrencyName</th><th>AverageIncome</th><th>AverageSales</th><th>Percentage</th></tr>",
                            "<tr><td>Southeast</td><td>South Carolina</td><td>US Dollar</td><td>110000.00</td><td>1325.15</td><td>1.20</td></tr>",
                            "<tr><td>Australia</td><td>Queensland</td><td>Australian Dollar</td><td>64716.27</td><td>930.73</td><td>1.43</td></tr>",
                            "<tr><td>Australia</td><td>New South Wales</td><td>Australian Dollar</td><td>64759.46</td><td>930.73</td><td>1.43</td></tr>",
                            "<tr><td>Australia</td><td>Tasmania</td><td>Australian Dollar</td><td>64433.96</td><td>930.73</td><td>1.44</td></tr>",
                            "<tr><td>Australia</td><td>Victoria</td><td>Australian Dollar</td><td>63545.86</td><td>930.73</td><td>1.46</td></tr>",
                            "<tr><td>Australia</td><td>South Australia</td><td>Australian Dollar</td><td>63263.60</td><td>930.73</td><td>1.47</td></tr>",
                            "<tr><td>Central</td><td>Minnesota</td><td>US Dollar</td><td>80000.00</td><td>1360.29</td><td>1.70</td></tr>",
                            "<tr><td>Central</td><td>Missouri</td><td>US Dollar</td><td>80000.00</td><td>1360.29</td><td>1.70</td></tr>",
                            "<tr><td>Northwest</td><td>Montana</td><td>US Dollar</td><td>90000.00</td><td>1579.66</td><td>1.75</td></tr>",
                            "<tr><td>Southeast</td><td>Kentucky</td><td>US Dollar</td><td>70000.00</td><td>1325.15</td><td>1.89</td></tr>",
                            "<tr><td>Southeast</td><td>Georgia</td><td>US Dollar</td><td>66666.67</td><td>1325.15</td><td>1.98</td></tr>",
                            "<tr><td>Northeast</td><td>Massachusetts</td><td>US Dollar</td><td>60000.00</td><td>1193.47</td><td>1.98</td></tr>",
                            "<tr><td>Southwest</td><td>California</td><td>US Dollar</td><td>66584.16</td><td>1380.26</td><td>2.07</td></tr>",
                            "<tr><td>Canada</td><td>British Columbia</td><td>Canadian Dollar</td><td>57216.16</td><td>1256.37</td><td>2.19</td></tr>",
                            "<tr><td>France</td><td>Charente-Maritime</td><td>EURO</td><td>47142.86</td><td>1075.76</td><td>2.28</td></tr>",
                            "<tr><td>Southeast</td><td>Florida</td><td>US Dollar</td><td>56666.67</td><td>1325.15</td><td>2.33</td></tr>",
                            "<tr><td>United Kingdom</td><td>England</td><td>United Kingdom Pound</td><td>52169.37</td><td>1215.63</td><td>2.33</td></tr>",
                            "<tr><td>Germany</td><td>Saarland</td><td>EURO</td><td>45497.74</td><td>1078.84</td><td>2.37</td></tr>",
                            "<tr><td>France</td><td>Val d&#39;Oise</td><td>EURO</td><td>45333.33</td><td>1075.76</td><td>2.37</td></tr>",
                            "<tr><td>Canada</td><td>Alberta</td><td>Canadian Dollar</td><td>51818.18</td><td>1256.37</td><td>2.42</td></tr>",
                            "<tr><td>Germany</td><td>Hamburg</td><td>EURO</td><td>43367.00</td><td>1078.84</td><td>2.48</td></tr>",
                            "<tr><td>Northeast</td><td>Ohio</td><td>US Dollar</td><td>47500.00</td><td>1193.47</td><td>2.51</td></tr>",
                            "<tr><td>France</td><td>Loir et Cher</td><td>EURO</td><td>42352.94</td><td>1075.76</td><td>2.53</td></tr>",
                            "<tr><td>Northeast</td><td>New York</td><td>US Dollar</td><td>46666.67</td><td>1193.47</td><td>2.55</td></tr>",
                            "<tr><td>Germany</td><td>Hessen</td><td>EURO</td><td>42148.54</td><td>1078.84</td><td>2.55</td></tr>",
                            "<tr><td>Germany</td><td>Nordrhein-Westfalen</td><td>EURO</td><td>42167.49</td><td>1078.84</td><td>2.55</td></tr>",
                            "<tr><td>Northwest</td><td>Washington</td><td>US Dollar</td><td>60132.57</td><td>1579.66</td><td>2.62</td></tr>",
                            "<tr><td>Northwest</td><td>Wyoming</td><td>US Dollar</td><td>60000.00</td><td>1579.66</td><td>2.63</td></tr>",
                            "<tr><td>Northwest</td><td>Utah</td><td>US Dollar</td><td>60000.00</td><td>1579.66</td><td>2.63</td></tr>",
                            "<tr><td>Germany</td><td>Bayern</td><td>EURO</td><td>40789.47</td><td>1078.84</td><td>2.64</td></tr>",
                            "<tr><td>Northwest</td><td>Oregon</td><td>US Dollar</td><td>59002.80</td><td>1579.66</td><td>2.67</td></tr>",
                            "<tr><td>France</td><td>Moselle</td><td>EURO</td><td>39107.14</td><td>1075.76</td><td>2.75</td></tr>",
                            "<tr><td>France</td><td>Somme</td><td>EURO</td><td>38636.36</td><td>1075.76</td><td>2.78</td></tr>",
                            "<tr><td>France</td><td>Seine et Marne</td><td>EURO</td><td>38000.00</td><td>1075.76</td><td>2.83</td></tr>",
                            "<tr><td>Germany</td><td>Brandenburg</td><td>EURO</td><td>38000.00</td><td>1078.84</td><td>2.83</td></tr>",
                            "<tr><td>France</td><td>Charente-Maritime</td><td>US Dollar</td><td>47142.86</td><td>1339.29</td><td>2.84</td></tr>",
                            "<tr><td>Southwest</td><td>Texas</td><td>US Dollar</td><td>47500.00</td><td>1380.26</td><td>2.90</td></tr>",
                            "<tr><td>France</td><td>Hauts de Seine</td><td>EURO</td><td>36871.79</td><td>1075.76</td><td>2.91</td></tr>",
                            "<tr><td>France</td><td>Val d&#39;Oise</td><td>US Dollar</td><td>45333.33</td><td>1339.29</td><td>2.95</td></tr>",
                            "<tr><td>France</td><td>Nord</td><td>EURO</td><td>36161.97</td><td>1075.76</td><td>2.97</td></tr>",
                            "<tr><td>France</td><td>Seine (Paris)</td><td>EURO</td><td>36088.08</td><td>1075.76</td><td>2.98</td></tr>",
                            "<tr><td>Central</td><td>Illinois</td><td>US Dollar</td><td>45000.00</td><td>1360.29</td><td>3.02</td></tr>",
                            "<tr><td>France</td><td>Seine Saint Denis</td><td>EURO</td><td>34912.28</td><td>1075.76</td><td>3.08</td></tr>",
                            "<tr><td>France</td><td>Val de Marne</td><td>EURO</td><td>34666.67</td><td>1075.76</td><td>3.10</td></tr>",
                            "<tr><td>France</td><td>Yveline</td><td>EURO</td><td>34345.24</td><td>1075.76</td><td>3.13</td></tr>",
                            "<tr><td>Canada</td><td>Ontario</td><td>Canadian Dollar</td><td>40000.00</td><td>1256.37</td><td>3.14</td></tr>",
                            "<tr><td>France</td><td>Loir et Cher</td><td>US Dollar</td><td>42352.94</td><td>1339.29</td><td>3.16</td></tr>",
                            "<tr><td>France</td><td>Pas de Calais</td><td>EURO</td><td>33750.00</td><td>1075.76</td><td>3.18</td></tr>",
                            "<tr><td>France</td><td>Essonne</td><td>EURO</td><td>33600.00</td><td>1075.76</td><td>3.20</td></tr>",
                            "<tr><td>Southeast</td><td>Alabama</td><td>US Dollar</td><td>40000.00</td><td>1325.15</td><td>3.31</td></tr>",
                            "<tr><td>Southeast</td><td>Mississippi</td><td>US Dollar</td><td>40000.00</td><td>1325.15</td><td>3.31</td></tr>",
                            "<tr><td>Southeast</td><td>North Carolina</td><td>US Dollar</td><td>40000.00</td><td>1325.15</td><td>3.31</td></tr>",
                            "<tr><td>Southeast</td><td>Virginia</td><td>US Dollar</td><td>40000.00</td><td>1325.15</td><td>3.31</td></tr>",
                            "<tr><td>France</td><td>Moselle</td><td>US Dollar</td><td>39107.14</td><td>1339.29</td><td>3.42</td></tr>",
                            "<tr><td>Southwest</td><td>Arizona</td><td>US Dollar</td><td>40000.00</td><td>1380.26</td><td>3.45</td></tr>",
                            "<tr><td>France</td><td>Somme</td><td>US Dollar</td><td>38636.36</td><td>1339.29</td><td>3.46</td></tr>",
                            "<tr><td>France</td><td>Seine et Marne</td><td>US Dollar</td><td>38000.00</td><td>1339.29</td><td>3.52</td></tr>",
                            "<tr><td>France</td><td>Hauts de Seine</td><td>US Dollar</td><td>36871.79</td><td>1339.29</td><td>3.63</td></tr>",
                            "<tr><td>France</td><td>Garonne (Haute)</td><td>EURO</td><td>29000.00</td><td>1075.76</td><td>3.70</td></tr>",
                            "<tr><td>France</td><td>Loiret</td><td>EURO</td><td>29000.00</td><td>1075.76</td><td>3.70</td></tr>",
                            "<tr><td>France</td><td>Nord</td><td>US Dollar</td><td>36161.97</td><td>1339.29</td><td>3.70</td></tr>",
                            "<tr><td>France</td><td>Seine (Paris)</td><td>US Dollar</td><td>36088.08</td><td>1339.29</td><td>3.71</td></tr>",
                            "<tr><td>France</td><td>Seine Saint Denis</td><td>US Dollar</td><td>34912.28</td><td>1339.29</td><td>3.83</td></tr>",
                            "<tr><td>France</td><td>Val de Marne</td><td>US Dollar</td><td>34666.67</td><td>1339.29</td><td>3.86</td></tr>",
                            "<tr><td>France</td><td>Yveline</td><td>US Dollar</td><td>34345.24</td><td>1339.29</td><td>3.89</td></tr>",
                            "<tr><td>France</td><td>Pas de Calais</td><td>US Dollar</td><td>33750.00</td><td>1339.29</td><td>3.96</td></tr>",
                            "<tr><td>France</td><td>Essonne</td><td>US Dollar</td><td>33600.00</td><td>1339.29</td><td>3.98</td></tr>",
                            "<tr><td>France</td><td>Garonne (Haute)</td><td>US Dollar</td><td>29000.00</td><td>1339.29</td><td>4.61</td></tr>",
                            "<tr><td>France</td><td>Loiret</td><td>US Dollar</td><td>29000.00</td><td>1339.29</td><td>4.61</td></tr>",
                            "</table>"
                        ]
                    }
                }
            ],
            "execution_count": 22
        }
    ]
}

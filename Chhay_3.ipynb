{
    "metadata": {
        "kernelspec": {
            "name": "SQL",
            "display_name": "SQL",
            "language": "sql"
        },
        "language_info": {
            "name": "sql",
            "version": ""
        }
    },
    "nbformat_minor": 2,
    "nbformat": 4,
    "cells": [
        {
            "cell_type": "markdown",
            "source": [
                "<span style=\"background-color: transparent; font-family: &quot;Times New Roman&quot;, serif; font-size: 12pt; font-weight: 700; white-space-collapse: preserve; color: var(--vscode-foreground);\">Data Management</span>\n",
                "\n",
                "<span style=\"font-size: 12pt; font-family: &quot;Times New Roman&quot;, serif; background-color: transparent; font-weight: 700; font-variant-alternates: normal; font-variant-numeric: normal; font-variant-east-asian: normal; vertical-align: baseline; white-space-collapse: preserve;\">SQL Assignment 3</span>\n",
                "\n",
                "<span style=\"font-size: 16px; white-space-collapse: preserve;\">Chamroeun Chhay</span>"
            ],
            "metadata": {
                "azdata_cell_guid": "89d42231-4aca-41bb-963c-bf7ad6d6ad2e"
            },
            "attachments": {}
        },
        {
            "cell_type": "markdown",
            "source": [
                "<span id=\"docs-internal-guid-ed0c8af4-7fff-e82c-9160-1e3e6cd83be7\" style=\"caret-color: rgb(0, 0, 0); color: rgb(0, 0, 0);\"><p dir=\"ltr\" style=\"line-height: 1.38; margin-top: 0pt; margin-bottom: 0pt;\"><span style=\"font-size: 12pt; font-family: &quot;Times New Roman&quot;, serif; background-color: transparent; font-weight: 700; font-variant-alternates: normal; font-variant-numeric: normal; font-variant-east-asian: normal; text-decoration-line: underline; text-decoration-skip-ink: none; vertical-align: baseline; white-space-collapse: preserve;\">Problem 1</span></p><p dir=\"ltr\" style=\"line-height: 1.38; margin-top: 0pt; margin-bottom: 0pt;\"><span style=\"font-size: 12pt; font-family: &quot;Times New Roman&quot;, serif; background-color: transparent; font-variant-alternates: normal; font-variant-numeric: normal; font-variant-east-asian: normal; vertical-align: baseline; white-space-collapse: preserve;\">In the last homework assignment, you created a list of territories that required training because they did not have at least one month during 2013 with sales of more than $750,000. Working with this sample principle, use a CASE statement to create a list of all territories in alphabetical order, with a new column called \"TrainingRequired\" that has a value of either \"Yes\" or \"No.\"</span></p></span>"
            ],
            "metadata": {
                "azdata_cell_guid": "008474c4-6418-401e-8e40-b2d1a9e07d97"
            },
            "attachments": {}
        },
        {
            "cell_type": "code",
            "source": [
                "SELECT DISTINCT t.Name AS TerritoryName \n",
                "    , CASE WHEN MAX(SUM(o.SubTotal)) OVER (PARTITION BY t.Name) > 750000\n",
                "    THEN 'No' ELSE 'Yes' END AS TrainingRequired\n",
                "FROM Sales.SalesOrderHeader o\n",
                "INNER JOIN Sales.SalesTerritory t \n",
                "ON o.TerritoryID = t.TerritoryID\n",
                "WHERE DATEPART(YEAR, o.OrderDate) = 2013\n",
                "GROUP BY t.Name, DATEPART(MONTH, o.OrderDate)\n",
                "ORDER BY t.Name"
            ],
            "metadata": {
                "azdata_cell_guid": "faac0e51-00c8-4ad7-a016-26fe1218fad0",
                "language": "sql",
                "tags": []
            },
            "outputs": [
                {
                    "output_type": "display_data",
                    "data": {
                        "text/html": "(10 rows affected)"
                    },
                    "metadata": {}
                },
                {
                    "output_type": "display_data",
                    "data": {
                        "text/html": "Total execution time: 00:00:00.051"
                    },
                    "metadata": {}
                },
                {
                    "output_type": "execute_result",
                    "execution_count": 12,
                    "data": {
                        "application/vnd.dataresource+json": {
                            "schema": {
                                "fields": [
                                    {
                                        "name": "TerritoryName"
                                    },
                                    {
                                        "name": "TrainingRequired"
                                    }
                                ]
                            },
                            "data": [
                                {
                                    "TerritoryName": "Australia",
                                    "TrainingRequired": "Yes"
                                },
                                {
                                    "TerritoryName": "Canada",
                                    "TrainingRequired": "No"
                                },
                                {
                                    "TerritoryName": "Central",
                                    "TrainingRequired": "Yes"
                                },
                                {
                                    "TerritoryName": "France",
                                    "TrainingRequired": "No"
                                },
                                {
                                    "TerritoryName": "Germany",
                                    "TrainingRequired": "Yes"
                                },
                                {
                                    "TerritoryName": "Northeast",
                                    "TrainingRequired": "Yes"
                                },
                                {
                                    "TerritoryName": "Northwest",
                                    "TrainingRequired": "No"
                                },
                                {
                                    "TerritoryName": "Southeast",
                                    "TrainingRequired": "Yes"
                                },
                                {
                                    "TerritoryName": "Southwest",
                                    "TrainingRequired": "No"
                                },
                                {
                                    "TerritoryName": "United Kingdom",
                                    "TrainingRequired": "Yes"
                                }
                            ]
                        },
                        "text/html": "<table><tr><th>TerritoryName</th><th>TrainingRequired</th></tr><tr><td>Australia</td><td>Yes</td></tr><tr><td>Canada</td><td>No</td></tr><tr><td>Central</td><td>Yes</td></tr><tr><td>France</td><td>No</td></tr><tr><td>Germany</td><td>Yes</td></tr><tr><td>Northeast</td><td>Yes</td></tr><tr><td>Northwest</td><td>No</td></tr><tr><td>Southeast</td><td>Yes</td></tr><tr><td>Southwest</td><td>No</td></tr><tr><td>United Kingdom</td><td>Yes</td></tr></table>"
                    },
                    "metadata": {}
                }
            ],
            "execution_count": 12
        },
        {
            "cell_type": "markdown",
            "source": [
                "<span id=\"docs-internal-guid-da778390-7fff-1576-79e9-e7b6c6050c46\" style=\"caret-color: rgb(0, 0, 0); color: rgb(0, 0, 0);\"><p dir=\"ltr\" style=\"line-height: 1.38; margin-top: 0pt; margin-bottom: 0pt;\"><span style=\"font-size: 12pt; font-family: &quot;Times New Roman&quot;, serif; background-color: transparent; font-weight: 700; font-variant-alternates: normal; font-variant-numeric: normal; font-variant-east-asian: normal; text-decoration-line: underline; text-decoration-skip-ink: none; vertical-align: baseline; white-space-collapse: preserve;\">Problem 2</span></p><p dir=\"ltr\" style=\"line-height: 1.38; margin-top: 0pt; margin-bottom: 0pt;\"><span style=\"font-size: 12pt; font-family: &quot;Times New Roman&quot;, serif; background-color: transparent; font-variant-alternates: normal; font-variant-numeric: normal; font-variant-east-asian: normal; vertical-align: baseline; white-space-collapse: preserve;\">The sales manager wants to know how many sales orders were shipped to each country and state/province.&nbsp; Your result set should contain three columns: Country, StateProvince, and TotalOrders in alphabetical order by country, then showing the greatest number of TotalOrders.</span></p></span>"
            ],
            "metadata": {
                "language": "sql",
                "azdata_cell_guid": "97b4d1ab-4a0e-42a9-be10-ecfd42359f5b"
            },
            "attachments": {}
        },
        {
            "cell_type": "code",
            "source": [
                "SELECT c.Name AS Country\n",
                "    , p.Name AS StateProvince\n",
                "    , COUNT(h.ShiptoAddressID) AS TotalSalesOrders\n",
                "FROM Person.Address a \n",
                "INNER JOIN Sales.SalesOrderHeader h \n",
                "ON a.AddressID = h.ShipToAddressID\n",
                "INNER JOIN Person.StateProvince p \n",
                "ON a.StateProvinceID = p.StateProvinceID\n",
                "INNER JOIN Person.CountryRegion c \n",
                "ON p.CountryRegionCode = c.CountryRegionCode\n",
                "GROUP BY c.Name, p.Name\n",
                "ORDER BY c.Name ASC, COUNT(h.SalesOrderNumber) DESC"
            ],
            "metadata": {
                "language": "sql",
                "azdata_cell_guid": "268ac5e0-ce53-4586-87fc-21c450404aae"
            },
            "outputs": [
                {
                    "output_type": "display_data",
                    "data": {
                        "text/html": "(70 rows affected)"
                    },
                    "metadata": {}
                },
                {
                    "output_type": "display_data",
                    "data": {
                        "text/html": "Total execution time: 00:00:00.103"
                    },
                    "metadata": {}
                },
                {
                    "output_type": "execute_result",
                    "execution_count": 5,
                    "data": {
                        "application/vnd.dataresource+json": {
                            "schema": {
                                "fields": [
                                    {
                                        "name": "Country"
                                    },
                                    {
                                        "name": "StateProvince"
                                    },
                                    {
                                        "name": "TotalSalesOrders"
                                    }
                                ]
                            },
                            "data": [
                                {
                                    "Country": "Australia",
                                    "StateProvince": "New South Wales",
                                    "TotalSalesOrders": "3009"
                                },
                                {
                                    "Country": "Australia",
                                    "StateProvince": "Victoria",
                                    "TotalSalesOrders": "1710"
                                },
                                {
                                    "Country": "Australia",
                                    "StateProvince": "Queensland",
                                    "TotalSalesOrders": "1461"
                                },
                                {
                                    "Country": "Australia",
                                    "StateProvince": "South Australia",
                                    "TotalSalesOrders": "466"
                                },
                                {
                                    "Country": "Australia",
                                    "StateProvince": "Tasmania",
                                    "TotalSalesOrders": "197"
                                },
                                {
                                    "Country": "Canada",
                                    "StateProvince": "British Columbia",
                                    "TotalSalesOrders": "3472"
                                },
                                {
                                    "Country": "Canada",
                                    "StateProvince": "Ontario",
                                    "TotalSalesOrders": "339"
                                },
                                {
                                    "Country": "Canada",
                                    "StateProvince": "Quebec",
                                    "TotalSalesOrders": "146"
                                },
                                {
                                    "Country": "Canada",
                                    "StateProvince": "Alberta",
                                    "TotalSalesOrders": "90"
                                },
                                {
                                    "Country": "Canada",
                                    "StateProvince": "Manitoba",
                                    "TotalSalesOrders": "12"
                                },
                                {
                                    "Country": "Canada",
                                    "StateProvince": "Brunswick",
                                    "TotalSalesOrders": "8"
                                },
                                {
                                    "Country": "France",
                                    "StateProvince": "Seine (Paris)",
                                    "TotalSalesOrders": "575"
                                },
                                {
                                    "Country": "France",
                                    "StateProvince": "Seine Saint Denis",
                                    "TotalSalesOrders": "391"
                                },
                                {
                                    "Country": "France",
                                    "StateProvince": "Nord",
                                    "TotalSalesOrders": "387"
                                },
                                {
                                    "Country": "France",
                                    "StateProvince": "Hauts de Seine",
                                    "TotalSalesOrders": "295"
                                },
                                {
                                    "Country": "France",
                                    "StateProvince": "Essonne",
                                    "TotalSalesOrders": "236"
                                },
                                {
                                    "Country": "France",
                                    "StateProvince": "Yveline",
                                    "TotalSalesOrders": "224"
                                },
                                {
                                    "Country": "France",
                                    "StateProvince": "Loiret",
                                    "TotalSalesOrders": "99"
                                },
                                {
                                    "Country": "France",
                                    "StateProvince": "Seine et Marne",
                                    "TotalSalesOrders": "98"
                                },
                                {
                                    "Country": "France",
                                    "StateProvince": "Moselle",
                                    "TotalSalesOrders": "82"
                                },
                                {
                                    "Country": "France",
                                    "StateProvince": "Val d'Oise",
                                    "TotalSalesOrders": "71"
                                },
                                {
                                    "Country": "France",
                                    "StateProvince": "Garonne (Haute)",
                                    "TotalSalesOrders": "46"
                                },
                                {
                                    "Country": "France",
                                    "StateProvince": "Val de Marne",
                                    "TotalSalesOrders": "43"
                                },
                                {
                                    "Country": "France",
                                    "StateProvince": "Loir et Cher",
                                    "TotalSalesOrders": "38"
                                },
                                {
                                    "Country": "France",
                                    "StateProvince": "Charente-Maritime",
                                    "TotalSalesOrders": "31"
                                },
                                {
                                    "Country": "France",
                                    "StateProvince": "Somme",
                                    "TotalSalesOrders": "30"
                                },
                                {
                                    "Country": "France",
                                    "StateProvince": "Pas de Calais",
                                    "TotalSalesOrders": "26"
                                },
                                {
                                    "Country": "Germany",
                                    "StateProvince": "Saarland",
                                    "TotalSalesOrders": "658"
                                },
                                {
                                    "Country": "Germany",
                                    "StateProvince": "Nordrhein-Westfalen",
                                    "TotalSalesOrders": "570"
                                },
                                {
                                    "Country": "Germany",
                                    "StateProvince": "Hessen",
                                    "TotalSalesOrders": "560"
                                },
                                {
                                    "Country": "Germany",
                                    "StateProvince": "Hamburg",
                                    "TotalSalesOrders": "441"
                                },
                                {
                                    "Country": "Germany",
                                    "StateProvince": "Bayern",
                                    "TotalSalesOrders": "344"
                                },
                                {
                                    "Country": "Germany",
                                    "StateProvince": "Brandenburg",
                                    "TotalSalesOrders": "50"
                                },
                                {
                                    "Country": "United Kingdom",
                                    "StateProvince": "England",
                                    "TotalSalesOrders": "3219"
                                },
                                {
                                    "Country": "United States",
                                    "StateProvince": "California",
                                    "TotalSalesOrders": "5884"
                                },
                                {
                                    "Country": "United States",
                                    "StateProvince": "Washington",
                                    "TotalSalesOrders": "3042"
                                },
                                {
                                    "Country": "United States",
                                    "StateProvince": "Oregon",
                                    "TotalSalesOrders": "1380"
                                },
                                {
                                    "Country": "United States",
                                    "StateProvince": "Texas",
                                    "TotalSalesOrders": "253"
                                },
                                {
                                    "Country": "United States",
                                    "StateProvince": "Florida",
                                    "TotalSalesOrders": "159"
                                },
                                {
                                    "Country": "United States",
                                    "StateProvince": "Michigan",
                                    "TotalSalesOrders": "104"
                                },
                                {
                                    "Country": "United States",
                                    "StateProvince": "Tennessee",
                                    "TotalSalesOrders": "92"
                                },
                                {
                                    "Country": "United States",
                                    "StateProvince": "Ohio",
                                    "TotalSalesOrders": "83"
                                },
                                {
                                    "Country": "United States",
                                    "StateProvince": "Georgia",
                                    "TotalSalesOrders": "76"
                                },
                                {
                                    "Country": "United States",
                                    "StateProvince": "Illinois",
                                    "TotalSalesOrders": "73"
                                },
                                {
                                    "Country": "United States",
                                    "StateProvince": "Missouri",
                                    "TotalSalesOrders": "68"
                                },
                                {
                                    "Country": "United States",
                                    "StateProvince": "Arizona",
                                    "TotalSalesOrders": "67"
                                },
                                {
                                    "Country": "United States",
                                    "StateProvince": "Indiana",
                                    "TotalSalesOrders": "65"
                                },
                                {
                                    "Country": "United States",
                                    "StateProvince": "Colorado",
                                    "TotalSalesOrders": "64"
                                },
                                {
                                    "Country": "United States",
                                    "StateProvince": "Utah",
                                    "TotalSalesOrders": "60"
                                },
                                {
                                    "Country": "United States",
                                    "StateProvince": "Connecticut",
                                    "TotalSalesOrders": "59"
                                },
                                {
                                    "Country": "United States",
                                    "StateProvince": "New York",
                                    "TotalSalesOrders": "53"
                                },
                                {
                                    "Country": "United States",
                                    "StateProvince": "Nevada",
                                    "TotalSalesOrders": "49"
                                },
                                {
                                    "Country": "United States",
                                    "StateProvince": "New Hampshire",
                                    "TotalSalesOrders": "48"
                                },
                                {
                                    "Country": "United States",
                                    "StateProvince": "North Carolina",
                                    "TotalSalesOrders": "42"
                                },
                                {
                                    "Country": "United States",
                                    "StateProvince": "Minnesota",
                                    "TotalSalesOrders": "38"
                                },
                                {
                                    "Country": "United States",
                                    "StateProvince": "Virginia",
                                    "TotalSalesOrders": "34"
                                },
                                {
                                    "Country": "United States",
                                    "StateProvince": "Wyoming",
                                    "TotalSalesOrders": "34"
                                },
                                {
                                    "Country": "United States",
                                    "StateProvince": "Massachusetts",
                                    "TotalSalesOrders": "25"
                                },
                                {
                                    "Country": "United States",
                                    "StateProvince": "Wisconsin",
                                    "TotalSalesOrders": "24"
                                },
                                {
                                    "Country": "United States",
                                    "StateProvince": "Kentucky",
                                    "TotalSalesOrders": "23"
                                },
                                {
                                    "Country": "United States",
                                    "StateProvince": "Alabama",
                                    "TotalSalesOrders": "22"
                                },
                                {
                                    "Country": "United States",
                                    "StateProvince": "South Carolina",
                                    "TotalSalesOrders": "22"
                                },
                                {
                                    "Country": "United States",
                                    "StateProvince": "New Mexico",
                                    "TotalSalesOrders": "20"
                                },
                                {
                                    "Country": "United States",
                                    "StateProvince": "Mississippi",
                                    "TotalSalesOrders": "16"
                                },
                                {
                                    "Country": "United States",
                                    "StateProvince": "Montana",
                                    "TotalSalesOrders": "16"
                                },
                                {
                                    "Country": "United States",
                                    "StateProvince": "South Dakota",
                                    "TotalSalesOrders": "14"
                                },
                                {
                                    "Country": "United States",
                                    "StateProvince": "Idaho",
                                    "TotalSalesOrders": "13"
                                },
                                {
                                    "Country": "United States",
                                    "StateProvince": "Maine",
                                    "TotalSalesOrders": "12"
                                },
                                {
                                    "Country": "United States",
                                    "StateProvince": "Rhode Island",
                                    "TotalSalesOrders": "6"
                                },
                                {
                                    "Country": "United States",
                                    "StateProvince": "Maryland",
                                    "TotalSalesOrders": "1"
                                }
                            ]
                        },
                        "text/html": "<table><tr><th>Country</th><th>StateProvince</th><th>TotalSalesOrders</th></tr><tr><td>Australia</td><td>New South Wales</td><td>3009</td></tr><tr><td>Australia</td><td>Victoria</td><td>1710</td></tr><tr><td>Australia</td><td>Queensland</td><td>1461</td></tr><tr><td>Australia</td><td>South Australia</td><td>466</td></tr><tr><td>Australia</td><td>Tasmania</td><td>197</td></tr><tr><td>Canada</td><td>British Columbia</td><td>3472</td></tr><tr><td>Canada</td><td>Ontario</td><td>339</td></tr><tr><td>Canada</td><td>Quebec</td><td>146</td></tr><tr><td>Canada</td><td>Alberta</td><td>90</td></tr><tr><td>Canada</td><td>Manitoba</td><td>12</td></tr><tr><td>Canada</td><td>Brunswick</td><td>8</td></tr><tr><td>France</td><td>Seine (Paris)</td><td>575</td></tr><tr><td>France</td><td>Seine Saint Denis</td><td>391</td></tr><tr><td>France</td><td>Nord</td><td>387</td></tr><tr><td>France</td><td>Hauts de Seine</td><td>295</td></tr><tr><td>France</td><td>Essonne</td><td>236</td></tr><tr><td>France</td><td>Yveline</td><td>224</td></tr><tr><td>France</td><td>Loiret</td><td>99</td></tr><tr><td>France</td><td>Seine et Marne</td><td>98</td></tr><tr><td>France</td><td>Moselle</td><td>82</td></tr><tr><td>France</td><td>Val d&#39;Oise</td><td>71</td></tr><tr><td>France</td><td>Garonne (Haute)</td><td>46</td></tr><tr><td>France</td><td>Val de Marne</td><td>43</td></tr><tr><td>France</td><td>Loir et Cher</td><td>38</td></tr><tr><td>France</td><td>Charente-Maritime</td><td>31</td></tr><tr><td>France</td><td>Somme</td><td>30</td></tr><tr><td>France</td><td>Pas de Calais</td><td>26</td></tr><tr><td>Germany</td><td>Saarland</td><td>658</td></tr><tr><td>Germany</td><td>Nordrhein-Westfalen</td><td>570</td></tr><tr><td>Germany</td><td>Hessen</td><td>560</td></tr><tr><td>Germany</td><td>Hamburg</td><td>441</td></tr><tr><td>Germany</td><td>Bayern</td><td>344</td></tr><tr><td>Germany</td><td>Brandenburg</td><td>50</td></tr><tr><td>United Kingdom</td><td>England</td><td>3219</td></tr><tr><td>United States</td><td>California</td><td>5884</td></tr><tr><td>United States</td><td>Washington</td><td>3042</td></tr><tr><td>United States</td><td>Oregon</td><td>1380</td></tr><tr><td>United States</td><td>Texas</td><td>253</td></tr><tr><td>United States</td><td>Florida</td><td>159</td></tr><tr><td>United States</td><td>Michigan</td><td>104</td></tr><tr><td>United States</td><td>Tennessee</td><td>92</td></tr><tr><td>United States</td><td>Ohio</td><td>83</td></tr><tr><td>United States</td><td>Georgia</td><td>76</td></tr><tr><td>United States</td><td>Illinois</td><td>73</td></tr><tr><td>United States</td><td>Missouri</td><td>68</td></tr><tr><td>United States</td><td>Arizona</td><td>67</td></tr><tr><td>United States</td><td>Indiana</td><td>65</td></tr><tr><td>United States</td><td>Colorado</td><td>64</td></tr><tr><td>United States</td><td>Utah</td><td>60</td></tr><tr><td>United States</td><td>Connecticut</td><td>59</td></tr><tr><td>United States</td><td>New York</td><td>53</td></tr><tr><td>United States</td><td>Nevada</td><td>49</td></tr><tr><td>United States</td><td>New Hampshire</td><td>48</td></tr><tr><td>United States</td><td>North Carolina</td><td>42</td></tr><tr><td>United States</td><td>Minnesota</td><td>38</td></tr><tr><td>United States</td><td>Virginia</td><td>34</td></tr><tr><td>United States</td><td>Wyoming</td><td>34</td></tr><tr><td>United States</td><td>Massachusetts</td><td>25</td></tr><tr><td>United States</td><td>Wisconsin</td><td>24</td></tr><tr><td>United States</td><td>Kentucky</td><td>23</td></tr><tr><td>United States</td><td>Alabama</td><td>22</td></tr><tr><td>United States</td><td>South Carolina</td><td>22</td></tr><tr><td>United States</td><td>New Mexico</td><td>20</td></tr><tr><td>United States</td><td>Mississippi</td><td>16</td></tr><tr><td>United States</td><td>Montana</td><td>16</td></tr><tr><td>United States</td><td>South Dakota</td><td>14</td></tr><tr><td>United States</td><td>Idaho</td><td>13</td></tr><tr><td>United States</td><td>Maine</td><td>12</td></tr><tr><td>United States</td><td>Rhode Island</td><td>6</td></tr><tr><td>United States</td><td>Maryland</td><td>1</td></tr></table>"
                    },
                    "metadata": {}
                }
            ],
            "execution_count": 5
        },
        {
            "cell_type": "markdown",
            "source": [
                "<span id=\"docs-internal-guid-774c5168-7fff-43b9-df65-4db15f408f03\" style=\"caret-color: rgb(0, 0, 0); color: rgb(0, 0, 0);\"><p dir=\"ltr\" style=\"line-height: 1.38; margin-top: 0pt; margin-bottom: 0pt;\"><span style=\"font-size: 12pt; font-family: &quot;Times New Roman&quot;, serif; background-color: transparent; font-variant-alternates: normal; font-variant-numeric: normal; font-variant-east-asian: normal; text-decoration-line: underline; text-decoration-skip-ink: none; vertical-align: baseline; white-space-collapse: preserve;\">Part A</span></p><p dir=\"ltr\" style=\"line-height: 1.38; margin-top: 0pt; margin-bottom: 0pt;\"><span style=\"font-size: 12pt; font-family: &quot;Times New Roman&quot;, serif; background-color: transparent; font-variant-alternates: normal; font-variant-numeric: normal; font-variant-east-asian: normal; vertical-align: baseline; white-space-collapse: preserve;\">Write a single query that shows the total number of sales orders from each country and each state/province within each country. Use the full name of each country and state/province.</span></p></span>"
            ],
            "metadata": {
                "language": "sql",
                "azdata_cell_guid": "2dabdcaa-10d0-4dcb-a7fb-8eb755e5470e"
            },
            "attachments": {}
        },
        {
            "cell_type": "code",
            "source": [
                "SELECT c.Name AS Country\n",
                "    , p.Name AS StateProvince\n",
                "    , COUNT(h.SalesOrderNumber) AS TotalSalesOrders\n",
                "FROM Person.Address a \n",
                "INNER JOIN Sales.SalesOrderHeader h \n",
                "ON a.AddressID = h.ShipToAddressID\n",
                "INNER JOIN Person.StateProvince p \n",
                "ON a.StateProvinceID = p.StateProvinceID\n",
                "INNER JOIN Person.CountryRegion c \n",
                "ON p.CountryRegionCode = c.CountryRegionCode\n",
                "WHERE h.Status = 5\n",
                "GROUP BY ROLLUP(c.Name, p.Name)\n",
                "ORDER BY c.Name, COUNT(h.SalesOrderNumber) DESC"
            ],
            "metadata": {
                "language": "sql",
                "azdata_cell_guid": "8173c9f6-3764-4eed-b498-14d24ffe17de"
            },
            "outputs": [
                {
                    "output_type": "display_data",
                    "data": {
                        "text/html": "(77 rows affected)"
                    },
                    "metadata": {}
                },
                {
                    "output_type": "display_data",
                    "data": {
                        "text/html": "Total execution time: 00:00:00.731"
                    },
                    "metadata": {}
                },
                {
                    "output_type": "execute_result",
                    "execution_count": 10,
                    "data": {
                        "application/vnd.dataresource+json": {
                            "schema": {
                                "fields": [
                                    {
                                        "name": "Country"
                                    },
                                    {
                                        "name": "StateProvince"
                                    },
                                    {
                                        "name": "TotalSalesOrders"
                                    }
                                ]
                            },
                            "data": [
                                {
                                    "Country": "NULL",
                                    "StateProvince": "NULL",
                                    "TotalSalesOrders": "31465"
                                },
                                {
                                    "Country": "Australia",
                                    "StateProvince": "NULL",
                                    "TotalSalesOrders": "6843"
                                },
                                {
                                    "Country": "Australia",
                                    "StateProvince": "New South Wales",
                                    "TotalSalesOrders": "3009"
                                },
                                {
                                    "Country": "Australia",
                                    "StateProvince": "Victoria",
                                    "TotalSalesOrders": "1710"
                                },
                                {
                                    "Country": "Australia",
                                    "StateProvince": "Queensland",
                                    "TotalSalesOrders": "1461"
                                },
                                {
                                    "Country": "Australia",
                                    "StateProvince": "South Australia",
                                    "TotalSalesOrders": "466"
                                },
                                {
                                    "Country": "Australia",
                                    "StateProvince": "Tasmania",
                                    "TotalSalesOrders": "197"
                                },
                                {
                                    "Country": "Canada",
                                    "StateProvince": "NULL",
                                    "TotalSalesOrders": "4067"
                                },
                                {
                                    "Country": "Canada",
                                    "StateProvince": "British Columbia",
                                    "TotalSalesOrders": "3472"
                                },
                                {
                                    "Country": "Canada",
                                    "StateProvince": "Ontario",
                                    "TotalSalesOrders": "339"
                                },
                                {
                                    "Country": "Canada",
                                    "StateProvince": "Quebec",
                                    "TotalSalesOrders": "146"
                                },
                                {
                                    "Country": "Canada",
                                    "StateProvince": "Alberta",
                                    "TotalSalesOrders": "90"
                                },
                                {
                                    "Country": "Canada",
                                    "StateProvince": "Manitoba",
                                    "TotalSalesOrders": "12"
                                },
                                {
                                    "Country": "Canada",
                                    "StateProvince": "Brunswick",
                                    "TotalSalesOrders": "8"
                                },
                                {
                                    "Country": "France",
                                    "StateProvince": "NULL",
                                    "TotalSalesOrders": "2672"
                                },
                                {
                                    "Country": "France",
                                    "StateProvince": "Seine (Paris)",
                                    "TotalSalesOrders": "575"
                                },
                                {
                                    "Country": "France",
                                    "StateProvince": "Seine Saint Denis",
                                    "TotalSalesOrders": "391"
                                },
                                {
                                    "Country": "France",
                                    "StateProvince": "Nord",
                                    "TotalSalesOrders": "387"
                                },
                                {
                                    "Country": "France",
                                    "StateProvince": "Hauts de Seine",
                                    "TotalSalesOrders": "295"
                                },
                                {
                                    "Country": "France",
                                    "StateProvince": "Essonne",
                                    "TotalSalesOrders": "236"
                                },
                                {
                                    "Country": "France",
                                    "StateProvince": "Yveline",
                                    "TotalSalesOrders": "224"
                                },
                                {
                                    "Country": "France",
                                    "StateProvince": "Loiret",
                                    "TotalSalesOrders": "99"
                                },
                                {
                                    "Country": "France",
                                    "StateProvince": "Seine et Marne",
                                    "TotalSalesOrders": "98"
                                },
                                {
                                    "Country": "France",
                                    "StateProvince": "Moselle",
                                    "TotalSalesOrders": "82"
                                },
                                {
                                    "Country": "France",
                                    "StateProvince": "Val d'Oise",
                                    "TotalSalesOrders": "71"
                                },
                                {
                                    "Country": "France",
                                    "StateProvince": "Garonne (Haute)",
                                    "TotalSalesOrders": "46"
                                },
                                {
                                    "Country": "France",
                                    "StateProvince": "Val de Marne",
                                    "TotalSalesOrders": "43"
                                },
                                {
                                    "Country": "France",
                                    "StateProvince": "Loir et Cher",
                                    "TotalSalesOrders": "38"
                                },
                                {
                                    "Country": "France",
                                    "StateProvince": "Charente-Maritime",
                                    "TotalSalesOrders": "31"
                                },
                                {
                                    "Country": "France",
                                    "StateProvince": "Somme",
                                    "TotalSalesOrders": "30"
                                },
                                {
                                    "Country": "France",
                                    "StateProvince": "Pas de Calais",
                                    "TotalSalesOrders": "26"
                                },
                                {
                                    "Country": "Germany",
                                    "StateProvince": "NULL",
                                    "TotalSalesOrders": "2623"
                                },
                                {
                                    "Country": "Germany",
                                    "StateProvince": "Saarland",
                                    "TotalSalesOrders": "658"
                                },
                                {
                                    "Country": "Germany",
                                    "StateProvince": "Nordrhein-Westfalen",
                                    "TotalSalesOrders": "570"
                                },
                                {
                                    "Country": "Germany",
                                    "StateProvince": "Hessen",
                                    "TotalSalesOrders": "560"
                                },
                                {
                                    "Country": "Germany",
                                    "StateProvince": "Hamburg",
                                    "TotalSalesOrders": "441"
                                },
                                {
                                    "Country": "Germany",
                                    "StateProvince": "Bayern",
                                    "TotalSalesOrders": "344"
                                },
                                {
                                    "Country": "Germany",
                                    "StateProvince": "Brandenburg",
                                    "TotalSalesOrders": "50"
                                },
                                {
                                    "Country": "United Kingdom",
                                    "StateProvince": "England",
                                    "TotalSalesOrders": "3219"
                                },
                                {
                                    "Country": "United Kingdom",
                                    "StateProvince": "NULL",
                                    "TotalSalesOrders": "3219"
                                },
                                {
                                    "Country": "United States",
                                    "StateProvince": "NULL",
                                    "TotalSalesOrders": "12041"
                                },
                                {
                                    "Country": "United States",
                                    "StateProvince": "California",
                                    "TotalSalesOrders": "5884"
                                },
                                {
                                    "Country": "United States",
                                    "StateProvince": "Washington",
                                    "TotalSalesOrders": "3042"
                                },
                                {
                                    "Country": "United States",
                                    "StateProvince": "Oregon",
                                    "TotalSalesOrders": "1380"
                                },
                                {
                                    "Country": "United States",
                                    "StateProvince": "Texas",
                                    "TotalSalesOrders": "253"
                                },
                                {
                                    "Country": "United States",
                                    "StateProvince": "Florida",
                                    "TotalSalesOrders": "159"
                                },
                                {
                                    "Country": "United States",
                                    "StateProvince": "Michigan",
                                    "TotalSalesOrders": "104"
                                },
                                {
                                    "Country": "United States",
                                    "StateProvince": "Tennessee",
                                    "TotalSalesOrders": "92"
                                },
                                {
                                    "Country": "United States",
                                    "StateProvince": "Ohio",
                                    "TotalSalesOrders": "83"
                                },
                                {
                                    "Country": "United States",
                                    "StateProvince": "Georgia",
                                    "TotalSalesOrders": "76"
                                },
                                {
                                    "Country": "United States",
                                    "StateProvince": "Illinois",
                                    "TotalSalesOrders": "73"
                                },
                                {
                                    "Country": "United States",
                                    "StateProvince": "Missouri",
                                    "TotalSalesOrders": "68"
                                },
                                {
                                    "Country": "United States",
                                    "StateProvince": "Arizona",
                                    "TotalSalesOrders": "67"
                                },
                                {
                                    "Country": "United States",
                                    "StateProvince": "Indiana",
                                    "TotalSalesOrders": "65"
                                },
                                {
                                    "Country": "United States",
                                    "StateProvince": "Colorado",
                                    "TotalSalesOrders": "64"
                                },
                                {
                                    "Country": "United States",
                                    "StateProvince": "Utah",
                                    "TotalSalesOrders": "60"
                                },
                                {
                                    "Country": "United States",
                                    "StateProvince": "Connecticut",
                                    "TotalSalesOrders": "59"
                                },
                                {
                                    "Country": "United States",
                                    "StateProvince": "New York",
                                    "TotalSalesOrders": "53"
                                },
                                {
                                    "Country": "United States",
                                    "StateProvince": "Nevada",
                                    "TotalSalesOrders": "49"
                                },
                                {
                                    "Country": "United States",
                                    "StateProvince": "New Hampshire",
                                    "TotalSalesOrders": "48"
                                },
                                {
                                    "Country": "United States",
                                    "StateProvince": "North Carolina",
                                    "TotalSalesOrders": "42"
                                },
                                {
                                    "Country": "United States",
                                    "StateProvince": "Minnesota",
                                    "TotalSalesOrders": "38"
                                },
                                {
                                    "Country": "United States",
                                    "StateProvince": "Virginia",
                                    "TotalSalesOrders": "34"
                                },
                                {
                                    "Country": "United States",
                                    "StateProvince": "Wyoming",
                                    "TotalSalesOrders": "34"
                                },
                                {
                                    "Country": "United States",
                                    "StateProvince": "Massachusetts",
                                    "TotalSalesOrders": "25"
                                },
                                {
                                    "Country": "United States",
                                    "StateProvince": "Wisconsin",
                                    "TotalSalesOrders": "24"
                                },
                                {
                                    "Country": "United States",
                                    "StateProvince": "Kentucky",
                                    "TotalSalesOrders": "23"
                                },
                                {
                                    "Country": "United States",
                                    "StateProvince": "Alabama",
                                    "TotalSalesOrders": "22"
                                },
                                {
                                    "Country": "United States",
                                    "StateProvince": "South Carolina",
                                    "TotalSalesOrders": "22"
                                },
                                {
                                    "Country": "United States",
                                    "StateProvince": "New Mexico",
                                    "TotalSalesOrders": "20"
                                },
                                {
                                    "Country": "United States",
                                    "StateProvince": "Mississippi",
                                    "TotalSalesOrders": "16"
                                },
                                {
                                    "Country": "United States",
                                    "StateProvince": "Montana",
                                    "TotalSalesOrders": "16"
                                },
                                {
                                    "Country": "United States",
                                    "StateProvince": "South Dakota",
                                    "TotalSalesOrders": "14"
                                },
                                {
                                    "Country": "United States",
                                    "StateProvince": "Idaho",
                                    "TotalSalesOrders": "13"
                                },
                                {
                                    "Country": "United States",
                                    "StateProvince": "Maine",
                                    "TotalSalesOrders": "12"
                                },
                                {
                                    "Country": "United States",
                                    "StateProvince": "Rhode Island",
                                    "TotalSalesOrders": "6"
                                },
                                {
                                    "Country": "United States",
                                    "StateProvince": "Maryland",
                                    "TotalSalesOrders": "1"
                                }
                            ]
                        },
                        "text/html": "<table><tr><th>Country</th><th>StateProvince</th><th>TotalSalesOrders</th></tr><tr><td>NULL</td><td>NULL</td><td>31465</td></tr><tr><td>Australia</td><td>NULL</td><td>6843</td></tr><tr><td>Australia</td><td>New South Wales</td><td>3009</td></tr><tr><td>Australia</td><td>Victoria</td><td>1710</td></tr><tr><td>Australia</td><td>Queensland</td><td>1461</td></tr><tr><td>Australia</td><td>South Australia</td><td>466</td></tr><tr><td>Australia</td><td>Tasmania</td><td>197</td></tr><tr><td>Canada</td><td>NULL</td><td>4067</td></tr><tr><td>Canada</td><td>British Columbia</td><td>3472</td></tr><tr><td>Canada</td><td>Ontario</td><td>339</td></tr><tr><td>Canada</td><td>Quebec</td><td>146</td></tr><tr><td>Canada</td><td>Alberta</td><td>90</td></tr><tr><td>Canada</td><td>Manitoba</td><td>12</td></tr><tr><td>Canada</td><td>Brunswick</td><td>8</td></tr><tr><td>France</td><td>NULL</td><td>2672</td></tr><tr><td>France</td><td>Seine (Paris)</td><td>575</td></tr><tr><td>France</td><td>Seine Saint Denis</td><td>391</td></tr><tr><td>France</td><td>Nord</td><td>387</td></tr><tr><td>France</td><td>Hauts de Seine</td><td>295</td></tr><tr><td>France</td><td>Essonne</td><td>236</td></tr><tr><td>France</td><td>Yveline</td><td>224</td></tr><tr><td>France</td><td>Loiret</td><td>99</td></tr><tr><td>France</td><td>Seine et Marne</td><td>98</td></tr><tr><td>France</td><td>Moselle</td><td>82</td></tr><tr><td>France</td><td>Val d&#39;Oise</td><td>71</td></tr><tr><td>France</td><td>Garonne (Haute)</td><td>46</td></tr><tr><td>France</td><td>Val de Marne</td><td>43</td></tr><tr><td>France</td><td>Loir et Cher</td><td>38</td></tr><tr><td>France</td><td>Charente-Maritime</td><td>31</td></tr><tr><td>France</td><td>Somme</td><td>30</td></tr><tr><td>France</td><td>Pas de Calais</td><td>26</td></tr><tr><td>Germany</td><td>NULL</td><td>2623</td></tr><tr><td>Germany</td><td>Saarland</td><td>658</td></tr><tr><td>Germany</td><td>Nordrhein-Westfalen</td><td>570</td></tr><tr><td>Germany</td><td>Hessen</td><td>560</td></tr><tr><td>Germany</td><td>Hamburg</td><td>441</td></tr><tr><td>Germany</td><td>Bayern</td><td>344</td></tr><tr><td>Germany</td><td>Brandenburg</td><td>50</td></tr><tr><td>United Kingdom</td><td>England</td><td>3219</td></tr><tr><td>United Kingdom</td><td>NULL</td><td>3219</td></tr><tr><td>United States</td><td>NULL</td><td>12041</td></tr><tr><td>United States</td><td>California</td><td>5884</td></tr><tr><td>United States</td><td>Washington</td><td>3042</td></tr><tr><td>United States</td><td>Oregon</td><td>1380</td></tr><tr><td>United States</td><td>Texas</td><td>253</td></tr><tr><td>United States</td><td>Florida</td><td>159</td></tr><tr><td>United States</td><td>Michigan</td><td>104</td></tr><tr><td>United States</td><td>Tennessee</td><td>92</td></tr><tr><td>United States</td><td>Ohio</td><td>83</td></tr><tr><td>United States</td><td>Georgia</td><td>76</td></tr><tr><td>United States</td><td>Illinois</td><td>73</td></tr><tr><td>United States</td><td>Missouri</td><td>68</td></tr><tr><td>United States</td><td>Arizona</td><td>67</td></tr><tr><td>United States</td><td>Indiana</td><td>65</td></tr><tr><td>United States</td><td>Colorado</td><td>64</td></tr><tr><td>United States</td><td>Utah</td><td>60</td></tr><tr><td>United States</td><td>Connecticut</td><td>59</td></tr><tr><td>United States</td><td>New York</td><td>53</td></tr><tr><td>United States</td><td>Nevada</td><td>49</td></tr><tr><td>United States</td><td>New Hampshire</td><td>48</td></tr><tr><td>United States</td><td>North Carolina</td><td>42</td></tr><tr><td>United States</td><td>Minnesota</td><td>38</td></tr><tr><td>United States</td><td>Virginia</td><td>34</td></tr><tr><td>United States</td><td>Wyoming</td><td>34</td></tr><tr><td>United States</td><td>Massachusetts</td><td>25</td></tr><tr><td>United States</td><td>Wisconsin</td><td>24</td></tr><tr><td>United States</td><td>Kentucky</td><td>23</td></tr><tr><td>United States</td><td>Alabama</td><td>22</td></tr><tr><td>United States</td><td>South Carolina</td><td>22</td></tr><tr><td>United States</td><td>New Mexico</td><td>20</td></tr><tr><td>United States</td><td>Mississippi</td><td>16</td></tr><tr><td>United States</td><td>Montana</td><td>16</td></tr><tr><td>United States</td><td>South Dakota</td><td>14</td></tr><tr><td>United States</td><td>Idaho</td><td>13</td></tr><tr><td>United States</td><td>Maine</td><td>12</td></tr><tr><td>United States</td><td>Rhode Island</td><td>6</td></tr><tr><td>United States</td><td>Maryland</td><td>1</td></tr></table>"
                    },
                    "metadata": {}
                }
            ],
            "execution_count": 10
        },
        {
            "cell_type": "markdown",
            "source": [
                "<span id=\"docs-internal-guid-473d64d9-7fff-61ad-a93b-a4632696f0f5\" style=\"caret-color: rgb(0, 0, 0); color: rgb(0, 0, 0);\"><p dir=\"ltr\" style=\"line-height: 1.38; margin-top: 0pt; margin-bottom: 0pt;\"><span style=\"font-size: 12pt; font-family: &quot;Times New Roman&quot;, serif; background-color: transparent; font-variant-alternates: normal; font-variant-numeric: normal; font-variant-east-asian: normal; text-decoration-line: underline; text-decoration-skip-ink: none; vertical-align: baseline; white-space-collapse: preserve;\">Part B</span></p><p dir=\"ltr\" style=\"line-height: 1.38; margin-top: 0pt; margin-bottom: 0pt;\"><span style=\"font-size: 12pt; font-family: &quot;Times New Roman&quot;, serif; background-color: transparent; font-variant-alternates: normal; font-variant-numeric: normal; font-variant-east-asian: normal; vertical-align: baseline; white-space-collapse: preserve;\">Modify your query to only show cases with 100 or more orders, sorted in the same fashion as Part A</span></p></span>"
            ],
            "metadata": {
                "language": "sql",
                "azdata_cell_guid": "6ecf18d7-56ca-42db-84ab-27447f0e2a2a"
            },
            "attachments": {}
        },
        {
            "cell_type": "code",
            "source": [
                "SELECT c.Name AS Country\n",
                "    , p.Name AS StateProvince\n",
                "    , COUNT(h.SalesOrderNumber) AS TotalSalesOrders\n",
                "FROM Person.Address a \n",
                "INNER JOIN Sales.SalesOrderHeader h \n",
                "ON a.AddressID = h.ShipToAddressID\n",
                "INNER JOIN Person.StateProvince p \n",
                "ON a.StateProvinceID = p.StateProvinceID\n",
                "INNER JOIN Person.CountryRegion c \n",
                "ON p.CountryRegionCode = c.CountryRegionCode\n",
                "WHERE h.Status = 5\n",
                "GROUP BY ROLLUP(c.Name, p.Name)\n",
                "HAVING COUNT(h.SalesOrderNumber) >= 100\n",
                "ORDER BY c.Name, COUNT(h.SalesOrderNumber) DESC"
            ],
            "metadata": {
                "language": "sql",
                "azdata_cell_guid": "12323ca4-d8f3-4785-b025-1f06a63616c0"
            },
            "outputs": [
                {
                    "output_type": "display_data",
                    "data": {
                        "text/html": "(33 rows affected)"
                    },
                    "metadata": {}
                },
                {
                    "output_type": "display_data",
                    "data": {
                        "text/html": "Total execution time: 00:00:00.168"
                    },
                    "metadata": {}
                },
                {
                    "output_type": "execute_result",
                    "metadata": {},
                    "execution_count": 2,
                    "data": {
                        "application/vnd.dataresource+json": {
                            "schema": {
                                "fields": [
                                    {
                                        "name": "Country"
                                    },
                                    {
                                        "name": "StateProvince"
                                    },
                                    {
                                        "name": "TotalSalesOrders"
                                    }
                                ]
                            },
                            "data": [
                                {
                                    "Country": "NULL",
                                    "StateProvince": "NULL",
                                    "TotalSalesOrders": "31465"
                                },
                                {
                                    "Country": "Australia",
                                    "StateProvince": "NULL",
                                    "TotalSalesOrders": "6843"
                                },
                                {
                                    "Country": "Australia",
                                    "StateProvince": "New South Wales",
                                    "TotalSalesOrders": "3009"
                                },
                                {
                                    "Country": "Australia",
                                    "StateProvince": "Victoria",
                                    "TotalSalesOrders": "1710"
                                },
                                {
                                    "Country": "Australia",
                                    "StateProvince": "Queensland",
                                    "TotalSalesOrders": "1461"
                                },
                                {
                                    "Country": "Australia",
                                    "StateProvince": "South Australia",
                                    "TotalSalesOrders": "466"
                                },
                                {
                                    "Country": "Australia",
                                    "StateProvince": "Tasmania",
                                    "TotalSalesOrders": "197"
                                },
                                {
                                    "Country": "Canada",
                                    "StateProvince": "NULL",
                                    "TotalSalesOrders": "4067"
                                },
                                {
                                    "Country": "Canada",
                                    "StateProvince": "British Columbia",
                                    "TotalSalesOrders": "3472"
                                },
                                {
                                    "Country": "Canada",
                                    "StateProvince": "Ontario",
                                    "TotalSalesOrders": "339"
                                },
                                {
                                    "Country": "Canada",
                                    "StateProvince": "Quebec",
                                    "TotalSalesOrders": "146"
                                },
                                {
                                    "Country": "France",
                                    "StateProvince": "NULL",
                                    "TotalSalesOrders": "2672"
                                },
                                {
                                    "Country": "France",
                                    "StateProvince": "Seine (Paris)",
                                    "TotalSalesOrders": "575"
                                },
                                {
                                    "Country": "France",
                                    "StateProvince": "Seine Saint Denis",
                                    "TotalSalesOrders": "391"
                                },
                                {
                                    "Country": "France",
                                    "StateProvince": "Nord",
                                    "TotalSalesOrders": "387"
                                },
                                {
                                    "Country": "France",
                                    "StateProvince": "Hauts de Seine",
                                    "TotalSalesOrders": "295"
                                },
                                {
                                    "Country": "France",
                                    "StateProvince": "Essonne",
                                    "TotalSalesOrders": "236"
                                },
                                {
                                    "Country": "France",
                                    "StateProvince": "Yveline",
                                    "TotalSalesOrders": "224"
                                },
                                {
                                    "Country": "Germany",
                                    "StateProvince": "NULL",
                                    "TotalSalesOrders": "2623"
                                },
                                {
                                    "Country": "Germany",
                                    "StateProvince": "Saarland",
                                    "TotalSalesOrders": "658"
                                },
                                {
                                    "Country": "Germany",
                                    "StateProvince": "Nordrhein-Westfalen",
                                    "TotalSalesOrders": "570"
                                },
                                {
                                    "Country": "Germany",
                                    "StateProvince": "Hessen",
                                    "TotalSalesOrders": "560"
                                },
                                {
                                    "Country": "Germany",
                                    "StateProvince": "Hamburg",
                                    "TotalSalesOrders": "441"
                                },
                                {
                                    "Country": "Germany",
                                    "StateProvince": "Bayern",
                                    "TotalSalesOrders": "344"
                                },
                                {
                                    "Country": "United Kingdom",
                                    "StateProvince": "England",
                                    "TotalSalesOrders": "3219"
                                },
                                {
                                    "Country": "United Kingdom",
                                    "StateProvince": "NULL",
                                    "TotalSalesOrders": "3219"
                                },
                                {
                                    "Country": "United States",
                                    "StateProvince": "NULL",
                                    "TotalSalesOrders": "12041"
                                },
                                {
                                    "Country": "United States",
                                    "StateProvince": "California",
                                    "TotalSalesOrders": "5884"
                                },
                                {
                                    "Country": "United States",
                                    "StateProvince": "Washington",
                                    "TotalSalesOrders": "3042"
                                },
                                {
                                    "Country": "United States",
                                    "StateProvince": "Oregon",
                                    "TotalSalesOrders": "1380"
                                },
                                {
                                    "Country": "United States",
                                    "StateProvince": "Texas",
                                    "TotalSalesOrders": "253"
                                },
                                {
                                    "Country": "United States",
                                    "StateProvince": "Florida",
                                    "TotalSalesOrders": "159"
                                },
                                {
                                    "Country": "United States",
                                    "StateProvince": "Michigan",
                                    "TotalSalesOrders": "104"
                                }
                            ]
                        },
                        "text/html": [
                            "<table>",
                            "<tr><th>Country</th><th>StateProvince</th><th>TotalSalesOrders</th></tr>",
                            "<tr><td>NULL</td><td>NULL</td><td>31465</td></tr>",
                            "<tr><td>Australia</td><td>NULL</td><td>6843</td></tr>",
                            "<tr><td>Australia</td><td>New South Wales</td><td>3009</td></tr>",
                            "<tr><td>Australia</td><td>Victoria</td><td>1710</td></tr>",
                            "<tr><td>Australia</td><td>Queensland</td><td>1461</td></tr>",
                            "<tr><td>Australia</td><td>South Australia</td><td>466</td></tr>",
                            "<tr><td>Australia</td><td>Tasmania</td><td>197</td></tr>",
                            "<tr><td>Canada</td><td>NULL</td><td>4067</td></tr>",
                            "<tr><td>Canada</td><td>British Columbia</td><td>3472</td></tr>",
                            "<tr><td>Canada</td><td>Ontario</td><td>339</td></tr>",
                            "<tr><td>Canada</td><td>Quebec</td><td>146</td></tr>",
                            "<tr><td>France</td><td>NULL</td><td>2672</td></tr>",
                            "<tr><td>France</td><td>Seine (Paris)</td><td>575</td></tr>",
                            "<tr><td>France</td><td>Seine Saint Denis</td><td>391</td></tr>",
                            "<tr><td>France</td><td>Nord</td><td>387</td></tr>",
                            "<tr><td>France</td><td>Hauts de Seine</td><td>295</td></tr>",
                            "<tr><td>France</td><td>Essonne</td><td>236</td></tr>",
                            "<tr><td>France</td><td>Yveline</td><td>224</td></tr>",
                            "<tr><td>Germany</td><td>NULL</td><td>2623</td></tr>",
                            "<tr><td>Germany</td><td>Saarland</td><td>658</td></tr>",
                            "<tr><td>Germany</td><td>Nordrhein-Westfalen</td><td>570</td></tr>",
                            "<tr><td>Germany</td><td>Hessen</td><td>560</td></tr>",
                            "<tr><td>Germany</td><td>Hamburg</td><td>441</td></tr>",
                            "<tr><td>Germany</td><td>Bayern</td><td>344</td></tr>",
                            "<tr><td>United Kingdom</td><td>England</td><td>3219</td></tr>",
                            "<tr><td>United Kingdom</td><td>NULL</td><td>3219</td></tr>",
                            "<tr><td>United States</td><td>NULL</td><td>12041</td></tr>",
                            "<tr><td>United States</td><td>California</td><td>5884</td></tr>",
                            "<tr><td>United States</td><td>Washington</td><td>3042</td></tr>",
                            "<tr><td>United States</td><td>Oregon</td><td>1380</td></tr>",
                            "<tr><td>United States</td><td>Texas</td><td>253</td></tr>",
                            "<tr><td>United States</td><td>Florida</td><td>159</td></tr>",
                            "<tr><td>United States</td><td>Michigan</td><td>104</td></tr>",
                            "</table>"
                        ]
                    }
                }
            ],
            "execution_count": 2
        },
        {
            "cell_type": "markdown",
            "source": [
                "<span id=\"docs-internal-guid-62adb549-7fff-a689-b67f-6a2bfa30fc48\" style=\"caret-color: rgb(0, 0, 0); color: rgb(0, 0, 0);\"><p dir=\"ltr\" style=\"line-height: 1.38; margin-top: 0pt; margin-bottom: 0pt;\"><span style=\"font-size: 12pt; font-family: &quot;Times New Roman&quot;, serif; background-color: transparent; font-weight: 700; font-variant-alternates: normal; font-variant-numeric: normal; font-variant-east-asian: normal; text-decoration-line: underline; text-decoration-skip-ink: none; vertical-align: baseline; white-space-collapse: preserve;\">Problem 3</span></p><p dir=\"ltr\" style=\"line-height: 1.38; margin-top: 0pt; margin-bottom: 0pt;\"><span style=\"font-size: 12pt; font-family: &quot;Times New Roman&quot;, serif; background-color: transparent; font-variant-alternates: normal; font-variant-numeric: normal; font-variant-east-asian: normal; vertical-align: baseline; white-space-collapse: preserve;\">Produce a report showing the total number of units for each product sold by AdventureWorks that also includes the category of each product and each product's sales rank and quintile within the category.&nbsp; Make sure the result set is alphabetical by category and in the appropriate rank order.</span></p></span>"
            ],
            "metadata": {
                "language": "sql",
                "azdata_cell_guid": "4c82998a-a22d-4bb4-8329-57b0aef7e94a"
            },
            "attachments": {}
        },
        {
            "cell_type": "code",
            "source": [
                "SELECT c.Name AS Category\n",
                "    , p.Name AS Product\n",
                "    , SUM(d.OrderQty) AS TotalUnits\n",
                "    , RANK() OVER (PARTITION BY c.Name ORDER BY SUM(d.OrderQty) DESC) AS Rank\n",
                "    , NTILE (5) OVER (PARTITION BY c.Name ORDER BY SUM(d.OrderQty) DESC) AS Quintile\n",
                "FROM Sales.SalesOrderDetail d\n",
                "INNER JOIN Production.Product p \n",
                "ON d.ProductID = p.ProductID\n",
                "INNER JOIN Production.ProductSubcategory s\n",
                "ON p.ProductSubcategoryID = s.ProductSubcategoryID\n",
                "INNER JOIN Production.ProductCategory c\n",
                "ON  S.ProductCategoryID = c.ProductCategoryID\n",
                "GROUP BY c.Name, p.Name\n",
                "ORDER BY c.Name, SUM(d.OrderQty) DESC"
            ],
            "metadata": {
                "language": "sql",
                "azdata_cell_guid": "ec739a0f-1ee7-4410-9e48-1b35a2c60c36"
            },
            "outputs": [
                {
                    "output_type": "display_data",
                    "data": {
                        "text/html": "(266 rows affected)"
                    },
                    "metadata": {}
                },
                {
                    "output_type": "display_data",
                    "data": {
                        "text/html": "Total execution time: 00:00:00.177"
                    },
                    "metadata": {}
                },
                {
                    "output_type": "execute_result",
                    "execution_count": 2,
                    "data": {
                        "application/vnd.dataresource+json": {
                            "schema": {
                                "fields": [
                                    {
                                        "name": "Category"
                                    },
                                    {
                                        "name": "Product"
                                    },
                                    {
                                        "name": "TotalUnits"
                                    },
                                    {
                                        "name": "Rank"
                                    },
                                    {
                                        "name": "Quintile"
                                    }
                                ]
                            },
                            "data": [
                                {
                                    "Category": "Accessories",
                                    "Product": "Water Bottle - 30 oz.",
                                    "TotalUnits": "6815",
                                    "Rank": "1",
                                    "Quintile": "1"
                                },
                                {
                                    "Category": "Accessories",
                                    "Product": "Sport-100 Helmet, Blue",
                                    "TotalUnits": "6743",
                                    "Rank": "2",
                                    "Quintile": "1"
                                },
                                {
                                    "Category": "Accessories",
                                    "Product": "Sport-100 Helmet, Black",
                                    "TotalUnits": "6532",
                                    "Rank": "3",
                                    "Quintile": "1"
                                },
                                {
                                    "Category": "Accessories",
                                    "Product": "Sport-100 Helmet, Red",
                                    "TotalUnits": "6266",
                                    "Rank": "4",
                                    "Quintile": "1"
                                },
                                {
                                    "Category": "Accessories",
                                    "Product": "Patch Kit/8 Patches",
                                    "TotalUnits": "3865",
                                    "Rank": "5",
                                    "Quintile": "1"
                                },
                                {
                                    "Category": "Accessories",
                                    "Product": "Bike Wash - Dissolver",
                                    "TotalUnits": "3319",
                                    "Rank": "6",
                                    "Quintile": "2"
                                },
                                {
                                    "Category": "Accessories",
                                    "Product": "Hitch Rack - 4-Bike",
                                    "TotalUnits": "3166",
                                    "Rank": "7",
                                    "Quintile": "2"
                                },
                                {
                                    "Category": "Accessories",
                                    "Product": "Mountain Tire Tube",
                                    "TotalUnits": "3095",
                                    "Rank": "8",
                                    "Quintile": "2"
                                },
                                {
                                    "Category": "Accessories",
                                    "Product": "Hydration Pack - 70 oz.",
                                    "TotalUnits": "2761",
                                    "Rank": "9",
                                    "Quintile": "2"
                                },
                                {
                                    "Category": "Accessories",
                                    "Product": "Road Tire Tube",
                                    "TotalUnits": "2376",
                                    "Rank": "10",
                                    "Quintile": "2"
                                },
                                {
                                    "Category": "Accessories",
                                    "Product": "Fender Set - Mountain",
                                    "TotalUnits": "2121",
                                    "Rank": "11",
                                    "Quintile": "3"
                                },
                                {
                                    "Category": "Accessories",
                                    "Product": "Mountain Bottle Cage",
                                    "TotalUnits": "2025",
                                    "Rank": "12",
                                    "Quintile": "3"
                                },
                                {
                                    "Category": "Accessories",
                                    "Product": "Road Bottle Cage",
                                    "TotalUnits": "1712",
                                    "Rank": "13",
                                    "Quintile": "3"
                                },
                                {
                                    "Category": "Accessories",
                                    "Product": "Touring Tire Tube",
                                    "TotalUnits": "1488",
                                    "Rank": "14",
                                    "Quintile": "3"
                                },
                                {
                                    "Category": "Accessories",
                                    "Product": "HL Mountain Tire",
                                    "TotalUnits": "1396",
                                    "Rank": "15",
                                    "Quintile": "3"
                                },
                                {
                                    "Category": "Accessories",
                                    "Product": "ML Mountain Tire",
                                    "TotalUnits": "1161",
                                    "Rank": "16",
                                    "Quintile": "4"
                                },
                                {
                                    "Category": "Accessories",
                                    "Product": "Minipump",
                                    "TotalUnits": "1130",
                                    "Rank": "17",
                                    "Quintile": "4"
                                },
                                {
                                    "Category": "Accessories",
                                    "Product": "Cable Lock",
                                    "TotalUnits": "1087",
                                    "Rank": "18",
                                    "Quintile": "4"
                                },
                                {
                                    "Category": "Accessories",
                                    "Product": "LL Road Tire",
                                    "TotalUnits": "1044",
                                    "Rank": "19",
                                    "Quintile": "4"
                                },
                                {
                                    "Category": "Accessories",
                                    "Product": "Touring Tire",
                                    "TotalUnits": "935",
                                    "Rank": "20",
                                    "Quintile": "4"
                                },
                                {
                                    "Category": "Accessories",
                                    "Product": "ML Road Tire",
                                    "TotalUnits": "926",
                                    "Rank": "21",
                                    "Quintile": "5"
                                },
                                {
                                    "Category": "Accessories",
                                    "Product": "LL Mountain Tire",
                                    "TotalUnits": "862",
                                    "Rank": "22",
                                    "Quintile": "5"
                                },
                                {
                                    "Category": "Accessories",
                                    "Product": "HL Road Tire",
                                    "TotalUnits": "858",
                                    "Rank": "23",
                                    "Quintile": "5"
                                },
                                {
                                    "Category": "Accessories",
                                    "Product": "All-Purpose Bike Stand",
                                    "TotalUnits": "249",
                                    "Rank": "24",
                                    "Quintile": "5"
                                },
                                {
                                    "Category": "Bikes",
                                    "Product": "Mountain-200 Black, 38",
                                    "TotalUnits": "2977",
                                    "Rank": "1",
                                    "Quintile": "1"
                                },
                                {
                                    "Category": "Bikes",
                                    "Product": "Mountain-200 Black, 42",
                                    "TotalUnits": "2664",
                                    "Rank": "2",
                                    "Quintile": "1"
                                },
                                {
                                    "Category": "Bikes",
                                    "Product": "Mountain-200 Silver, 38",
                                    "TotalUnits": "2394",
                                    "Rank": "3",
                                    "Quintile": "1"
                                },
                                {
                                    "Category": "Bikes",
                                    "Product": "Road-650 Black, 52",
                                    "TotalUnits": "2270",
                                    "Rank": "4",
                                    "Quintile": "1"
                                },
                                {
                                    "Category": "Bikes",
                                    "Product": "Road-650 Red, 44",
                                    "TotalUnits": "2254",
                                    "Rank": "5",
                                    "Quintile": "1"
                                },
                                {
                                    "Category": "Bikes",
                                    "Product": "Mountain-200 Silver, 42",
                                    "TotalUnits": "2234",
                                    "Rank": "6",
                                    "Quintile": "1"
                                },
                                {
                                    "Category": "Bikes",
                                    "Product": "Road-650 Red, 60",
                                    "TotalUnits": "2232",
                                    "Rank": "7",
                                    "Quintile": "1"
                                },
                                {
                                    "Category": "Bikes",
                                    "Product": "Mountain-200 Silver, 46",
                                    "TotalUnits": "2216",
                                    "Rank": "8",
                                    "Quintile": "1"
                                },
                                {
                                    "Category": "Bikes",
                                    "Product": "Mountain-200 Black, 46",
                                    "TotalUnits": "2111",
                                    "Rank": "9",
                                    "Quintile": "1"
                                },
                                {
                                    "Category": "Bikes",
                                    "Product": "Road-650 Red, 62",
                                    "TotalUnits": "1896",
                                    "Rank": "10",
                                    "Quintile": "1"
                                },
                                {
                                    "Category": "Bikes",
                                    "Product": "Road-650 Red, 48",
                                    "TotalUnits": "1888",
                                    "Rank": "11",
                                    "Quintile": "1"
                                },
                                {
                                    "Category": "Bikes",
                                    "Product": "Road-650 Black, 58",
                                    "TotalUnits": "1871",
                                    "Rank": "12",
                                    "Quintile": "1"
                                },
                                {
                                    "Category": "Bikes",
                                    "Product": "Road-550-W Yellow, 48",
                                    "TotalUnits": "1763",
                                    "Rank": "13",
                                    "Quintile": "1"
                                },
                                {
                                    "Category": "Bikes",
                                    "Product": "Road-550-W Yellow, 38",
                                    "TotalUnits": "1744",
                                    "Rank": "14",
                                    "Quintile": "1"
                                },
                                {
                                    "Category": "Bikes",
                                    "Product": "Road-250 Black, 44",
                                    "TotalUnits": "1642",
                                    "Rank": "15",
                                    "Quintile": "1"
                                },
                                {
                                    "Category": "Bikes",
                                    "Product": "Road-350-W Yellow, 48",
                                    "TotalUnits": "1622",
                                    "Rank": "16",
                                    "Quintile": "1"
                                },
                                {
                                    "Category": "Bikes",
                                    "Product": "Road-750 Black, 48",
                                    "TotalUnits": "1556",
                                    "Rank": "17",
                                    "Quintile": "1"
                                },
                                {
                                    "Category": "Bikes",
                                    "Product": "Road-550-W Yellow, 40",
                                    "TotalUnits": "1500",
                                    "Rank": "18",
                                    "Quintile": "1"
                                },
                                {
                                    "Category": "Bikes",
                                    "Product": "Road-250 Black, 48",
                                    "TotalUnits": "1498",
                                    "Rank": "19",
                                    "Quintile": "1"
                                },
                                {
                                    "Category": "Bikes",
                                    "Product": "Road-350-W Yellow, 40",
                                    "TotalUnits": "1477",
                                    "Rank": "20",
                                    "Quintile": "1"
                                },
                                {
                                    "Category": "Bikes",
                                    "Product": "Road-750 Black, 52",
                                    "TotalUnits": "1338",
                                    "Rank": "21",
                                    "Quintile": "2"
                                },
                                {
                                    "Category": "Bikes",
                                    "Product": "Road-550-W Yellow, 42",
                                    "TotalUnits": "1249",
                                    "Rank": "22",
                                    "Quintile": "2"
                                },
                                {
                                    "Category": "Bikes",
                                    "Product": "Road-250 Black, 52",
                                    "TotalUnits": "1245",
                                    "Rank": "23",
                                    "Quintile": "2"
                                },
                                {
                                    "Category": "Bikes",
                                    "Product": "Touring-1000 Blue, 60",
                                    "TotalUnits": "1120",
                                    "Rank": "24",
                                    "Quintile": "2"
                                },
                                {
                                    "Category": "Bikes",
                                    "Product": "Touring-1000 Yellow, 60",
                                    "TotalUnits": "1114",
                                    "Rank": "25",
                                    "Quintile": "2"
                                },
                                {
                                    "Category": "Bikes",
                                    "Product": "Road-650 Red, 52",
                                    "TotalUnits": "1112",
                                    "Rank": "26",
                                    "Quintile": "2"
                                },
                                {
                                    "Category": "Bikes",
                                    "Product": "Road-650 Black, 60",
                                    "TotalUnits": "1100",
                                    "Rank": "27",
                                    "Quintile": "2"
                                },
                                {
                                    "Category": "Bikes",
                                    "Product": "Road-650 Black, 44",
                                    "TotalUnits": "1080",
                                    "Rank": "28",
                                    "Quintile": "2"
                                },
                                {
                                    "Category": "Bikes",
                                    "Product": "Touring-2000 Blue, 54",
                                    "TotalUnits": "1010",
                                    "Rank": "29",
                                    "Quintile": "2"
                                },
                                {
                                    "Category": "Bikes",
                                    "Product": "Touring-1000 Yellow, 46",
                                    "TotalUnits": "1005",
                                    "Rank": "30",
                                    "Quintile": "2"
                                },
                                {
                                    "Category": "Bikes",
                                    "Product": "Touring-1000 Blue, 46",
                                    "TotalUnits": "1002",
                                    "Rank": "31",
                                    "Quintile": "2"
                                },
                                {
                                    "Category": "Bikes",
                                    "Product": "Road-250 Red, 58",
                                    "TotalUnits": "946",
                                    "Rank": "32",
                                    "Quintile": "2"
                                },
                                {
                                    "Category": "Bikes",
                                    "Product": "Road-350-W Yellow, 42",
                                    "TotalUnits": "944",
                                    "Rank": "33",
                                    "Quintile": "2"
                                },
                                {
                                    "Category": "Bikes",
                                    "Product": "Road-550-W Yellow, 44",
                                    "TotalUnits": "927",
                                    "Rank": "34",
                                    "Quintile": "2"
                                },
                                {
                                    "Category": "Bikes",
                                    "Product": "Road-250 Black, 58",
                                    "TotalUnits": "910",
                                    "Rank": "35",
                                    "Quintile": "2"
                                },
                                {
                                    "Category": "Bikes",
                                    "Product": "Road-250 Red, 44",
                                    "TotalUnits": "895",
                                    "Rank": "36",
                                    "Quintile": "2"
                                },
                                {
                                    "Category": "Bikes",
                                    "Product": "Road-750 Black, 58",
                                    "TotalUnits": "892",
                                    "Rank": "37",
                                    "Quintile": "2"
                                },
                                {
                                    "Category": "Bikes",
                                    "Product": "Touring-3000 Yellow, 44",
                                    "TotalUnits": "851",
                                    "Rank": "38",
                                    "Quintile": "2"
                                },
                                {
                                    "Category": "Bikes",
                                    "Product": "Touring-3000 Yellow, 62",
                                    "TotalUnits": "844",
                                    "Rank": "39",
                                    "Quintile": "2"
                                },
                                {
                                    "Category": "Bikes",
                                    "Product": "Touring-3000 Blue, 50",
                                    "TotalUnits": "841",
                                    "Rank": "40",
                                    "Quintile": "2"
                                },
                                {
                                    "Category": "Bikes",
                                    "Product": "Touring-2000 Blue, 60",
                                    "TotalUnits": "820",
                                    "Rank": "41",
                                    "Quintile": "3"
                                },
                                {
                                    "Category": "Bikes",
                                    "Product": "Road-250 Red, 48",
                                    "TotalUnits": "812",
                                    "Rank": "42",
                                    "Quintile": "3"
                                },
                                {
                                    "Category": "Bikes",
                                    "Product": "Mountain-300 Black, 40",
                                    "TotalUnits": "776",
                                    "Rank": "43",
                                    "Quintile": "3"
                                },
                                {
                                    "Category": "Bikes",
                                    "Product": "Mountain-300 Black, 44",
                                    "TotalUnits": "747",
                                    "Rank": "44",
                                    "Quintile": "3"
                                },
                                {
                                    "Category": "Bikes",
                                    "Product": "Mountain-300 Black, 48",
                                    "TotalUnits": "740",
                                    "Rank": "45",
                                    "Quintile": "3"
                                },
                                {
                                    "Category": "Bikes",
                                    "Product": "Road-450 Red, 52",
                                    "TotalUnits": "710",
                                    "Rank": "46",
                                    "Quintile": "3"
                                },
                                {
                                    "Category": "Bikes",
                                    "Product": "Touring-3000 Blue, 54",
                                    "TotalUnits": "686",
                                    "Rank": "47",
                                    "Quintile": "3"
                                },
                                {
                                    "Category": "Bikes",
                                    "Product": "Touring-3000 Yellow, 50",
                                    "TotalUnits": "686",
                                    "Rank": "47",
                                    "Quintile": "3"
                                },
                                {
                                    "Category": "Bikes",
                                    "Product": "Mountain-300 Black, 38",
                                    "TotalUnits": "684",
                                    "Rank": "49",
                                    "Quintile": "3"
                                },
                                {
                                    "Category": "Bikes",
                                    "Product": "Mountain-100 Black, 38",
                                    "TotalUnits": "682",
                                    "Rank": "50",
                                    "Quintile": "3"
                                },
                                {
                                    "Category": "Bikes",
                                    "Product": "Mountain-100 Black, 44",
                                    "TotalUnits": "678",
                                    "Rank": "51",
                                    "Quintile": "3"
                                },
                                {
                                    "Category": "Bikes",
                                    "Product": "Road-150 Red, 56",
                                    "TotalUnits": "664",
                                    "Rank": "52",
                                    "Quintile": "3"
                                },
                                {
                                    "Category": "Bikes",
                                    "Product": "Road-750 Black, 44",
                                    "TotalUnits": "656",
                                    "Rank": "53",
                                    "Quintile": "3"
                                },
                                {
                                    "Category": "Bikes",
                                    "Product": "Touring-1000 Yellow, 50",
                                    "TotalUnits": "652",
                                    "Rank": "54",
                                    "Quintile": "3"
                                },
                                {
                                    "Category": "Bikes",
                                    "Product": "Touring-1000 Blue, 50",
                                    "TotalUnits": "649",
                                    "Rank": "55",
                                    "Quintile": "3"
                                },
                                {
                                    "Category": "Bikes",
                                    "Product": "Road-650 Black, 48",
                                    "TotalUnits": "644",
                                    "Rank": "56",
                                    "Quintile": "3"
                                },
                                {
                                    "Category": "Bikes",
                                    "Product": "Road-650 Black, 62",
                                    "TotalUnits": "644",
                                    "Rank": "56",
                                    "Quintile": "3"
                                },
                                {
                                    "Category": "Bikes",
                                    "Product": "Mountain-100 Silver, 38",
                                    "TotalUnits": "642",
                                    "Rank": "58",
                                    "Quintile": "3"
                                },
                                {
                                    "Category": "Bikes",
                                    "Product": "Road-250 Red, 52",
                                    "TotalUnits": "639",
                                    "Rank": "59",
                                    "Quintile": "3"
                                },
                                {
                                    "Category": "Bikes",
                                    "Product": "Mountain-100 Black, 42",
                                    "TotalUnits": "634",
                                    "Rank": "60",
                                    "Quintile": "4"
                                },
                                {
                                    "Category": "Bikes",
                                    "Product": "Road-650 Red, 58",
                                    "TotalUnits": "618",
                                    "Rank": "61",
                                    "Quintile": "4"
                                },
                                {
                                    "Category": "Bikes",
                                    "Product": "Mountain-400-W Silver, 40",
                                    "TotalUnits": "617",
                                    "Rank": "62",
                                    "Quintile": "4"
                                },
                                {
                                    "Category": "Bikes",
                                    "Product": "Mountain-100 Black, 48",
                                    "TotalUnits": "616",
                                    "Rank": "63",
                                    "Quintile": "4"
                                },
                                {
                                    "Category": "Bikes",
                                    "Product": "Mountain-100 Silver, 44",
                                    "TotalUnits": "601",
                                    "Rank": "64",
                                    "Quintile": "4"
                                },
                                {
                                    "Category": "Bikes",
                                    "Product": "Road-150 Red, 62",
                                    "TotalUnits": "600",
                                    "Rank": "65",
                                    "Quintile": "4"
                                },
                                {
                                    "Category": "Bikes",
                                    "Product": "Mountain-100 Silver, 42",
                                    "TotalUnits": "593",
                                    "Rank": "66",
                                    "Quintile": "4"
                                },
                                {
                                    "Category": "Bikes",
                                    "Product": "Road-450 Red, 58",
                                    "TotalUnits": "582",
                                    "Rank": "67",
                                    "Quintile": "4"
                                },
                                {
                                    "Category": "Bikes",
                                    "Product": "Touring-2000 Blue, 46",
                                    "TotalUnits": "538",
                                    "Rank": "68",
                                    "Quintile": "4"
                                },
                                {
                                    "Category": "Bikes",
                                    "Product": "Road-350-W Yellow, 44",
                                    "TotalUnits": "536",
                                    "Rank": "69",
                                    "Quintile": "4"
                                },
                                {
                                    "Category": "Bikes",
                                    "Product": "Mountain-500 Silver, 52",
                                    "TotalUnits": "515",
                                    "Rank": "70",
                                    "Quintile": "4"
                                },
                                {
                                    "Category": "Bikes",
                                    "Product": "Mountain-100 Silver, 48",
                                    "TotalUnits": "505",
                                    "Rank": "71",
                                    "Quintile": "4"
                                },
                                {
                                    "Category": "Bikes",
                                    "Product": "Road-150 Red, 48",
                                    "TotalUnits": "493",
                                    "Rank": "72",
                                    "Quintile": "4"
                                },
                                {
                                    "Category": "Bikes",
                                    "Product": "Touring-3000 Blue, 58",
                                    "TotalUnits": "482",
                                    "Rank": "73",
                                    "Quintile": "4"
                                },
                                {
                                    "Category": "Bikes",
                                    "Product": "Road-150 Red, 52",
                                    "TotalUnits": "458",
                                    "Rank": "74",
                                    "Quintile": "4"
                                },
                                {
                                    "Category": "Bikes",
                                    "Product": "Mountain-500 Silver, 48",
                                    "TotalUnits": "457",
                                    "Rank": "75",
                                    "Quintile": "4"
                                },
                                {
                                    "Category": "Bikes",
                                    "Product": "Mountain-500 Silver, 42",
                                    "TotalUnits": "455",
                                    "Rank": "76",
                                    "Quintile": "4"
                                },
                                {
                                    "Category": "Bikes",
                                    "Product": "Touring-3000 Yellow, 54",
                                    "TotalUnits": "453",
                                    "Rank": "77",
                                    "Quintile": "4"
                                },
                                {
                                    "Category": "Bikes",
                                    "Product": "Mountain-500 Silver, 40",
                                    "TotalUnits": "450",
                                    "Rank": "78",
                                    "Quintile": "4"
                                },
                                {
                                    "Category": "Bikes",
                                    "Product": "Mountain-500 Black, 48",
                                    "TotalUnits": "449",
                                    "Rank": "79",
                                    "Quintile": "5"
                                },
                                {
                                    "Category": "Bikes",
                                    "Product": "Road-150 Red, 44",
                                    "TotalUnits": "437",
                                    "Rank": "80",
                                    "Quintile": "5"
                                },
                                {
                                    "Category": "Bikes",
                                    "Product": "Mountain-400-W Silver, 38",
                                    "TotalUnits": "425",
                                    "Rank": "81",
                                    "Quintile": "5"
                                },
                                {
                                    "Category": "Bikes",
                                    "Product": "Touring-1000 Blue, 54",
                                    "TotalUnits": "413",
                                    "Rank": "82",
                                    "Quintile": "5"
                                },
                                {
                                    "Category": "Bikes",
                                    "Product": "Mountain-400-W Silver, 46",
                                    "TotalUnits": "401",
                                    "Rank": "83",
                                    "Quintile": "5"
                                },
                                {
                                    "Category": "Bikes",
                                    "Product": "Touring-1000 Yellow, 54",
                                    "TotalUnits": "397",
                                    "Rank": "84",
                                    "Quintile": "5"
                                },
                                {
                                    "Category": "Bikes",
                                    "Product": "Mountain-500 Black, 42",
                                    "TotalUnits": "388",
                                    "Rank": "85",
                                    "Quintile": "5"
                                },
                                {
                                    "Category": "Bikes",
                                    "Product": "Mountain-400-W Silver, 42",
                                    "TotalUnits": "385",
                                    "Rank": "86",
                                    "Quintile": "5"
                                },
                                {
                                    "Category": "Bikes",
                                    "Product": "Mountain-500 Silver, 44",
                                    "TotalUnits": "381",
                                    "Rank": "87",
                                    "Quintile": "5"
                                },
                                {
                                    "Category": "Bikes",
                                    "Product": "Mountain-500 Black, 44",
                                    "TotalUnits": "350",
                                    "Rank": "88",
                                    "Quintile": "5"
                                },
                                {
                                    "Category": "Bikes",
                                    "Product": "Road-450 Red, 60",
                                    "TotalUnits": "350",
                                    "Rank": "88",
                                    "Quintile": "5"
                                },
                                {
                                    "Category": "Bikes",
                                    "Product": "Road-450 Red, 44",
                                    "TotalUnits": "346",
                                    "Rank": "90",
                                    "Quintile": "5"
                                },
                                {
                                    "Category": "Bikes",
                                    "Product": "Touring-2000 Blue, 50",
                                    "TotalUnits": "322",
                                    "Rank": "91",
                                    "Quintile": "5"
                                },
                                {
                                    "Category": "Bikes",
                                    "Product": "Touring-3000 Yellow, 58",
                                    "TotalUnits": "293",
                                    "Rank": "92",
                                    "Quintile": "5"
                                },
                                {
                                    "Category": "Bikes",
                                    "Product": "Touring-3000 Blue, 44",
                                    "TotalUnits": "292",
                                    "Rank": "93",
                                    "Quintile": "5"
                                },
                                {
                                    "Category": "Bikes",
                                    "Product": "Mountain-500 Black, 40",
                                    "TotalUnits": "282",
                                    "Rank": "94",
                                    "Quintile": "5"
                                },
                                {
                                    "Category": "Bikes",
                                    "Product": "Touring-3000 Blue, 62",
                                    "TotalUnits": "281",
                                    "Rank": "95",
                                    "Quintile": "5"
                                },
                                {
                                    "Category": "Bikes",
                                    "Product": "Mountain-500 Black, 52",
                                    "TotalUnits": "272",
                                    "Rank": "96",
                                    "Quintile": "5"
                                },
                                {
                                    "Category": "Bikes",
                                    "Product": "Road-450 Red, 48",
                                    "TotalUnits": "156",
                                    "Rank": "97",
                                    "Quintile": "5"
                                },
                                {
                                    "Category": "Clothing",
                                    "Product": "AWC Logo Cap",
                                    "TotalUnits": "8311",
                                    "Rank": "1",
                                    "Quintile": "1"
                                },
                                {
                                    "Category": "Clothing",
                                    "Product": "Long-Sleeve Logo Jersey, L",
                                    "TotalUnits": "6592",
                                    "Rank": "2",
                                    "Quintile": "1"
                                },
                                {
                                    "Category": "Clothing",
                                    "Product": "Classic Vest, S",
                                    "TotalUnits": "4247",
                                    "Rank": "3",
                                    "Quintile": "1"
                                },
                                {
                                    "Category": "Clothing",
                                    "Product": "Short-Sleeve Classic Jersey, XL",
                                    "TotalUnits": "3864",
                                    "Rank": "4",
                                    "Quintile": "1"
                                },
                                {
                                    "Category": "Clothing",
                                    "Product": "Long-Sleeve Logo Jersey, M",
                                    "TotalUnits": "3636",
                                    "Rank": "5",
                                    "Quintile": "1"
                                },
                                {
                                    "Category": "Clothing",
                                    "Product": "Half-Finger Gloves, M",
                                    "TotalUnits": "3464",
                                    "Rank": "6",
                                    "Quintile": "1"
                                },
                                {
                                    "Category": "Clothing",
                                    "Product": "Full-Finger Gloves, L",
                                    "TotalUnits": "3378",
                                    "Rank": "7",
                                    "Quintile": "1"
                                },
                                {
                                    "Category": "Clothing",
                                    "Product": "Women's Mountain Shorts, S",
                                    "TotalUnits": "3296",
                                    "Rank": "8",
                                    "Quintile": "2"
                                },
                                {
                                    "Category": "Clothing",
                                    "Product": "Women's Mountain Shorts, L",
                                    "TotalUnits": "3244",
                                    "Rank": "9",
                                    "Quintile": "2"
                                },
                                {
                                    "Category": "Clothing",
                                    "Product": "Long-Sleeve Logo Jersey, XL",
                                    "TotalUnits": "2980",
                                    "Rank": "10",
                                    "Quintile": "2"
                                },
                                {
                                    "Category": "Clothing",
                                    "Product": "Short-Sleeve Classic Jersey, L",
                                    "TotalUnits": "2848",
                                    "Rank": "11",
                                    "Quintile": "2"
                                },
                                {
                                    "Category": "Clothing",
                                    "Product": "Racing Socks, L",
                                    "TotalUnits": "2473",
                                    "Rank": "12",
                                    "Quintile": "2"
                                },
                                {
                                    "Category": "Clothing",
                                    "Product": "Classic Vest, M",
                                    "TotalUnits": "2284",
                                    "Rank": "13",
                                    "Quintile": "2"
                                },
                                {
                                    "Category": "Clothing",
                                    "Product": "Full-Finger Gloves, M",
                                    "TotalUnits": "2206",
                                    "Rank": "14",
                                    "Quintile": "2"
                                },
                                {
                                    "Category": "Clothing",
                                    "Product": "Half-Finger Gloves, S",
                                    "TotalUnits": "2188",
                                    "Rank": "15",
                                    "Quintile": "3"
                                },
                                {
                                    "Category": "Clothing",
                                    "Product": "Women's Tights, L",
                                    "TotalUnits": "2123",
                                    "Rank": "16",
                                    "Quintile": "3"
                                },
                                {
                                    "Category": "Clothing",
                                    "Product": "Women's Tights, S",
                                    "TotalUnits": "2072",
                                    "Rank": "17",
                                    "Quintile": "3"
                                },
                                {
                                    "Category": "Clothing",
                                    "Product": "Short-Sleeve Classic Jersey, S",
                                    "TotalUnits": "1955",
                                    "Rank": "18",
                                    "Quintile": "3"
                                },
                                {
                                    "Category": "Clothing",
                                    "Product": "Men's Bib-Shorts, M",
                                    "TotalUnits": "1616",
                                    "Rank": "19",
                                    "Quintile": "3"
                                },
                                {
                                    "Category": "Clothing",
                                    "Product": "Racing Socks, M",
                                    "TotalUnits": "1547",
                                    "Rank": "20",
                                    "Quintile": "3"
                                },
                                {
                                    "Category": "Clothing",
                                    "Product": "Half-Finger Gloves, L",
                                    "TotalUnits": "1276",
                                    "Rank": "21",
                                    "Quintile": "3"
                                },
                                {
                                    "Category": "Clothing",
                                    "Product": "Men's Sports Shorts, M",
                                    "TotalUnits": "1276",
                                    "Rank": "21",
                                    "Quintile": "4"
                                },
                                {
                                    "Category": "Clothing",
                                    "Product": "Women's Mountain Shorts, M",
                                    "TotalUnits": "1139",
                                    "Rank": "23",
                                    "Quintile": "4"
                                },
                                {
                                    "Category": "Clothing",
                                    "Product": "Mountain Bike Socks, M",
                                    "TotalUnits": "1107",
                                    "Rank": "24",
                                    "Quintile": "4"
                                },
                                {
                                    "Category": "Clothing",
                                    "Product": "Men's Bib-Shorts, S",
                                    "TotalUnits": "876",
                                    "Rank": "25",
                                    "Quintile": "4"
                                },
                                {
                                    "Category": "Clothing",
                                    "Product": "Men's Bib-Shorts, L",
                                    "TotalUnits": "633",
                                    "Rank": "26",
                                    "Quintile": "4"
                                },
                                {
                                    "Category": "Clothing",
                                    "Product": "Men's Sports Shorts, S",
                                    "TotalUnits": "567",
                                    "Rank": "27",
                                    "Quintile": "4"
                                },
                                {
                                    "Category": "Clothing",
                                    "Product": "Full-Finger Gloves, S",
                                    "TotalUnits": "500",
                                    "Rank": "28",
                                    "Quintile": "4"
                                },
                                {
                                    "Category": "Clothing",
                                    "Product": "Men's Sports Shorts, L",
                                    "TotalUnits": "445",
                                    "Rank": "29",
                                    "Quintile": "5"
                                },
                                {
                                    "Category": "Clothing",
                                    "Product": "Long-Sleeve Logo Jersey, S",
                                    "TotalUnits": "429",
                                    "Rank": "30",
                                    "Quintile": "5"
                                },
                                {
                                    "Category": "Clothing",
                                    "Product": "Short-Sleeve Classic Jersey, M",
                                    "TotalUnits": "407",
                                    "Rank": "31",
                                    "Quintile": "5"
                                },
                                {
                                    "Category": "Clothing",
                                    "Product": "Women's Tights, M",
                                    "TotalUnits": "394",
                                    "Rank": "32",
                                    "Quintile": "5"
                                },
                                {
                                    "Category": "Clothing",
                                    "Product": "Classic Vest, L",
                                    "TotalUnits": "207",
                                    "Rank": "33",
                                    "Quintile": "5"
                                },
                                {
                                    "Category": "Clothing",
                                    "Product": "Mountain Bike Socks, L",
                                    "TotalUnits": "90",
                                    "Rank": "34",
                                    "Quintile": "5"
                                },
                                {
                                    "Category": "Components",
                                    "Product": "LL Road Frame - Black, 52",
                                    "TotalUnits": "1581",
                                    "Rank": "1",
                                    "Quintile": "1"
                                },
                                {
                                    "Category": "Components",
                                    "Product": "ML Mountain Handlebars",
                                    "TotalUnits": "1465",
                                    "Rank": "2",
                                    "Quintile": "1"
                                },
                                {
                                    "Category": "Components",
                                    "Product": "ML Road Frame-W - Yellow, 44",
                                    "TotalUnits": "1435",
                                    "Rank": "3",
                                    "Quintile": "1"
                                },
                                {
                                    "Category": "Components",
                                    "Product": "HL Mountain Frame - Silver, 38",
                                    "TotalUnits": "1206",
                                    "Rank": "4",
                                    "Quintile": "1"
                                },
                                {
                                    "Category": "Components",
                                    "Product": "HL Mountain Frame - Black, 42",
                                    "TotalUnits": "1181",
                                    "Rank": "5",
                                    "Quintile": "1"
                                },
                                {
                                    "Category": "Components",
                                    "Product": "LL Road Frame - Red, 60",
                                    "TotalUnits": "996",
                                    "Rank": "6",
                                    "Quintile": "1"
                                },
                                {
                                    "Category": "Components",
                                    "Product": "LL Road Frame - Red, 44",
                                    "TotalUnits": "991",
                                    "Rank": "7",
                                    "Quintile": "1"
                                },
                                {
                                    "Category": "Components",
                                    "Product": "ML Mountain Frame - Black, 48",
                                    "TotalUnits": "959",
                                    "Rank": "8",
                                    "Quintile": "1"
                                },
                                {
                                    "Category": "Components",
                                    "Product": "LL Road Frame - Black, 58",
                                    "TotalUnits": "940",
                                    "Rank": "9",
                                    "Quintile": "1"
                                },
                                {
                                    "Category": "Components",
                                    "Product": "ML Mountain Frame-W - Silver, 40",
                                    "TotalUnits": "899",
                                    "Rank": "10",
                                    "Quintile": "1"
                                },
                                {
                                    "Category": "Components",
                                    "Product": "ML Road Frame-W - Yellow, 38",
                                    "TotalUnits": "895",
                                    "Rank": "11",
                                    "Quintile": "1"
                                },
                                {
                                    "Category": "Components",
                                    "Product": "ML Road Frame-W - Yellow, 48",
                                    "TotalUnits": "889",
                                    "Rank": "12",
                                    "Quintile": "1"
                                },
                                {
                                    "Category": "Components",
                                    "Product": "LL Road Rear Wheel",
                                    "TotalUnits": "868",
                                    "Rank": "13",
                                    "Quintile": "1"
                                },
                                {
                                    "Category": "Components",
                                    "Product": "LL Road Pedal",
                                    "TotalUnits": "868",
                                    "Rank": "13",
                                    "Quintile": "1"
                                },
                                {
                                    "Category": "Components",
                                    "Product": "LL Mountain Handlebars",
                                    "TotalUnits": "865",
                                    "Rank": "15",
                                    "Quintile": "1"
                                },
                                {
                                    "Category": "Components",
                                    "Product": "ML Mountain Rear Wheel",
                                    "TotalUnits": "851",
                                    "Rank": "16",
                                    "Quintile": "1"
                                },
                                {
                                    "Category": "Components",
                                    "Product": "HL Mountain Rear Wheel",
                                    "TotalUnits": "850",
                                    "Rank": "17",
                                    "Quintile": "1"
                                },
                                {
                                    "Category": "Components",
                                    "Product": "Front Derailleur",
                                    "TotalUnits": "813",
                                    "Rank": "18",
                                    "Quintile": "1"
                                },
                                {
                                    "Category": "Components",
                                    "Product": "Front Brakes",
                                    "TotalUnits": "789",
                                    "Rank": "19",
                                    "Quintile": "1"
                                },
                                {
                                    "Category": "Components",
                                    "Product": "HL Mountain Pedal",
                                    "TotalUnits": "785",
                                    "Rank": "20",
                                    "Quintile": "1"
                                },
                                {
                                    "Category": "Components",
                                    "Product": "Chain",
                                    "TotalUnits": "774",
                                    "Rank": "21",
                                    "Quintile": "1"
                                },
                                {
                                    "Category": "Components",
                                    "Product": "LL Road Frame - Red, 62",
                                    "TotalUnits": "697",
                                    "Rank": "22",
                                    "Quintile": "1"
                                },
                                {
                                    "Category": "Components",
                                    "Product": "HL Road Pedal",
                                    "TotalUnits": "676",
                                    "Rank": "23",
                                    "Quintile": "1"
                                },
                                {
                                    "Category": "Components",
                                    "Product": "LL Road Frame - Red, 48",
                                    "TotalUnits": "671",
                                    "Rank": "24",
                                    "Quintile": "2"
                                },
                                {
                                    "Category": "Components",
                                    "Product": "ML Road Pedal",
                                    "TotalUnits": "661",
                                    "Rank": "25",
                                    "Quintile": "2"
                                },
                                {
                                    "Category": "Components",
                                    "Product": "ML Headset",
                                    "TotalUnits": "659",
                                    "Rank": "26",
                                    "Quintile": "2"
                                },
                                {
                                    "Category": "Components",
                                    "Product": "HL Mountain Frame - Black, 38",
                                    "TotalUnits": "659",
                                    "Rank": "26",
                                    "Quintile": "2"
                                },
                                {
                                    "Category": "Components",
                                    "Product": "HL Mountain Frame - Silver, 46",
                                    "TotalUnits": "649",
                                    "Rank": "28",
                                    "Quintile": "2"
                                },
                                {
                                    "Category": "Components",
                                    "Product": "LL Mountain Frame - Silver, 42",
                                    "TotalUnits": "638",
                                    "Rank": "29",
                                    "Quintile": "2"
                                },
                                {
                                    "Category": "Components",
                                    "Product": "HL Road Handlebars",
                                    "TotalUnits": "631",
                                    "Rank": "30",
                                    "Quintile": "2"
                                },
                                {
                                    "Category": "Components",
                                    "Product": "ML Mountain Frame-W - Silver, 42",
                                    "TotalUnits": "627",
                                    "Rank": "31",
                                    "Quintile": "2"
                                },
                                {
                                    "Category": "Components",
                                    "Product": "LL Mountain Frame - Black, 44",
                                    "TotalUnits": "625",
                                    "Rank": "32",
                                    "Quintile": "2"
                                },
                                {
                                    "Category": "Components",
                                    "Product": "ML Mountain Frame - Black, 44",
                                    "TotalUnits": "619",
                                    "Rank": "33",
                                    "Quintile": "2"
                                },
                                {
                                    "Category": "Components",
                                    "Product": "LL Mountain Front Wheel",
                                    "TotalUnits": "617",
                                    "Rank": "34",
                                    "Quintile": "2"
                                },
                                {
                                    "Category": "Components",
                                    "Product": "HL Crankset",
                                    "TotalUnits": "613",
                                    "Rank": "35",
                                    "Quintile": "2"
                                },
                                {
                                    "Category": "Components",
                                    "Product": "HL Road Front Wheel",
                                    "TotalUnits": "567",
                                    "Rank": "36",
                                    "Quintile": "2"
                                },
                                {
                                    "Category": "Components",
                                    "Product": "HL Bottom Bracket",
                                    "TotalUnits": "543",
                                    "Rank": "37",
                                    "Quintile": "2"
                                },
                                {
                                    "Category": "Components",
                                    "Product": "HL Touring Frame - Blue, 54",
                                    "TotalUnits": "542",
                                    "Rank": "38",
                                    "Quintile": "2"
                                },
                                {
                                    "Category": "Components",
                                    "Product": "HL Touring Frame - Yellow, 54",
                                    "TotalUnits": "540",
                                    "Rank": "39",
                                    "Quintile": "2"
                                },
                                {
                                    "Category": "Components",
                                    "Product": "ML Mountain Seat/Saddle",
                                    "TotalUnits": "534",
                                    "Rank": "40",
                                    "Quintile": "2"
                                },
                                {
                                    "Category": "Components",
                                    "Product": "ML Road Front Wheel",
                                    "TotalUnits": "532",
                                    "Rank": "41",
                                    "Quintile": "2"
                                },
                                {
                                    "Category": "Components",
                                    "Product": "HL Mountain Seat/Saddle",
                                    "TotalUnits": "519",
                                    "Rank": "42",
                                    "Quintile": "2"
                                },
                                {
                                    "Category": "Components",
                                    "Product": "ML Mountain Frame - Black, 38",
                                    "TotalUnits": "514",
                                    "Rank": "43",
                                    "Quintile": "2"
                                },
                                {
                                    "Category": "Components",
                                    "Product": "HL Mountain Handlebars",
                                    "TotalUnits": "500",
                                    "Rank": "44",
                                    "Quintile": "2"
                                },
                                {
                                    "Category": "Components",
                                    "Product": "HL Road Frame - Red, 44",
                                    "TotalUnits": "486",
                                    "Rank": "45",
                                    "Quintile": "2"
                                },
                                {
                                    "Category": "Components",
                                    "Product": "HL Road Frame - Red, 62",
                                    "TotalUnits": "485",
                                    "Rank": "46",
                                    "Quintile": "3"
                                },
                                {
                                    "Category": "Components",
                                    "Product": "HL Road Frame - Black, 44",
                                    "TotalUnits": "459",
                                    "Rank": "47",
                                    "Quintile": "3"
                                },
                                {
                                    "Category": "Components",
                                    "Product": "LL Mountain Pedal",
                                    "TotalUnits": "449",
                                    "Rank": "48",
                                    "Quintile": "3"
                                },
                                {
                                    "Category": "Components",
                                    "Product": "HL Fork",
                                    "TotalUnits": "444",
                                    "Rank": "49",
                                    "Quintile": "3"
                                },
                                {
                                    "Category": "Components",
                                    "Product": "LL Mountain Frame - Silver, 40",
                                    "TotalUnits": "442",
                                    "Rank": "50",
                                    "Quintile": "3"
                                },
                                {
                                    "Category": "Components",
                                    "Product": "LL Crankset",
                                    "TotalUnits": "426",
                                    "Rank": "51",
                                    "Quintile": "3"
                                },
                                {
                                    "Category": "Components",
                                    "Product": "HL Touring Seat/Saddle",
                                    "TotalUnits": "426",
                                    "Rank": "51",
                                    "Quintile": "3"
                                },
                                {
                                    "Category": "Components",
                                    "Product": "LL Mountain Frame - Silver, 52",
                                    "TotalUnits": "425",
                                    "Rank": "53",
                                    "Quintile": "3"
                                },
                                {
                                    "Category": "Components",
                                    "Product": "LL Mountain Frame - Black, 42",
                                    "TotalUnits": "423",
                                    "Rank": "54",
                                    "Quintile": "3"
                                },
                                {
                                    "Category": "Components",
                                    "Product": "HL Touring Frame - Yellow, 60",
                                    "TotalUnits": "387",
                                    "Rank": "55",
                                    "Quintile": "3"
                                },
                                {
                                    "Category": "Components",
                                    "Product": "LL Mountain Frame - Black, 48",
                                    "TotalUnits": "386",
                                    "Rank": "56",
                                    "Quintile": "3"
                                },
                                {
                                    "Category": "Components",
                                    "Product": "LL Bottom Bracket",
                                    "TotalUnits": "378",
                                    "Rank": "57",
                                    "Quintile": "3"
                                },
                                {
                                    "Category": "Components",
                                    "Product": "HL Touring Frame - Blue, 60",
                                    "TotalUnits": "371",
                                    "Rank": "58",
                                    "Quintile": "3"
                                },
                                {
                                    "Category": "Components",
                                    "Product": "LL Mountain Frame - Silver, 44",
                                    "TotalUnits": "371",
                                    "Rank": "58",
                                    "Quintile": "3"
                                },
                                {
                                    "Category": "Components",
                                    "Product": "Rear Derailleur",
                                    "TotalUnits": "353",
                                    "Rank": "60",
                                    "Quintile": "3"
                                },
                                {
                                    "Category": "Components",
                                    "Product": "LL Touring Frame - Yellow, 62",
                                    "TotalUnits": "348",
                                    "Rank": "61",
                                    "Quintile": "3"
                                },
                                {
                                    "Category": "Components",
                                    "Product": "LL Mountain Seat/Saddle",
                                    "TotalUnits": "347",
                                    "Rank": "62",
                                    "Quintile": "3"
                                },
                                {
                                    "Category": "Components",
                                    "Product": "HL Mountain Frame - Silver, 42",
                                    "TotalUnits": "347",
                                    "Rank": "62",
                                    "Quintile": "3"
                                },
                                {
                                    "Category": "Components",
                                    "Product": "ML Mountain Pedal",
                                    "TotalUnits": "345",
                                    "Rank": "64",
                                    "Quintile": "3"
                                },
                                {
                                    "Category": "Components",
                                    "Product": "LL Mountain Rear Wheel",
                                    "TotalUnits": "342",
                                    "Rank": "65",
                                    "Quintile": "3"
                                },
                                {
                                    "Category": "Components",
                                    "Product": "LL Touring Frame - Blue, 50",
                                    "TotalUnits": "316",
                                    "Rank": "66",
                                    "Quintile": "3"
                                },
                                {
                                    "Category": "Components",
                                    "Product": "LL Touring Frame - Yellow, 44",
                                    "TotalUnits": "294",
                                    "Rank": "67",
                                    "Quintile": "3"
                                },
                                {
                                    "Category": "Components",
                                    "Product": "ML Mountain Front Wheel",
                                    "TotalUnits": "266",
                                    "Rank": "68",
                                    "Quintile": "4"
                                },
                                {
                                    "Category": "Components",
                                    "Product": "HL Headset",
                                    "TotalUnits": "255",
                                    "Rank": "69",
                                    "Quintile": "4"
                                },
                                {
                                    "Category": "Components",
                                    "Product": "ML Road Frame - Red, 48",
                                    "TotalUnits": "250",
                                    "Rank": "70",
                                    "Quintile": "4"
                                },
                                {
                                    "Category": "Components",
                                    "Product": "Rear Brakes",
                                    "TotalUnits": "246",
                                    "Rank": "71",
                                    "Quintile": "4"
                                },
                                {
                                    "Category": "Components",
                                    "Product": "LL Road Frame - Black, 44",
                                    "TotalUnits": "238",
                                    "Rank": "72",
                                    "Quintile": "4"
                                },
                                {
                                    "Category": "Components",
                                    "Product": "LL Touring Frame - Yellow, 50",
                                    "TotalUnits": "228",
                                    "Rank": "73",
                                    "Quintile": "4"
                                },
                                {
                                    "Category": "Components",
                                    "Product": "HL Mountain Front Wheel",
                                    "TotalUnits": "222",
                                    "Rank": "74",
                                    "Quintile": "4"
                                },
                                {
                                    "Category": "Components",
                                    "Product": "HL Touring Handlebars",
                                    "TotalUnits": "220",
                                    "Rank": "75",
                                    "Quintile": "4"
                                },
                                {
                                    "Category": "Components",
                                    "Product": "LL Road Handlebars",
                                    "TotalUnits": "213",
                                    "Rank": "76",
                                    "Quintile": "4"
                                },
                                {
                                    "Category": "Components",
                                    "Product": "LL Touring Frame - Blue, 54",
                                    "TotalUnits": "211",
                                    "Rank": "77",
                                    "Quintile": "4"
                                },
                                {
                                    "Category": "Components",
                                    "Product": "ML Road Frame-W - Yellow, 40",
                                    "TotalUnits": "203",
                                    "Rank": "78",
                                    "Quintile": "4"
                                },
                                {
                                    "Category": "Components",
                                    "Product": "LL Fork",
                                    "TotalUnits": "190",
                                    "Rank": "79",
                                    "Quintile": "4"
                                },
                                {
                                    "Category": "Components",
                                    "Product": "ML Mountain Frame-W - Silver, 46",
                                    "TotalUnits": "188",
                                    "Rank": "80",
                                    "Quintile": "4"
                                },
                                {
                                    "Category": "Components",
                                    "Product": "HL Mountain Frame - Silver, 48",
                                    "TotalUnits": "173",
                                    "Rank": "81",
                                    "Quintile": "4"
                                },
                                {
                                    "Category": "Components",
                                    "Product": "Touring Pedal",
                                    "TotalUnits": "147",
                                    "Rank": "82",
                                    "Quintile": "4"
                                },
                                {
                                    "Category": "Components",
                                    "Product": "HL Road Seat/Saddle",
                                    "TotalUnits": "134",
                                    "Rank": "83",
                                    "Quintile": "4"
                                },
                                {
                                    "Category": "Components",
                                    "Product": "HL Mountain Frame - Black, 48",
                                    "TotalUnits": "131",
                                    "Rank": "84",
                                    "Quintile": "4"
                                },
                                {
                                    "Category": "Components",
                                    "Product": "LL Road Frame - Black, 60",
                                    "TotalUnits": "129",
                                    "Rank": "85",
                                    "Quintile": "4"
                                },
                                {
                                    "Category": "Components",
                                    "Product": "HL Touring Frame - Blue, 50",
                                    "TotalUnits": "124",
                                    "Rank": "86",
                                    "Quintile": "4"
                                },
                                {
                                    "Category": "Components",
                                    "Product": "HL Touring Frame - Blue, 46",
                                    "TotalUnits": "114",
                                    "Rank": "87",
                                    "Quintile": "4"
                                },
                                {
                                    "Category": "Components",
                                    "Product": "HL Road Frame - Black, 48",
                                    "TotalUnits": "109",
                                    "Rank": "88",
                                    "Quintile": "4"
                                },
                                {
                                    "Category": "Components",
                                    "Product": "HL Road Frame - Red, 48",
                                    "TotalUnits": "109",
                                    "Rank": "88",
                                    "Quintile": "4"
                                },
                                {
                                    "Category": "Components",
                                    "Product": "LL Road Frame - Red, 52",
                                    "TotalUnits": "100",
                                    "Rank": "90",
                                    "Quintile": "5"
                                },
                                {
                                    "Category": "Components",
                                    "Product": "LL Headset",
                                    "TotalUnits": "95",
                                    "Rank": "91",
                                    "Quintile": "5"
                                },
                                {
                                    "Category": "Components",
                                    "Product": "HL Road Rear Wheel",
                                    "TotalUnits": "94",
                                    "Rank": "92",
                                    "Quintile": "5"
                                },
                                {
                                    "Category": "Components",
                                    "Product": "LL Touring Seat/Saddle",
                                    "TotalUnits": "91",
                                    "Rank": "93",
                                    "Quintile": "5"
                                },
                                {
                                    "Category": "Components",
                                    "Product": "ML Road Frame - Red, 52",
                                    "TotalUnits": "90",
                                    "Rank": "94",
                                    "Quintile": "5"
                                },
                                {
                                    "Category": "Components",
                                    "Product": "HL Touring Frame - Yellow, 46",
                                    "TotalUnits": "87",
                                    "Rank": "95",
                                    "Quintile": "5"
                                },
                                {
                                    "Category": "Components",
                                    "Product": "ML Touring Seat/Saddle",
                                    "TotalUnits": "84",
                                    "Rank": "96",
                                    "Quintile": "5"
                                },
                                {
                                    "Category": "Components",
                                    "Product": "HL Touring Frame - Yellow, 50",
                                    "TotalUnits": "83",
                                    "Rank": "97",
                                    "Quintile": "5"
                                },
                                {
                                    "Category": "Components",
                                    "Product": "ML Mountain Frame - Black, 40",
                                    "TotalUnits": "68",
                                    "Rank": "98",
                                    "Quintile": "5"
                                },
                                {
                                    "Category": "Components",
                                    "Product": "ML Crankset",
                                    "TotalUnits": "68",
                                    "Rank": "98",
                                    "Quintile": "5"
                                },
                                {
                                    "Category": "Components",
                                    "Product": "ML Road Rear Wheel",
                                    "TotalUnits": "64",
                                    "Rank": "100",
                                    "Quintile": "5"
                                },
                                {
                                    "Category": "Components",
                                    "Product": "LL Touring Handlebars",
                                    "TotalUnits": "56",
                                    "Rank": "101",
                                    "Quintile": "5"
                                },
                                {
                                    "Category": "Components",
                                    "Product": "LL Mountain Frame - Silver, 48",
                                    "TotalUnits": "44",
                                    "Rank": "102",
                                    "Quintile": "5"
                                },
                                {
                                    "Category": "Components",
                                    "Product": "LL Touring Frame - Yellow, 58",
                                    "TotalUnits": "36",
                                    "Rank": "103",
                                    "Quintile": "5"
                                },
                                {
                                    "Category": "Components",
                                    "Product": "LL Touring Frame - Blue, 44",
                                    "TotalUnits": "25",
                                    "Rank": "104",
                                    "Quintile": "5"
                                },
                                {
                                    "Category": "Components",
                                    "Product": "HL Mountain Frame - Black, 44",
                                    "TotalUnits": "17",
                                    "Rank": "105",
                                    "Quintile": "5"
                                },
                                {
                                    "Category": "Components",
                                    "Product": "LL Touring Frame - Blue, 62",
                                    "TotalUnits": "15",
                                    "Rank": "106",
                                    "Quintile": "5"
                                },
                                {
                                    "Category": "Components",
                                    "Product": "LL Mountain Frame - Black, 52",
                                    "TotalUnits": "15",
                                    "Rank": "106",
                                    "Quintile": "5"
                                },
                                {
                                    "Category": "Components",
                                    "Product": "LL Road Seat/Saddle",
                                    "TotalUnits": "10",
                                    "Rank": "108",
                                    "Quintile": "5"
                                },
                                {
                                    "Category": "Components",
                                    "Product": "LL Mountain Frame - Black, 40",
                                    "TotalUnits": "8",
                                    "Rank": "109",
                                    "Quintile": "5"
                                },
                                {
                                    "Category": "Components",
                                    "Product": "ML Mountain Frame-W - Silver, 38",
                                    "TotalUnits": "7",
                                    "Rank": "110",
                                    "Quintile": "5"
                                },
                                {
                                    "Category": "Components",
                                    "Product": "LL Touring Frame - Blue, 58",
                                    "TotalUnits": "4",
                                    "Rank": "111",
                                    "Quintile": "5"
                                }
                            ]
                        },
                        "text/html": "<table><tr><th>Category</th><th>Product</th><th>TotalUnits</th><th>Rank</th><th>Quintile</th></tr><tr><td>Accessories</td><td>Water Bottle - 30 oz.</td><td>6815</td><td>1</td><td>1</td></tr><tr><td>Accessories</td><td>Sport-100 Helmet, Blue</td><td>6743</td><td>2</td><td>1</td></tr><tr><td>Accessories</td><td>Sport-100 Helmet, Black</td><td>6532</td><td>3</td><td>1</td></tr><tr><td>Accessories</td><td>Sport-100 Helmet, Red</td><td>6266</td><td>4</td><td>1</td></tr><tr><td>Accessories</td><td>Patch Kit/8 Patches</td><td>3865</td><td>5</td><td>1</td></tr><tr><td>Accessories</td><td>Bike Wash - Dissolver</td><td>3319</td><td>6</td><td>2</td></tr><tr><td>Accessories</td><td>Hitch Rack - 4-Bike</td><td>3166</td><td>7</td><td>2</td></tr><tr><td>Accessories</td><td>Mountain Tire Tube</td><td>3095</td><td>8</td><td>2</td></tr><tr><td>Accessories</td><td>Hydration Pack - 70 oz.</td><td>2761</td><td>9</td><td>2</td></tr><tr><td>Accessories</td><td>Road Tire Tube</td><td>2376</td><td>10</td><td>2</td></tr><tr><td>Accessories</td><td>Fender Set - Mountain</td><td>2121</td><td>11</td><td>3</td></tr><tr><td>Accessories</td><td>Mountain Bottle Cage</td><td>2025</td><td>12</td><td>3</td></tr><tr><td>Accessories</td><td>Road Bottle Cage</td><td>1712</td><td>13</td><td>3</td></tr><tr><td>Accessories</td><td>Touring Tire Tube</td><td>1488</td><td>14</td><td>3</td></tr><tr><td>Accessories</td><td>HL Mountain Tire</td><td>1396</td><td>15</td><td>3</td></tr><tr><td>Accessories</td><td>ML Mountain Tire</td><td>1161</td><td>16</td><td>4</td></tr><tr><td>Accessories</td><td>Minipump</td><td>1130</td><td>17</td><td>4</td></tr><tr><td>Accessories</td><td>Cable Lock</td><td>1087</td><td>18</td><td>4</td></tr><tr><td>Accessories</td><td>LL Road Tire</td><td>1044</td><td>19</td><td>4</td></tr><tr><td>Accessories</td><td>Touring Tire</td><td>935</td><td>20</td><td>4</td></tr><tr><td>Accessories</td><td>ML Road Tire</td><td>926</td><td>21</td><td>5</td></tr><tr><td>Accessories</td><td>LL Mountain Tire</td><td>862</td><td>22</td><td>5</td></tr><tr><td>Accessories</td><td>HL Road Tire</td><td>858</td><td>23</td><td>5</td></tr><tr><td>Accessories</td><td>All-Purpose Bike Stand</td><td>249</td><td>24</td><td>5</td></tr><tr><td>Bikes</td><td>Mountain-200 Black, 38</td><td>2977</td><td>1</td><td>1</td></tr><tr><td>Bikes</td><td>Mountain-200 Black, 42</td><td>2664</td><td>2</td><td>1</td></tr><tr><td>Bikes</td><td>Mountain-200 Silver, 38</td><td>2394</td><td>3</td><td>1</td></tr><tr><td>Bikes</td><td>Road-650 Black, 52</td><td>2270</td><td>4</td><td>1</td></tr><tr><td>Bikes</td><td>Road-650 Red, 44</td><td>2254</td><td>5</td><td>1</td></tr><tr><td>Bikes</td><td>Mountain-200 Silver, 42</td><td>2234</td><td>6</td><td>1</td></tr><tr><td>Bikes</td><td>Road-650 Red, 60</td><td>2232</td><td>7</td><td>1</td></tr><tr><td>Bikes</td><td>Mountain-200 Silver, 46</td><td>2216</td><td>8</td><td>1</td></tr><tr><td>Bikes</td><td>Mountain-200 Black, 46</td><td>2111</td><td>9</td><td>1</td></tr><tr><td>Bikes</td><td>Road-650 Red, 62</td><td>1896</td><td>10</td><td>1</td></tr><tr><td>Bikes</td><td>Road-650 Red, 48</td><td>1888</td><td>11</td><td>1</td></tr><tr><td>Bikes</td><td>Road-650 Black, 58</td><td>1871</td><td>12</td><td>1</td></tr><tr><td>Bikes</td><td>Road-550-W Yellow, 48</td><td>1763</td><td>13</td><td>1</td></tr><tr><td>Bikes</td><td>Road-550-W Yellow, 38</td><td>1744</td><td>14</td><td>1</td></tr><tr><td>Bikes</td><td>Road-250 Black, 44</td><td>1642</td><td>15</td><td>1</td></tr><tr><td>Bikes</td><td>Road-350-W Yellow, 48</td><td>1622</td><td>16</td><td>1</td></tr><tr><td>Bikes</td><td>Road-750 Black, 48</td><td>1556</td><td>17</td><td>1</td></tr><tr><td>Bikes</td><td>Road-550-W Yellow, 40</td><td>1500</td><td>18</td><td>1</td></tr><tr><td>Bikes</td><td>Road-250 Black, 48</td><td>1498</td><td>19</td><td>1</td></tr><tr><td>Bikes</td><td>Road-350-W Yellow, 40</td><td>1477</td><td>20</td><td>1</td></tr><tr><td>Bikes</td><td>Road-750 Black, 52</td><td>1338</td><td>21</td><td>2</td></tr><tr><td>Bikes</td><td>Road-550-W Yellow, 42</td><td>1249</td><td>22</td><td>2</td></tr><tr><td>Bikes</td><td>Road-250 Black, 52</td><td>1245</td><td>23</td><td>2</td></tr><tr><td>Bikes</td><td>Touring-1000 Blue, 60</td><td>1120</td><td>24</td><td>2</td></tr><tr><td>Bikes</td><td>Touring-1000 Yellow, 60</td><td>1114</td><td>25</td><td>2</td></tr><tr><td>Bikes</td><td>Road-650 Red, 52</td><td>1112</td><td>26</td><td>2</td></tr><tr><td>Bikes</td><td>Road-650 Black, 60</td><td>1100</td><td>27</td><td>2</td></tr><tr><td>Bikes</td><td>Road-650 Black, 44</td><td>1080</td><td>28</td><td>2</td></tr><tr><td>Bikes</td><td>Touring-2000 Blue, 54</td><td>1010</td><td>29</td><td>2</td></tr><tr><td>Bikes</td><td>Touring-1000 Yellow, 46</td><td>1005</td><td>30</td><td>2</td></tr><tr><td>Bikes</td><td>Touring-1000 Blue, 46</td><td>1002</td><td>31</td><td>2</td></tr><tr><td>Bikes</td><td>Road-250 Red, 58</td><td>946</td><td>32</td><td>2</td></tr><tr><td>Bikes</td><td>Road-350-W Yellow, 42</td><td>944</td><td>33</td><td>2</td></tr><tr><td>Bikes</td><td>Road-550-W Yellow, 44</td><td>927</td><td>34</td><td>2</td></tr><tr><td>Bikes</td><td>Road-250 Black, 58</td><td>910</td><td>35</td><td>2</td></tr><tr><td>Bikes</td><td>Road-250 Red, 44</td><td>895</td><td>36</td><td>2</td></tr><tr><td>Bikes</td><td>Road-750 Black, 58</td><td>892</td><td>37</td><td>2</td></tr><tr><td>Bikes</td><td>Touring-3000 Yellow, 44</td><td>851</td><td>38</td><td>2</td></tr><tr><td>Bikes</td><td>Touring-3000 Yellow, 62</td><td>844</td><td>39</td><td>2</td></tr><tr><td>Bikes</td><td>Touring-3000 Blue, 50</td><td>841</td><td>40</td><td>2</td></tr><tr><td>Bikes</td><td>Touring-2000 Blue, 60</td><td>820</td><td>41</td><td>3</td></tr><tr><td>Bikes</td><td>Road-250 Red, 48</td><td>812</td><td>42</td><td>3</td></tr><tr><td>Bikes</td><td>Mountain-300 Black, 40</td><td>776</td><td>43</td><td>3</td></tr><tr><td>Bikes</td><td>Mountain-300 Black, 44</td><td>747</td><td>44</td><td>3</td></tr><tr><td>Bikes</td><td>Mountain-300 Black, 48</td><td>740</td><td>45</td><td>3</td></tr><tr><td>Bikes</td><td>Road-450 Red, 52</td><td>710</td><td>46</td><td>3</td></tr><tr><td>Bikes</td><td>Touring-3000 Blue, 54</td><td>686</td><td>47</td><td>3</td></tr><tr><td>Bikes</td><td>Touring-3000 Yellow, 50</td><td>686</td><td>47</td><td>3</td></tr><tr><td>Bikes</td><td>Mountain-300 Black, 38</td><td>684</td><td>49</td><td>3</td></tr><tr><td>Bikes</td><td>Mountain-100 Black, 38</td><td>682</td><td>50</td><td>3</td></tr><tr><td>Bikes</td><td>Mountain-100 Black, 44</td><td>678</td><td>51</td><td>3</td></tr><tr><td>Bikes</td><td>Road-150 Red, 56</td><td>664</td><td>52</td><td>3</td></tr><tr><td>Bikes</td><td>Road-750 Black, 44</td><td>656</td><td>53</td><td>3</td></tr><tr><td>Bikes</td><td>Touring-1000 Yellow, 50</td><td>652</td><td>54</td><td>3</td></tr><tr><td>Bikes</td><td>Touring-1000 Blue, 50</td><td>649</td><td>55</td><td>3</td></tr><tr><td>Bikes</td><td>Road-650 Black, 48</td><td>644</td><td>56</td><td>3</td></tr><tr><td>Bikes</td><td>Road-650 Black, 62</td><td>644</td><td>56</td><td>3</td></tr><tr><td>Bikes</td><td>Mountain-100 Silver, 38</td><td>642</td><td>58</td><td>3</td></tr><tr><td>Bikes</td><td>Road-250 Red, 52</td><td>639</td><td>59</td><td>3</td></tr><tr><td>Bikes</td><td>Mountain-100 Black, 42</td><td>634</td><td>60</td><td>4</td></tr><tr><td>Bikes</td><td>Road-650 Red, 58</td><td>618</td><td>61</td><td>4</td></tr><tr><td>Bikes</td><td>Mountain-400-W Silver, 40</td><td>617</td><td>62</td><td>4</td></tr><tr><td>Bikes</td><td>Mountain-100 Black, 48</td><td>616</td><td>63</td><td>4</td></tr><tr><td>Bikes</td><td>Mountain-100 Silver, 44</td><td>601</td><td>64</td><td>4</td></tr><tr><td>Bikes</td><td>Road-150 Red, 62</td><td>600</td><td>65</td><td>4</td></tr><tr><td>Bikes</td><td>Mountain-100 Silver, 42</td><td>593</td><td>66</td><td>4</td></tr><tr><td>Bikes</td><td>Road-450 Red, 58</td><td>582</td><td>67</td><td>4</td></tr><tr><td>Bikes</td><td>Touring-2000 Blue, 46</td><td>538</td><td>68</td><td>4</td></tr><tr><td>Bikes</td><td>Road-350-W Yellow, 44</td><td>536</td><td>69</td><td>4</td></tr><tr><td>Bikes</td><td>Mountain-500 Silver, 52</td><td>515</td><td>70</td><td>4</td></tr><tr><td>Bikes</td><td>Mountain-100 Silver, 48</td><td>505</td><td>71</td><td>4</td></tr><tr><td>Bikes</td><td>Road-150 Red, 48</td><td>493</td><td>72</td><td>4</td></tr><tr><td>Bikes</td><td>Touring-3000 Blue, 58</td><td>482</td><td>73</td><td>4</td></tr><tr><td>Bikes</td><td>Road-150 Red, 52</td><td>458</td><td>74</td><td>4</td></tr><tr><td>Bikes</td><td>Mountain-500 Silver, 48</td><td>457</td><td>75</td><td>4</td></tr><tr><td>Bikes</td><td>Mountain-500 Silver, 42</td><td>455</td><td>76</td><td>4</td></tr><tr><td>Bikes</td><td>Touring-3000 Yellow, 54</td><td>453</td><td>77</td><td>4</td></tr><tr><td>Bikes</td><td>Mountain-500 Silver, 40</td><td>450</td><td>78</td><td>4</td></tr><tr><td>Bikes</td><td>Mountain-500 Black, 48</td><td>449</td><td>79</td><td>5</td></tr><tr><td>Bikes</td><td>Road-150 Red, 44</td><td>437</td><td>80</td><td>5</td></tr><tr><td>Bikes</td><td>Mountain-400-W Silver, 38</td><td>425</td><td>81</td><td>5</td></tr><tr><td>Bikes</td><td>Touring-1000 Blue, 54</td><td>413</td><td>82</td><td>5</td></tr><tr><td>Bikes</td><td>Mountain-400-W Silver, 46</td><td>401</td><td>83</td><td>5</td></tr><tr><td>Bikes</td><td>Touring-1000 Yellow, 54</td><td>397</td><td>84</td><td>5</td></tr><tr><td>Bikes</td><td>Mountain-500 Black, 42</td><td>388</td><td>85</td><td>5</td></tr><tr><td>Bikes</td><td>Mountain-400-W Silver, 42</td><td>385</td><td>86</td><td>5</td></tr><tr><td>Bikes</td><td>Mountain-500 Silver, 44</td><td>381</td><td>87</td><td>5</td></tr><tr><td>Bikes</td><td>Mountain-500 Black, 44</td><td>350</td><td>88</td><td>5</td></tr><tr><td>Bikes</td><td>Road-450 Red, 60</td><td>350</td><td>88</td><td>5</td></tr><tr><td>Bikes</td><td>Road-450 Red, 44</td><td>346</td><td>90</td><td>5</td></tr><tr><td>Bikes</td><td>Touring-2000 Blue, 50</td><td>322</td><td>91</td><td>5</td></tr><tr><td>Bikes</td><td>Touring-3000 Yellow, 58</td><td>293</td><td>92</td><td>5</td></tr><tr><td>Bikes</td><td>Touring-3000 Blue, 44</td><td>292</td><td>93</td><td>5</td></tr><tr><td>Bikes</td><td>Mountain-500 Black, 40</td><td>282</td><td>94</td><td>5</td></tr><tr><td>Bikes</td><td>Touring-3000 Blue, 62</td><td>281</td><td>95</td><td>5</td></tr><tr><td>Bikes</td><td>Mountain-500 Black, 52</td><td>272</td><td>96</td><td>5</td></tr><tr><td>Bikes</td><td>Road-450 Red, 48</td><td>156</td><td>97</td><td>5</td></tr><tr><td>Clothing</td><td>AWC Logo Cap</td><td>8311</td><td>1</td><td>1</td></tr><tr><td>Clothing</td><td>Long-Sleeve Logo Jersey, L</td><td>6592</td><td>2</td><td>1</td></tr><tr><td>Clothing</td><td>Classic Vest, S</td><td>4247</td><td>3</td><td>1</td></tr><tr><td>Clothing</td><td>Short-Sleeve Classic Jersey, XL</td><td>3864</td><td>4</td><td>1</td></tr><tr><td>Clothing</td><td>Long-Sleeve Logo Jersey, M</td><td>3636</td><td>5</td><td>1</td></tr><tr><td>Clothing</td><td>Half-Finger Gloves, M</td><td>3464</td><td>6</td><td>1</td></tr><tr><td>Clothing</td><td>Full-Finger Gloves, L</td><td>3378</td><td>7</td><td>1</td></tr><tr><td>Clothing</td><td>Women&#39;s Mountain Shorts, S</td><td>3296</td><td>8</td><td>2</td></tr><tr><td>Clothing</td><td>Women&#39;s Mountain Shorts, L</td><td>3244</td><td>9</td><td>2</td></tr><tr><td>Clothing</td><td>Long-Sleeve Logo Jersey, XL</td><td>2980</td><td>10</td><td>2</td></tr><tr><td>Clothing</td><td>Short-Sleeve Classic Jersey, L</td><td>2848</td><td>11</td><td>2</td></tr><tr><td>Clothing</td><td>Racing Socks, L</td><td>2473</td><td>12</td><td>2</td></tr><tr><td>Clothing</td><td>Classic Vest, M</td><td>2284</td><td>13</td><td>2</td></tr><tr><td>Clothing</td><td>Full-Finger Gloves, M</td><td>2206</td><td>14</td><td>2</td></tr><tr><td>Clothing</td><td>Half-Finger Gloves, S</td><td>2188</td><td>15</td><td>3</td></tr><tr><td>Clothing</td><td>Women&#39;s Tights, L</td><td>2123</td><td>16</td><td>3</td></tr><tr><td>Clothing</td><td>Women&#39;s Tights, S</td><td>2072</td><td>17</td><td>3</td></tr><tr><td>Clothing</td><td>Short-Sleeve Classic Jersey, S</td><td>1955</td><td>18</td><td>3</td></tr><tr><td>Clothing</td><td>Men&#39;s Bib-Shorts, M</td><td>1616</td><td>19</td><td>3</td></tr><tr><td>Clothing</td><td>Racing Socks, M</td><td>1547</td><td>20</td><td>3</td></tr><tr><td>Clothing</td><td>Half-Finger Gloves, L</td><td>1276</td><td>21</td><td>3</td></tr><tr><td>Clothing</td><td>Men&#39;s Sports Shorts, M</td><td>1276</td><td>21</td><td>4</td></tr><tr><td>Clothing</td><td>Women&#39;s Mountain Shorts, M</td><td>1139</td><td>23</td><td>4</td></tr><tr><td>Clothing</td><td>Mountain Bike Socks, M</td><td>1107</td><td>24</td><td>4</td></tr><tr><td>Clothing</td><td>Men&#39;s Bib-Shorts, S</td><td>876</td><td>25</td><td>4</td></tr><tr><td>Clothing</td><td>Men&#39;s Bib-Shorts, L</td><td>633</td><td>26</td><td>4</td></tr><tr><td>Clothing</td><td>Men&#39;s Sports Shorts, S</td><td>567</td><td>27</td><td>4</td></tr><tr><td>Clothing</td><td>Full-Finger Gloves, S</td><td>500</td><td>28</td><td>4</td></tr><tr><td>Clothing</td><td>Men&#39;s Sports Shorts, L</td><td>445</td><td>29</td><td>5</td></tr><tr><td>Clothing</td><td>Long-Sleeve Logo Jersey, S</td><td>429</td><td>30</td><td>5</td></tr><tr><td>Clothing</td><td>Short-Sleeve Classic Jersey, M</td><td>407</td><td>31</td><td>5</td></tr><tr><td>Clothing</td><td>Women&#39;s Tights, M</td><td>394</td><td>32</td><td>5</td></tr><tr><td>Clothing</td><td>Classic Vest, L</td><td>207</td><td>33</td><td>5</td></tr><tr><td>Clothing</td><td>Mountain Bike Socks, L</td><td>90</td><td>34</td><td>5</td></tr><tr><td>Components</td><td>LL Road Frame - Black, 52</td><td>1581</td><td>1</td><td>1</td></tr><tr><td>Components</td><td>ML Mountain Handlebars</td><td>1465</td><td>2</td><td>1</td></tr><tr><td>Components</td><td>ML Road Frame-W - Yellow, 44</td><td>1435</td><td>3</td><td>1</td></tr><tr><td>Components</td><td>HL Mountain Frame - Silver, 38</td><td>1206</td><td>4</td><td>1</td></tr><tr><td>Components</td><td>HL Mountain Frame - Black, 42</td><td>1181</td><td>5</td><td>1</td></tr><tr><td>Components</td><td>LL Road Frame - Red, 60</td><td>996</td><td>6</td><td>1</td></tr><tr><td>Components</td><td>LL Road Frame - Red, 44</td><td>991</td><td>7</td><td>1</td></tr><tr><td>Components</td><td>ML Mountain Frame - Black, 48</td><td>959</td><td>8</td><td>1</td></tr><tr><td>Components</td><td>LL Road Frame - Black, 58</td><td>940</td><td>9</td><td>1</td></tr><tr><td>Components</td><td>ML Mountain Frame-W - Silver, 40</td><td>899</td><td>10</td><td>1</td></tr><tr><td>Components</td><td>ML Road Frame-W - Yellow, 38</td><td>895</td><td>11</td><td>1</td></tr><tr><td>Components</td><td>ML Road Frame-W - Yellow, 48</td><td>889</td><td>12</td><td>1</td></tr><tr><td>Components</td><td>LL Road Rear Wheel</td><td>868</td><td>13</td><td>1</td></tr><tr><td>Components</td><td>LL Road Pedal</td><td>868</td><td>13</td><td>1</td></tr><tr><td>Components</td><td>LL Mountain Handlebars</td><td>865</td><td>15</td><td>1</td></tr><tr><td>Components</td><td>ML Mountain Rear Wheel</td><td>851</td><td>16</td><td>1</td></tr><tr><td>Components</td><td>HL Mountain Rear Wheel</td><td>850</td><td>17</td><td>1</td></tr><tr><td>Components</td><td>Front Derailleur</td><td>813</td><td>18</td><td>1</td></tr><tr><td>Components</td><td>Front Brakes</td><td>789</td><td>19</td><td>1</td></tr><tr><td>Components</td><td>HL Mountain Pedal</td><td>785</td><td>20</td><td>1</td></tr><tr><td>Components</td><td>Chain</td><td>774</td><td>21</td><td>1</td></tr><tr><td>Components</td><td>LL Road Frame - Red, 62</td><td>697</td><td>22</td><td>1</td></tr><tr><td>Components</td><td>HL Road Pedal</td><td>676</td><td>23</td><td>1</td></tr><tr><td>Components</td><td>LL Road Frame - Red, 48</td><td>671</td><td>24</td><td>2</td></tr><tr><td>Components</td><td>ML Road Pedal</td><td>661</td><td>25</td><td>2</td></tr><tr><td>Components</td><td>ML Headset</td><td>659</td><td>26</td><td>2</td></tr><tr><td>Components</td><td>HL Mountain Frame - Black, 38</td><td>659</td><td>26</td><td>2</td></tr><tr><td>Components</td><td>HL Mountain Frame - Silver, 46</td><td>649</td><td>28</td><td>2</td></tr><tr><td>Components</td><td>LL Mountain Frame - Silver, 42</td><td>638</td><td>29</td><td>2</td></tr><tr><td>Components</td><td>HL Road Handlebars</td><td>631</td><td>30</td><td>2</td></tr><tr><td>Components</td><td>ML Mountain Frame-W - Silver, 42</td><td>627</td><td>31</td><td>2</td></tr><tr><td>Components</td><td>LL Mountain Frame - Black, 44</td><td>625</td><td>32</td><td>2</td></tr><tr><td>Components</td><td>ML Mountain Frame - Black, 44</td><td>619</td><td>33</td><td>2</td></tr><tr><td>Components</td><td>LL Mountain Front Wheel</td><td>617</td><td>34</td><td>2</td></tr><tr><td>Components</td><td>HL Crankset</td><td>613</td><td>35</td><td>2</td></tr><tr><td>Components</td><td>HL Road Front Wheel</td><td>567</td><td>36</td><td>2</td></tr><tr><td>Components</td><td>HL Bottom Bracket</td><td>543</td><td>37</td><td>2</td></tr><tr><td>Components</td><td>HL Touring Frame - Blue, 54</td><td>542</td><td>38</td><td>2</td></tr><tr><td>Components</td><td>HL Touring Frame - Yellow, 54</td><td>540</td><td>39</td><td>2</td></tr><tr><td>Components</td><td>ML Mountain Seat/Saddle</td><td>534</td><td>40</td><td>2</td></tr><tr><td>Components</td><td>ML Road Front Wheel</td><td>532</td><td>41</td><td>2</td></tr><tr><td>Components</td><td>HL Mountain Seat/Saddle</td><td>519</td><td>42</td><td>2</td></tr><tr><td>Components</td><td>ML Mountain Frame - Black, 38</td><td>514</td><td>43</td><td>2</td></tr><tr><td>Components</td><td>HL Mountain Handlebars</td><td>500</td><td>44</td><td>2</td></tr><tr><td>Components</td><td>HL Road Frame - Red, 44</td><td>486</td><td>45</td><td>2</td></tr><tr><td>Components</td><td>HL Road Frame - Red, 62</td><td>485</td><td>46</td><td>3</td></tr><tr><td>Components</td><td>HL Road Frame - Black, 44</td><td>459</td><td>47</td><td>3</td></tr><tr><td>Components</td><td>LL Mountain Pedal</td><td>449</td><td>48</td><td>3</td></tr><tr><td>Components</td><td>HL Fork</td><td>444</td><td>49</td><td>3</td></tr><tr><td>Components</td><td>LL Mountain Frame - Silver, 40</td><td>442</td><td>50</td><td>3</td></tr><tr><td>Components</td><td>LL Crankset</td><td>426</td><td>51</td><td>3</td></tr><tr><td>Components</td><td>HL Touring Seat/Saddle</td><td>426</td><td>51</td><td>3</td></tr><tr><td>Components</td><td>LL Mountain Frame - Silver, 52</td><td>425</td><td>53</td><td>3</td></tr><tr><td>Components</td><td>LL Mountain Frame - Black, 42</td><td>423</td><td>54</td><td>3</td></tr><tr><td>Components</td><td>HL Touring Frame - Yellow, 60</td><td>387</td><td>55</td><td>3</td></tr><tr><td>Components</td><td>LL Mountain Frame - Black, 48</td><td>386</td><td>56</td><td>3</td></tr><tr><td>Components</td><td>LL Bottom Bracket</td><td>378</td><td>57</td><td>3</td></tr><tr><td>Components</td><td>HL Touring Frame - Blue, 60</td><td>371</td><td>58</td><td>3</td></tr><tr><td>Components</td><td>LL Mountain Frame - Silver, 44</td><td>371</td><td>58</td><td>3</td></tr><tr><td>Components</td><td>Rear Derailleur</td><td>353</td><td>60</td><td>3</td></tr><tr><td>Components</td><td>LL Touring Frame - Yellow, 62</td><td>348</td><td>61</td><td>3</td></tr><tr><td>Components</td><td>LL Mountain Seat/Saddle</td><td>347</td><td>62</td><td>3</td></tr><tr><td>Components</td><td>HL Mountain Frame - Silver, 42</td><td>347</td><td>62</td><td>3</td></tr><tr><td>Components</td><td>ML Mountain Pedal</td><td>345</td><td>64</td><td>3</td></tr><tr><td>Components</td><td>LL Mountain Rear Wheel</td><td>342</td><td>65</td><td>3</td></tr><tr><td>Components</td><td>LL Touring Frame - Blue, 50</td><td>316</td><td>66</td><td>3</td></tr><tr><td>Components</td><td>LL Touring Frame - Yellow, 44</td><td>294</td><td>67</td><td>3</td></tr><tr><td>Components</td><td>ML Mountain Front Wheel</td><td>266</td><td>68</td><td>4</td></tr><tr><td>Components</td><td>HL Headset</td><td>255</td><td>69</td><td>4</td></tr><tr><td>Components</td><td>ML Road Frame - Red, 48</td><td>250</td><td>70</td><td>4</td></tr><tr><td>Components</td><td>Rear Brakes</td><td>246</td><td>71</td><td>4</td></tr><tr><td>Components</td><td>LL Road Frame - Black, 44</td><td>238</td><td>72</td><td>4</td></tr><tr><td>Components</td><td>LL Touring Frame - Yellow, 50</td><td>228</td><td>73</td><td>4</td></tr><tr><td>Components</td><td>HL Mountain Front Wheel</td><td>222</td><td>74</td><td>4</td></tr><tr><td>Components</td><td>HL Touring Handlebars</td><td>220</td><td>75</td><td>4</td></tr><tr><td>Components</td><td>LL Road Handlebars</td><td>213</td><td>76</td><td>4</td></tr><tr><td>Components</td><td>LL Touring Frame - Blue, 54</td><td>211</td><td>77</td><td>4</td></tr><tr><td>Components</td><td>ML Road Frame-W - Yellow, 40</td><td>203</td><td>78</td><td>4</td></tr><tr><td>Components</td><td>LL Fork</td><td>190</td><td>79</td><td>4</td></tr><tr><td>Components</td><td>ML Mountain Frame-W - Silver, 46</td><td>188</td><td>80</td><td>4</td></tr><tr><td>Components</td><td>HL Mountain Frame - Silver, 48</td><td>173</td><td>81</td><td>4</td></tr><tr><td>Components</td><td>Touring Pedal</td><td>147</td><td>82</td><td>4</td></tr><tr><td>Components</td><td>HL Road Seat/Saddle</td><td>134</td><td>83</td><td>4</td></tr><tr><td>Components</td><td>HL Mountain Frame - Black, 48</td><td>131</td><td>84</td><td>4</td></tr><tr><td>Components</td><td>LL Road Frame - Black, 60</td><td>129</td><td>85</td><td>4</td></tr><tr><td>Components</td><td>HL Touring Frame - Blue, 50</td><td>124</td><td>86</td><td>4</td></tr><tr><td>Components</td><td>HL Touring Frame - Blue, 46</td><td>114</td><td>87</td><td>4</td></tr><tr><td>Components</td><td>HL Road Frame - Black, 48</td><td>109</td><td>88</td><td>4</td></tr><tr><td>Components</td><td>HL Road Frame - Red, 48</td><td>109</td><td>88</td><td>4</td></tr><tr><td>Components</td><td>LL Road Frame - Red, 52</td><td>100</td><td>90</td><td>5</td></tr><tr><td>Components</td><td>LL Headset</td><td>95</td><td>91</td><td>5</td></tr><tr><td>Components</td><td>HL Road Rear Wheel</td><td>94</td><td>92</td><td>5</td></tr><tr><td>Components</td><td>LL Touring Seat/Saddle</td><td>91</td><td>93</td><td>5</td></tr><tr><td>Components</td><td>ML Road Frame - Red, 52</td><td>90</td><td>94</td><td>5</td></tr><tr><td>Components</td><td>HL Touring Frame - Yellow, 46</td><td>87</td><td>95</td><td>5</td></tr><tr><td>Components</td><td>ML Touring Seat/Saddle</td><td>84</td><td>96</td><td>5</td></tr><tr><td>Components</td><td>HL Touring Frame - Yellow, 50</td><td>83</td><td>97</td><td>5</td></tr><tr><td>Components</td><td>ML Mountain Frame - Black, 40</td><td>68</td><td>98</td><td>5</td></tr><tr><td>Components</td><td>ML Crankset</td><td>68</td><td>98</td><td>5</td></tr><tr><td>Components</td><td>ML Road Rear Wheel</td><td>64</td><td>100</td><td>5</td></tr><tr><td>Components</td><td>LL Touring Handlebars</td><td>56</td><td>101</td><td>5</td></tr><tr><td>Components</td><td>LL Mountain Frame - Silver, 48</td><td>44</td><td>102</td><td>5</td></tr><tr><td>Components</td><td>LL Touring Frame - Yellow, 58</td><td>36</td><td>103</td><td>5</td></tr><tr><td>Components</td><td>LL Touring Frame - Blue, 44</td><td>25</td><td>104</td><td>5</td></tr><tr><td>Components</td><td>HL Mountain Frame - Black, 44</td><td>17</td><td>105</td><td>5</td></tr><tr><td>Components</td><td>LL Touring Frame - Blue, 62</td><td>15</td><td>106</td><td>5</td></tr><tr><td>Components</td><td>LL Mountain Frame - Black, 52</td><td>15</td><td>106</td><td>5</td></tr><tr><td>Components</td><td>LL Road Seat/Saddle</td><td>10</td><td>108</td><td>5</td></tr><tr><td>Components</td><td>LL Mountain Frame - Black, 40</td><td>8</td><td>109</td><td>5</td></tr><tr><td>Components</td><td>ML Mountain Frame-W - Silver, 38</td><td>7</td><td>110</td><td>5</td></tr><tr><td>Components</td><td>LL Touring Frame - Blue, 58</td><td>4</td><td>111</td><td>5</td></tr></table>"
                    },
                    "metadata": {}
                }
            ],
            "execution_count": 2
        }
    ]
}